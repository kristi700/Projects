{
 "cells": [
  {
   "cell_type": "code",
   "execution_count": 30,
   "metadata": {},
   "outputs": [],
   "source": [
    "import torch\n",
    "from torch import Tensor\n",
    "from torch_geometric.nn import GCNConv\n",
    "from torch_geometric.datasets import Planetoid"
   ]
  },
  {
   "cell_type": "code",
   "execution_count": 44,
   "metadata": {},
   "outputs": [],
   "source": [
    "dataset = Planetoid(root='.', name='Cora')\n",
    "\n",
    "class GCN(torch.nn.Module):\n",
    "    def __init__(self, in_channels, hidden_channels, out_channels):\n",
    "        super().__init__()\n",
    "        self.conv1 = GCNConv(in_channels, hidden_channels)\n",
    "        self.conv2 = GCNConv(hidden_channels, hidden_channels)\n",
    "        self.mlp = torch.nn.Sequential(\n",
    "            torch.nn.Linear(hidden_channels, out_channels)\n",
    "        )\n",
    "\n",
    "    def forward(self, x, edge_index):\n",
    "        x = self.conv1(x, edge_index).relu()\n",
    "        x = self.conv2(x, edge_index).relu()\n",
    "        x = self.mlp(x)\n",
    "        return x\n",
    "\n",
    "model = GCN(dataset.num_features, 16, dataset.num_classes)\n",
    "optimizer = torch.optim.Adam(model.parameters(), lr=0.01, weight_decay=5e-4)\n",
    "criterion = torch.nn.CrossEntropyLoss()"
   ]
  },
  {
   "cell_type": "code",
   "execution_count": 45,
   "metadata": {},
   "outputs": [],
   "source": [
    "data = dataset[0]"
   ]
  },
  {
   "cell_type": "code",
   "execution_count": 46,
   "metadata": {},
   "outputs": [],
   "source": [
    "train_mask = data.train_mask\n",
    "test_mask = data.test_mask\n",
    "val_mask = data.val_mask"
   ]
  },
  {
   "cell_type": "code",
   "execution_count": 47,
   "metadata": {},
   "outputs": [],
   "source": [
    "verbose=1"
   ]
  },
  {
   "cell_type": "code",
   "execution_count": 48,
   "metadata": {},
   "outputs": [
    {
     "name": "stdout",
     "output_type": "stream",
     "text": [
      "Epoch: 10; Training loss: 1.3323352336883545\n",
      "Epoch: 10; Val loss: 1.486135482788086\n",
      "Epoch: 20; Training loss: 0.28133058547973633\n",
      "Epoch: 20; Val loss: 0.9605183601379395\n"
     ]
    },
    {
     "name": "stdout",
     "output_type": "stream",
     "text": [
      "Epoch: 30; Training loss: 0.01728327013552189\n",
      "Epoch: 30; Val loss: 0.9047530889511108\n",
      "Epoch: 40; Training loss: 0.0033787221182137728\n",
      "Epoch: 40; Val loss: 0.9759785532951355\n",
      "Epoch: 50; Training loss: 0.0027165785431861877\n",
      "Epoch: 50; Val loss: 0.9365189075469971\n",
      "Epoch: 60; Training loss: 0.0039945743046700954\n",
      "Epoch: 60; Val loss: 0.8942247033119202\n",
      "Epoch: 70; Training loss: 0.00594038050621748\n",
      "Epoch: 70; Val loss: 0.8470942974090576\n",
      "Epoch: 80; Training loss: 0.006958681624382734\n",
      "Epoch: 80; Val loss: 0.8228334784507751\n",
      "Epoch: 90; Training loss: 0.006824422162026167\n",
      "Epoch: 90; Val loss: 0.8138474822044373\n",
      "Epoch: 100; Training loss: 0.006348318420350552\n",
      "Epoch: 100; Val loss: 0.8136910200119019\n",
      "Epoch: 110; Training loss: 0.00593660119920969\n",
      "Epoch: 110; Val loss: 0.8159820437431335\n",
      "Epoch: 120; Training loss: 0.005590224638581276\n",
      "Epoch: 120; Val loss: 0.817695140838623\n",
      "Epoch: 130; Training loss: 0.005276016425341368\n",
      "Epoch: 130; Val loss: 0.8190866708755493\n",
      "Epoch: 140; Training loss: 0.005040222778916359\n",
      "Epoch: 140; Val loss: 0.8205568790435791\n",
      "Epoch: 150; Training loss: 0.004835962783545256\n",
      "Epoch: 150; Val loss: 0.8219720125198364\n",
      "Epoch: 160; Training loss: 0.004657281097024679\n",
      "Epoch: 160; Val loss: 0.8247381448745728\n",
      "Epoch: 170; Training loss: 0.004496110137552023\n",
      "Epoch: 170; Val loss: 0.8276354074478149\n",
      "Epoch: 180; Training loss: 0.004350854549556971\n",
      "Epoch: 180; Val loss: 0.8307268023490906\n",
      "Epoch: 190; Training loss: 0.00421914691105485\n",
      "Epoch: 190; Val loss: 0.8337559700012207\n",
      "Epoch: 200; Training loss: 0.00409882003441453\n",
      "Epoch: 200; Val loss: 0.8367494940757751\n"
     ]
    }
   ],
   "source": [
    "for i in range(1, 201):\n",
    "    model.train()\n",
    "    optimizer.zero_grad()\n",
    "    pred=model(data.x, data.edge_index)\n",
    "    loss=criterion(pred[train_mask], data.y[train_mask])\n",
    "    loss.backward()\n",
    "    optimizer.step()\n",
    "    if i %10 ==0 and verbose > 0:\n",
    "        print(f\"Epoch: {i}; Training loss: {loss}\")\n",
    "\n",
    "    if i %10 ==0 and verbose > 0:\n",
    "        model.eval()\n",
    "        with torch.no_grad():\n",
    "            pred=model(data.x, data.edge_index)\n",
    "            loss=criterion(pred[val_mask], data.y[val_mask]) \n",
    "            print(f\"Epoch: {i}; Val loss: {loss}\")      "
   ]
  },
  {
   "cell_type": "code",
   "execution_count": 49,
   "metadata": {},
   "outputs": [
    {
     "name": "stdout",
     "output_type": "stream",
     "text": [
      "Test Accuracy: 0.7800\n"
     ]
    }
   ],
   "source": [
    "model.eval()\n",
    "with torch.no_grad():\n",
    "    logits = model(data.x, data.edge_index)\n",
    "    test_preds = logits[test_mask].argmax(dim=1)\n",
    "    test_acc = (test_preds == data.y[test_mask]).float().mean().item()\n",
    "print(f\"Test Accuracy: {test_acc:.4f}\")"
   ]
  },
  {
   "cell_type": "code",
   "execution_count": 50,
   "metadata": {},
   "outputs": [],
   "source": [
    "# The performance is for with the mlp as without it "
   ]
  },
  {
   "cell_type": "code",
   "execution_count": null,
   "metadata": {},
   "outputs": [],
   "source": []
  }
 ],
 "metadata": {
  "kernelspec": {
   "display_name": "base",
   "language": "python",
   "name": "python3"
  },
  "language_info": {
   "codemirror_mode": {
    "name": "ipython",
    "version": 3
   },
   "file_extension": ".py",
   "mimetype": "text/x-python",
   "name": "python",
   "nbconvert_exporter": "python",
   "pygments_lexer": "ipython3",
   "version": "3.10.13"
  }
 },
 "nbformat": 4,
 "nbformat_minor": 2
}
