{
 "cells": [
  {
   "cell_type": "code",
   "execution_count": 2,
   "metadata": {},
   "outputs": [
    {
     "name": "stderr",
     "output_type": "stream",
     "text": [
      "/opt/conda/lib/python3.10/site-packages/tqdm/auto.py:21: TqdmWarning: IProgress not found. Please update jupyter and ipywidgets. See https://ipywidgets.readthedocs.io/en/stable/user_install.html\n",
      "  from .autonotebook import tqdm as notebook_tqdm\n"
     ]
    }
   ],
   "source": [
    "import torch\n",
    "import torch.nn as nn\n",
    "from torch_geometric.datasets import TUDataset\n",
    "from torch_geometric.loader import DataLoader\n",
    "from torch_geometric.nn import GCNConv, GATConv, SAGEConv, TopKPooling, global_mean_pool\n",
    "\n",
    "dataset = TUDataset(root='.', name='PROTEINS')"
   ]
  },
  {
   "cell_type": "code",
   "execution_count": 3,
   "metadata": {},
   "outputs": [],
   "source": [
    "torch.manual_seed(42)\n",
    "dataset = dataset.shuffle()\n",
    "train_size = int(len(dataset) * 0.7)\n",
    "val_size = int(len(dataset) * 0.15)\n",
    "test_size = len(dataset) - train_size - val_size\n",
    "\n",
    "train_dataset = dataset[:train_size]\n",
    "val_dataset = dataset[train_size:train_size+val_size]\n",
    "test_dataset = dataset[train_size+val_size:]\n",
    "\n",
    "train_loader = DataLoader(train_dataset, batch_size=32, shuffle=True)\n",
    "val_loader = DataLoader(val_dataset, batch_size=32, shuffle=False)\n",
    "test_loader = DataLoader(test_dataset, batch_size=32, shuffle=False)"
   ]
  },
  {
   "cell_type": "code",
   "execution_count": 4,
   "metadata": {},
   "outputs": [],
   "source": [
    "class DynamicGNN(nn.Module):\n",
    "    def __init__(self, in_channels, hidden_channels, out_channels,\n",
    "                 num_layers=3, layer_type='GCN', pool_ratio=0.8):\n",
    "        super().__init__()\n",
    "        conv_dict = {'GCN': GCNConv, 'GAT': GATConv, 'SAGE': SAGEConv}\n",
    "        conv_layer = conv_dict[layer_type]\n",
    "        \n",
    "        self.convs = nn.ModuleList()\n",
    "        self.pools = nn.ModuleList()\n",
    "        \n",
    "        self.convs.append(conv_layer(in_channels, hidden_channels))\n",
    "        self.pools.append(TopKPooling(hidden_channels, ratio=pool_ratio))\n",
    "        \n",
    "        for _ in range(num_layers - 2):\n",
    "            self.convs.append(conv_layer(hidden_channels, hidden_channels))\n",
    "            self.pools.append(TopKPooling(hidden_channels, ratio=pool_ratio))\n",
    "            \n",
    "        if num_layers > 1:\n",
    "            self.convs.append(conv_layer(hidden_channels, hidden_channels))\n",
    "        else:\n",
    "            self.convs[0] = conv_layer(in_channels, hidden_channels)\n",
    "        self.classifier = nn.Linear(hidden_channels, out_channels)\n",
    "\n",
    "    def forward(self, x, edge_index, batch):      \n",
    "        for i, (conv, pool) in enumerate(zip(self.convs[:-1], self.pools)):\n",
    "            x = conv(x, edge_index)\n",
    "            x = x.relu()\n",
    "            x, edge_index, _, batch, _, _ = pool(x, edge_index, None, batch)\n",
    "\n",
    "        x = self.convs[-1](x, edge_index)\n",
    "        x = x.relu()        \n",
    "        x = global_mean_pool(x, batch)\n",
    "        x = self.classifier(x)\n",
    "        \n",
    "        return x\n"
   ]
  },
  {
   "cell_type": "code",
   "execution_count": 5,
   "metadata": {},
   "outputs": [],
   "source": [
    "num_features = dataset.num_features\n",
    "num_classes = dataset.num_classes\n",
    "model = DynamicGNN(\n",
    "    in_channels=num_features, \n",
    "    hidden_channels=16, \n",
    "    out_channels=num_classes,\n",
    "    num_layers=3, \n",
    "    layer_type='SAGE'\n",
    ")\n",
    "\n",
    "optimizer = torch.optim.Adam(model.parameters(), lr=0.01, weight_decay=5e-4)\n",
    "criterion = torch.nn.CrossEntropyLoss()"
   ]
  },
  {
   "cell_type": "code",
   "execution_count": 6,
   "metadata": {},
   "outputs": [
    {
     "name": "stdout",
     "output_type": "stream",
     "text": [
      "Epoch: 10; Train loss: 0.6337; Val loss: 0.6701; Val acc: 0.6566\n",
      "Epoch: 20; Train loss: 0.6303; Val loss: 0.6110; Val acc: 0.6566\n",
      "Epoch: 30; Train loss: 0.6053; Val loss: 0.6280; Val acc: 0.6747\n",
      "Epoch: 40; Train loss: 0.5891; Val loss: 0.6085; Val acc: 0.7108\n",
      "Epoch: 50; Train loss: 0.5970; Val loss: 0.6133; Val acc: 0.6867\n",
      "Epoch: 60; Train loss: 0.5767; Val loss: 0.6160; Val acc: 0.7048\n",
      "Epoch: 70; Train loss: 0.5783; Val loss: 0.6137; Val acc: 0.6988\n",
      "Epoch: 80; Train loss: 0.5929; Val loss: 0.6479; Val acc: 0.6145\n",
      "Epoch: 90; Train loss: 0.5769; Val loss: 0.6085; Val acc: 0.6867\n",
      "Epoch: 100; Train loss: 0.5712; Val loss: 0.6271; Val acc: 0.6386\n",
      "Epoch: 110; Train loss: 0.5709; Val loss: 0.6397; Val acc: 0.6687\n",
      "Epoch: 120; Train loss: 0.5750; Val loss: 0.6218; Val acc: 0.7229\n",
      "Epoch: 130; Train loss: 0.5699; Val loss: 0.6281; Val acc: 0.7048\n",
      "Epoch: 140; Train loss: 0.5722; Val loss: 0.6233; Val acc: 0.6988\n",
      "Epoch: 150; Train loss: 0.5682; Val loss: 0.6306; Val acc: 0.6627\n",
      "Epoch: 160; Train loss: 0.5644; Val loss: 0.6152; Val acc: 0.6867\n",
      "Epoch: 170; Train loss: 0.5595; Val loss: 0.6090; Val acc: 0.6747\n",
      "Epoch: 180; Train loss: 0.5619; Val loss: 0.6229; Val acc: 0.6747\n",
      "Epoch: 190; Train loss: 0.5515; Val loss: 0.6308; Val acc: 0.6687\n",
      "Epoch: 200; Train loss: 0.5523; Val loss: 0.6326; Val acc: 0.6687\n"
     ]
    }
   ],
   "source": [
    "for epoch in range(1, 201):\n",
    "    model.train()\n",
    "    total_loss = 0\n",
    "    \n",
    "    for data in train_loader:\n",
    "        optimizer.zero_grad()\n",
    "        pred = model(data.x, data.edge_index, data.batch)\n",
    "        loss = criterion(pred, data.y)\n",
    "        loss.backward()\n",
    "        optimizer.step()\n",
    "        total_loss += loss.item() * data.num_graphs\n",
    "    \n",
    "    train_loss = total_loss / len(train_dataset)\n",
    "    \n",
    "    if epoch % 10 == 0:\n",
    "        model.eval()\n",
    "        correct = 0\n",
    "        val_loss = 0\n",
    "        \n",
    "        with torch.no_grad():\n",
    "            for data in val_loader:\n",
    "                pred = model(data.x, data.edge_index, data.batch)\n",
    "                val_loss += criterion(pred, data.y).item() * data.num_graphs\n",
    "                correct += pred.argmax(dim=1).eq(data.y).sum().item()\n",
    "        \n",
    "        val_loss = val_loss / len(val_dataset)\n",
    "        val_acc = correct / len(val_dataset)\n",
    "        \n",
    "        print(f\"Epoch: {epoch}; Train loss: {train_loss:.4f}; Val loss: {val_loss:.4f}; Val acc: {val_acc:.4f}\")"
   ]
  },
  {
   "cell_type": "code",
   "execution_count": 7,
   "metadata": {},
   "outputs": [
    {
     "name": "stdout",
     "output_type": "stream",
     "text": [
      "Test Loss: 0.5821\n",
      "Test Accuracy: 0.7321\n"
     ]
    }
   ],
   "source": [
    "model.eval()\n",
    "test_correct = 0\n",
    "test_loss = 0\n",
    "\n",
    "with torch.no_grad():\n",
    "    for data in test_loader:\n",
    "        pred = model(data.x, data.edge_index, data.batch)\n",
    "        test_loss += criterion(pred, data.y).item() * data.num_graphs\n",
    "        test_correct += pred.argmax(dim=1).eq(data.y).sum().item()\n",
    "\n",
    "test_loss = test_loss / len(test_dataset)\n",
    "test_acc = test_correct / len(test_dataset)\n",
    "\n",
    "print(f\"Test Loss: {test_loss:.4f}\")\n",
    "print(f\"Test Accuracy: {test_acc:.4f}\")"
   ]
  }
 ],
 "metadata": {
  "kernelspec": {
   "display_name": "base",
   "language": "python",
   "name": "python3"
  },
  "language_info": {
   "codemirror_mode": {
    "name": "ipython",
    "version": 3
   },
   "file_extension": ".py",
   "mimetype": "text/x-python",
   "name": "python",
   "nbconvert_exporter": "python",
   "pygments_lexer": "ipython3",
   "version": "3.10.13"
  }
 },
 "nbformat": 4,
 "nbformat_minor": 2
}
