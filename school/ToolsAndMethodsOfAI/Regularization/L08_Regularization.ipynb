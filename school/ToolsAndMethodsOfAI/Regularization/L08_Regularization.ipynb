{
  "cells": [
    {
      "cell_type": "markdown",
      "metadata": {
        "id": "qvBnAsf6rgWf"
      },
      "source": [
        "<img src=\"https://github.com/Fortuz/edu_Adaptive/blob/main/practices/assets/logo.png?raw=1\" width=\"800\">"
      ]
    },
    {
      "cell_type": "markdown",
      "metadata": {
        "id": "qlJlO0NQrgWg"
      },
      "source": [
        "Made by **Balázs Nagy** and **Márk Domokos**\n",
        "\n",
        "[<img src=\"https://github.com/Fortuz/edu_Adaptive/blob/main/practices/assets/open_button.png?raw=1\">](https://colab.research.google.com/github/Fortuz/edu_Adaptive/blob/main/practices/L08%20-%20Regularization_solved.ipynb)\n",
        "\n",
        "# Labor 08 - Regularisation of Linear Regression and Bias - Variance\n",
        "\n",
        "### Water flow\n",
        "\n",
        "In the first part of the exercise, a linear regression is implemented to predict the amount of water spilled from a tank based on how much water is in the tank. In the second half of the exercise, we observe the debugging of the learning algorithms and the bias and variance type errors."
      ]
    },
    {
      "cell_type": "markdown",
      "metadata": {
        "id": "lSOxF3yvrgWh"
      },
      "source": [
        "### 1: Import, load and visualise data"
      ]
    },
    {
      "cell_type": "code",
      "execution_count": 3,
      "metadata": {
        "id": "rq8St_3prgWh"
      },
      "outputs": [],
      "source": [
        "import numpy as np\n",
        "import matplotlib.pyplot as plt\n",
        "from scipy.io import loadmat\n",
        "import scipy.optimize as op\n",
        "\n",
        "# keras imports for the dataset and building our neural network\n",
        "from keras.models import Sequential\n",
        "from keras.layers import Dense, Activation\n",
        "from keras import regularizers\n",
        "from keras import optimizers\n",
        "\n",
        "\n",
        "from numpy.random import seed\n",
        "# Since this nootebook contains a random initialization it is advised to fix the seed, to get always the same random results\n",
        "seed(1)"
      ]
    },
    {
      "cell_type": "markdown",
      "metadata": {
        "id": "NaqeqEWmrgWi"
      },
      "source": [
        "### 2: Load data"
      ]
    },
    {
      "cell_type": "markdown",
      "metadata": {
        "id": "kJPEFUVorgWi"
      },
      "source": [
        "The data will be loaded from a publicly available file. An alternative solution would be to upload the data file directly to the google colab file system."
      ]
    },
    {
      "cell_type": "code",
      "execution_count": 4,
      "metadata": {
        "id": "CjTrcjNcrgWi"
      },
      "outputs": [
        {
          "name": "stdout",
          "output_type": "stream",
          "text": [
            "--2025-01-11 09:26:45--  https://github.com/Fortuz/edu_Adaptive/raw/main/practices/assets/Lab08/Lab8data.mat\n",
            "Resolving github.com (github.com)... 140.82.121.4\n",
            "Connecting to github.com (github.com)|140.82.121.4|:443... connected.\n",
            "HTTP request sent, awaiting response... 302 Found\n",
            "Location: https://raw.githubusercontent.com/Fortuz/edu_Adaptive/main/practices/assets/Lab08/Lab8data.mat [following]\n",
            "--2025-01-11 09:26:45--  https://raw.githubusercontent.com/Fortuz/edu_Adaptive/main/practices/assets/Lab08/Lab8data.mat\n",
            "Resolving raw.githubusercontent.com (raw.githubusercontent.com)... 185.199.111.133, 185.199.110.133, 185.199.109.133, ...\n",
            "Connecting to raw.githubusercontent.com (raw.githubusercontent.com)|185.199.111.133|:443... connected.\n",
            "HTTP request sent, awaiting response... 200 OK\n",
            "Length: 1321 (1.3K) [application/octet-stream]\n",
            "Saving to: ‘Lab8data.mat’\n",
            "\n",
            "Lab8data.mat        100%[===================>]   1.29K  --.-KB/s    in 0s      \n",
            "\n",
            "2025-01-11 09:26:45 (182 MB/s) - ‘Lab8data.mat’ saved [1321/1321]\n",
            "\n",
            "--2025-01-11 09:26:45--  https://github.com/Fortuz/edu_Adaptive/raw/main/practices/assets/Lab08/w_final.txt\n",
            "Resolving github.com (github.com)... 140.82.121.4\n",
            "Connecting to github.com (github.com)|140.82.121.4|:443... connected.\n",
            "HTTP request sent, awaiting response... 302 Found\n",
            "Location: https://raw.githubusercontent.com/Fortuz/edu_Adaptive/main/practices/assets/Lab08/w_final.txt [following]\n",
            "--2025-01-11 09:26:46--  https://raw.githubusercontent.com/Fortuz/edu_Adaptive/main/practices/assets/Lab08/w_final.txt\n",
            "Resolving raw.githubusercontent.com (raw.githubusercontent.com)... 185.199.109.133, 185.199.108.133, 185.199.111.133, ...\n",
            "Connecting to raw.githubusercontent.com (raw.githubusercontent.com)|185.199.109.133|:443... connected.\n",
            "HTTP request sent, awaiting response... 200 OK\n",
            "Length: 155 [text/plain]\n",
            "Saving to: ‘w_final.txt’\n",
            "\n",
            "w_final.txt         100%[===================>]     155  --.-KB/s    in 0s      \n",
            "\n",
            "2025-01-11 09:26:46 (9.00 MB/s) - ‘w_final.txt’ saved [155/155]\n",
            "\n"
          ]
        }
      ],
      "source": [
        "!wget https://github.com/Fortuz/edu_Adaptive/raw/main/practices/assets/Lab08/Lab8data.mat\n",
        "!wget https://github.com/Fortuz/edu_Adaptive/raw/main/practices/assets/Lab08/w_final.txt"
      ]
    },
    {
      "cell_type": "markdown",
      "metadata": {
        "id": "V6Cak6WTrgWi"
      },
      "source": [
        "Load in the data! Use the Pandas package to do this and then convert it into a numpy array."
      ]
    },
    {
      "cell_type": "code",
      "execution_count": 5,
      "metadata": {
        "id": "lgRn6CjJrgWi"
      },
      "outputs": [
        {
          "name": "stdout",
          "output_type": "stream",
          "text": [
            "Shape of X: (12, 1)\n",
            "Shape of Y: (12, 1)\n"
          ]
        }
      ],
      "source": [
        "data = loadmat(\"Lab8data.mat\")\n",
        "X_train = data[\"X\"]\n",
        "Y_train = data[\"y\"]\n",
        "X_val   = data[\"Xval\"]\n",
        "Y_val   = data[\"yval\"]\n",
        "X_test  = data[\"Xtest\"]\n",
        "Y_test  = data[\"ytest\"]\n",
        "\n",
        "del data\n",
        "m,n = X_train.shape\n",
        "print('Shape of X:', X_train.shape)\n",
        "print('Shape of Y:', Y_train.shape)"
      ]
    },
    {
      "cell_type": "markdown",
      "metadata": {
        "id": "PmDOuPoVrgWi"
      },
      "source": [
        "### 3: Visualization\n",
        "\n",
        "Let's vizualise the data set to understand it more."
      ]
    },
    {
      "cell_type": "code",
      "execution_count": 6,
      "metadata": {
        "id": "1LdYRetCrgWk"
      },
      "outputs": [
        {
          "data": {
            "image/png": "[encoded data removed]",
            "text/plain": [
              "<Figure size 640x480 with 1 Axes>"
            ]
          },
          "metadata": {},
          "output_type": "display_data"
        }
      ],
      "source": [
        "plt.plot(X_train,Y_train,'x')\n",
        "plt.title('Training data')\n",
        "plt.xlabel('Change in water level (X)')\n",
        "plt.ylabel('Water floeing out of the dam (Y)')\n",
        "plt.show()"
      ]
    },
    {
      "cell_type": "markdown",
      "metadata": {
        "id": "XqjWGfJ5rgWk"
      },
      "source": [
        "Machine learning goes as far as deep learning. The limit is the single layer neural network. With this in mind, let's return to the punishment process introduced in lab L04, now using neural network packages."
      ]
    },
    {
      "cell_type": "markdown",
      "metadata": {
        "id": "Hgx1W6pCrgWk"
      },
      "source": [
        "### Linearized regression with regularization"
      ]
    },
    {
      "cell_type": "markdown",
      "metadata": {
        "id": "0OnXO_U8rgWk"
      },
      "source": [
        "We will create a network corresponding to a linear regression, which in our case will be based on 1 input variable and will consist of 1 layer containing 1 neuron. The BIAS tag will be added naturally and a penalty tag will be added. Two commonly used penalty methods are L1 and L2.\n",
        "\n",
        "#### L2 regularization (Ridge regression)\n",
        "$ C(w)=\\frac{1}{2m}\\sum_{i=1}^m(h_w(x^i)-y^i)^2+ \\color{red}{\\lambda\\sum_{j=1}^nw_j^2} $\n",
        "\n",
        "This technique can be used to prevent over fitting. $\\lambda $  should be choosen wisely. Setting it too high can result in under fitting.\n",
        "\n",
        "#### L1 regularization (Lasso regression)\n",
        "$ C(w)=\\frac{1}{2m}\\sum_{i=1}^m(h_w(x^i)-y^i)^2+ \\color{red}{\\lambda\\sum_{j=1}^n|w_j|} $\n",
        "\n",
        "This technique can also reduce certain coefficients to 0, so it is useful for input parameter selection."
      ]
    },
    {
      "cell_type": "code",
      "execution_count": 9,
      "metadata": {
        "id": "rVyQlfZNrgWk"
      },
      "outputs": [
        {
          "name": "stdout",
          "output_type": "stream",
          "text": [
            "Epoch 1/100\n"
          ]
        },
        {
          "name": "stderr",
          "output_type": "stream",
          "text": [
            "/usr/local/lib/python3.10/site-packages/keras/src/layers/core/dense.py:87: UserWarning: Do not pass an `input_shape`/`input_dim` argument to a layer. When using Sequential models, prefer using an `Input(shape)` object as the first layer in the model instead.\n",
            "  super().__init__(activity_regularizer=activity_regularizer, **kwargs)\n"
          ]
        },
        {
          "name": "stdout",
          "output_type": "stream",
          "text": [
            "1/1 - 0s - 277ms/step - loss: 3114.5706 - val_loss: 3258.0364\n",
            "Epoch 2/100\n",
            "1/1 - 0s - 35ms/step - loss: 3098.8584 - val_loss: 3241.6426\n",
            "Epoch 3/100\n",
            "1/1 - 0s - 34ms/step - loss: 3083.1895 - val_loss: 3225.2947\n",
            "Epoch 4/100\n",
            "1/1 - 0s - 34ms/step - loss: 3067.5642 - val_loss: 3208.9941\n",
            "Epoch 5/100\n",
            "1/1 - 0s - 34ms/step - loss: 3051.9834 - val_loss: 3192.7402\n",
            "Epoch 6/100\n",
            "1/1 - 0s - 37ms/step - loss: 3036.4480 - val_loss: 3176.5356\n",
            "Epoch 7/100\n",
            "1/1 - 0s - 36ms/step - loss: 3020.9587 - val_loss: 3160.3794\n",
            "Epoch 8/100\n",
            "1/1 - 0s - 35ms/step - loss: 3005.5156 - val_loss: 3144.2734\n",
            "Epoch 9/100\n",
            "1/1 - 0s - 32ms/step - loss: 2990.1204 - val_loss: 3128.2175\n",
            "Epoch 10/100\n",
            "1/1 - 0s - 32ms/step - loss: 2974.7722 - val_loss: 3112.2129\n",
            "Epoch 11/100\n",
            "1/1 - 0s - 32ms/step - loss: 2959.4736 - val_loss: 3096.2598\n",
            "Epoch 12/100\n",
            "1/1 - 0s - 33ms/step - loss: 2944.2234 - val_loss: 3080.3589\n",
            "Epoch 13/100\n",
            "1/1 - 0s - 32ms/step - loss: 2929.0234 - val_loss: 3064.5112\n",
            "Epoch 14/100\n",
            "1/1 - 0s - 31ms/step - loss: 2913.8738 - val_loss: 3048.7168\n",
            "Epoch 15/100\n",
            "1/1 - 0s - 31ms/step - loss: 2898.7751 - val_loss: 3032.9766\n",
            "Epoch 16/100\n",
            "1/1 - 0s - 33ms/step - loss: 2883.7273 - val_loss: 3017.2910\n",
            "Epoch 17/100\n",
            "1/1 - 0s - 33ms/step - loss: 2868.7317 - val_loss: 3001.6599\n",
            "Epoch 18/100\n",
            "1/1 - 0s - 32ms/step - loss: 2853.7883 - val_loss: 2986.0847\n",
            "Epoch 19/100\n",
            "1/1 - 0s - 32ms/step - loss: 2838.8982 - val_loss: 2970.5652\n",
            "Epoch 20/100\n",
            "1/1 - 0s - 35ms/step - loss: 2824.0613 - val_loss: 2955.1018\n",
            "Epoch 21/100\n",
            "1/1 - 0s - 33ms/step - loss: 2809.2773 - val_loss: 2939.6958\n",
            "Epoch 22/100\n",
            "1/1 - 0s - 33ms/step - loss: 2794.5481 - val_loss: 2924.3464\n",
            "Epoch 23/100\n",
            "1/1 - 0s - 31ms/step - loss: 2779.8730 - val_loss: 2909.0547\n",
            "Epoch 24/100\n",
            "1/1 - 0s - 31ms/step - loss: 2765.2527 - val_loss: 2893.8215\n",
            "Epoch 25/100\n",
            "1/1 - 0s - 31ms/step - loss: 2750.6882 - val_loss: 2878.6455\n",
            "Epoch 26/100\n",
            "1/1 - 0s - 30ms/step - loss: 2736.1785 - val_loss: 2863.5283\n",
            "Epoch 27/100\n",
            "1/1 - 0s - 31ms/step - loss: 2721.7244 - val_loss: 2848.4700\n",
            "Epoch 28/100\n",
            "1/1 - 0s - 34ms/step - loss: 2707.3259 - val_loss: 2833.4702\n",
            "Epoch 29/100\n",
            "1/1 - 0s - 33ms/step - loss: 2692.9841 - val_loss: 2818.5300\n",
            "Epoch 30/100\n",
            "1/1 - 0s - 33ms/step - loss: 2678.6985 - val_loss: 2803.6489\n",
            "Epoch 31/100\n",
            "1/1 - 0s - 33ms/step - loss: 2664.4695 - val_loss: 2788.8271\n",
            "Epoch 32/100\n",
            "1/1 - 0s - 32ms/step - loss: 2650.2969 - val_loss: 2774.0652\n",
            "Epoch 33/100\n",
            "1/1 - 0s - 31ms/step - loss: 2636.1816 - val_loss: 2759.3628\n",
            "Epoch 34/100\n",
            "1/1 - 0s - 31ms/step - loss: 2622.1228 - val_loss: 2744.7207\n",
            "Epoch 35/100\n",
            "1/1 - 0s - 34ms/step - loss: 2608.1211 - val_loss: 2730.1379\n",
            "Epoch 36/100\n",
            "1/1 - 0s - 33ms/step - loss: 2594.1768 - val_loss: 2715.6160\n",
            "Epoch 37/100\n",
            "1/1 - 0s - 32ms/step - loss: 2580.2898 - val_loss: 2701.1541\n",
            "Epoch 38/100\n",
            "1/1 - 0s - 31ms/step - loss: 2566.4600 - val_loss: 2686.7522\n",
            "Epoch 39/100\n",
            "1/1 - 0s - 31ms/step - loss: 2552.6877 - val_loss: 2672.4106\n",
            "Epoch 40/100\n",
            "1/1 - 0s - 35ms/step - loss: 2538.9729 - val_loss: 2658.1292\n",
            "Epoch 41/100\n",
            "1/1 - 0s - 34ms/step - loss: 2525.3149 - val_loss: 2643.9082\n",
            "Epoch 42/100\n",
            "1/1 - 0s - 33ms/step - loss: 2511.7151 - val_loss: 2629.7478\n",
            "Epoch 43/100\n",
            "1/1 - 0s - 33ms/step - loss: 2498.1726 - val_loss: 2615.6472\n",
            "Epoch 44/100\n",
            "1/1 - 0s - 33ms/step - loss: 2484.6875 - val_loss: 2601.6069\n",
            "Epoch 45/100\n",
            "1/1 - 0s - 33ms/step - loss: 2471.2598 - val_loss: 2587.6270\n",
            "Epoch 46/100\n",
            "1/1 - 0s - 33ms/step - loss: 2457.8896 - val_loss: 2573.7073\n",
            "Epoch 47/100\n",
            "1/1 - 0s - 33ms/step - loss: 2444.5764 - val_loss: 2559.8479\n",
            "Epoch 48/100\n",
            "1/1 - 0s - 33ms/step - loss: 2431.3210 - val_loss: 2546.0483\n",
            "Epoch 49/100\n",
            "1/1 - 0s - 31ms/step - loss: 2418.1228 - val_loss: 2532.3088\n",
            "Epoch 50/100\n",
            "1/1 - 0s - 31ms/step - loss: 2404.9817 - val_loss: 2518.6292\n",
            "Epoch 51/100\n",
            "1/1 - 0s - 34ms/step - loss: 2391.8977 - val_loss: 2505.0100\n",
            "Epoch 52/100\n",
            "1/1 - 0s - 33ms/step - loss: 2378.8711 - val_loss: 2491.4497\n",
            "Epoch 53/100\n",
            "1/1 - 0s - 34ms/step - loss: 2365.9014 - val_loss: 2477.9500\n",
            "Epoch 54/100\n",
            "1/1 - 0s - 33ms/step - loss: 2352.9885 - val_loss: 2464.5093\n",
            "Epoch 55/100\n",
            "1/1 - 0s - 33ms/step - loss: 2340.1321 - val_loss: 2451.1279\n",
            "Epoch 56/100\n",
            "1/1 - 0s - 33ms/step - loss: 2327.3328 - val_loss: 2437.8066\n",
            "Epoch 57/100\n",
            "1/1 - 0s - 33ms/step - loss: 2314.5901 - val_loss: 2424.5442\n",
            "Epoch 58/100\n",
            "1/1 - 0s - 33ms/step - loss: 2301.9036 - val_loss: 2411.3408\n",
            "Epoch 59/100\n",
            "1/1 - 0s - 32ms/step - loss: 2289.2737 - val_loss: 2398.1965\n",
            "Epoch 60/100\n",
            "1/1 - 0s - 33ms/step - loss: 2276.7000 - val_loss: 2385.1108\n",
            "Epoch 61/100\n",
            "1/1 - 0s - 34ms/step - loss: 2264.1824 - val_loss: 2372.0845\n",
            "Epoch 62/100\n",
            "1/1 - 0s - 34ms/step - loss: 2251.7209 - val_loss: 2359.1165\n",
            "Epoch 63/100\n",
            "1/1 - 0s - 32ms/step - loss: 2239.3152 - val_loss: 2346.2073\n",
            "Epoch 64/100\n",
            "1/1 - 0s - 32ms/step - loss: 2226.9651 - val_loss: 2333.3562\n",
            "Epoch 65/100\n",
            "1/1 - 0s - 31ms/step - loss: 2214.6711 - val_loss: 2320.5635\n",
            "Epoch 66/100\n",
            "1/1 - 0s - 31ms/step - loss: 2202.4329 - val_loss: 2307.8291\n",
            "Epoch 67/100\n",
            "1/1 - 0s - 31ms/step - loss: 2190.2498 - val_loss: 2295.1523\n",
            "Epoch 68/100\n",
            "1/1 - 0s - 31ms/step - loss: 2178.1218 - val_loss: 2282.5332\n",
            "Epoch 69/100\n",
            "1/1 - 0s - 31ms/step - loss: 2166.0486 - val_loss: 2269.9722\n",
            "Epoch 70/100\n",
            "1/1 - 0s - 34ms/step - loss: 2154.0305 - val_loss: 2257.4683\n",
            "Epoch 71/100\n",
            "1/1 - 0s - 33ms/step - loss: 2142.0676 - val_loss: 2245.0220\n",
            "Epoch 72/100\n",
            "1/1 - 0s - 32ms/step - loss: 2130.1592 - val_loss: 2232.6326\n",
            "Epoch 73/100\n",
            "1/1 - 0s - 33ms/step - loss: 2118.3054 - val_loss: 2220.3010\n",
            "Epoch 74/100\n",
            "1/1 - 0s - 33ms/step - loss: 2106.5059 - val_loss: 2208.0256\n",
            "Epoch 75/100\n",
            "1/1 - 0s - 32ms/step - loss: 2094.7605 - val_loss: 2195.8074\n",
            "Epoch 76/100\n",
            "1/1 - 0s - 32ms/step - loss: 2083.0696 - val_loss: 2183.6458\n",
            "Epoch 77/100\n",
            "1/1 - 0s - 33ms/step - loss: 2071.4324 - val_loss: 2171.5405\n",
            "Epoch 78/100\n",
            "1/1 - 0s - 32ms/step - loss: 2059.8491 - val_loss: 2159.4917\n",
            "Epoch 79/100\n",
            "1/1 - 0s - 33ms/step - loss: 2048.3196 - val_loss: 2147.4983\n",
            "Epoch 80/100\n",
            "1/1 - 0s - 32ms/step - loss: 2036.8431 - val_loss: 2135.5618\n",
            "Epoch 81/100\n",
            "1/1 - 0s - 32ms/step - loss: 2025.4205 - val_loss: 2123.6807\n",
            "Epoch 82/100\n",
            "1/1 - 0s - 33ms/step - loss: 2014.0511 - val_loss: 2111.8555\n",
            "Epoch 83/100\n",
            "1/1 - 0s - 32ms/step - loss: 2002.7347 - val_loss: 2100.0854\n",
            "Epoch 84/100\n",
            "1/1 - 0s - 33ms/step - loss: 1991.4711 - val_loss: 2088.3711\n",
            "Epoch 85/100\n",
            "1/1 - 0s - 32ms/step - loss: 1980.2601 - val_loss: 2076.7122\n",
            "Epoch 86/100\n",
            "1/1 - 0s - 32ms/step - loss: 1969.1024 - val_loss: 2065.1077\n",
            "Epoch 87/100\n",
            "1/1 - 0s - 32ms/step - loss: 1957.9965 - val_loss: 2053.5583\n",
            "Epoch 88/100\n",
            "1/1 - 0s - 32ms/step - loss: 1946.9434 - val_loss: 2042.0638\n",
            "Epoch 89/100\n",
            "1/1 - 0s - 33ms/step - loss: 1935.9420 - val_loss: 2030.6237\n",
            "Epoch 90/100\n",
            "1/1 - 0s - 32ms/step - loss: 1924.9928 - val_loss: 2019.2380\n",
            "Epoch 91/100\n",
            "1/1 - 0s - 31ms/step - loss: 1914.0956 - val_loss: 2007.9066\n",
            "Epoch 92/100\n",
            "1/1 - 0s - 31ms/step - loss: 1903.2500 - val_loss: 1996.6293\n",
            "Epoch 93/100\n",
            "1/1 - 0s - 32ms/step - loss: 1892.4559 - val_loss: 1985.4059\n",
            "Epoch 94/100\n",
            "1/1 - 0s - 33ms/step - loss: 1881.7133 - val_loss: 1974.2362\n",
            "Epoch 95/100\n",
            "1/1 - 0s - 33ms/step - loss: 1871.0219 - val_loss: 1963.1201\n",
            "Epoch 96/100\n",
            "1/1 - 0s - 33ms/step - loss: 1860.3813 - val_loss: 1952.0576\n",
            "Epoch 97/100\n",
            "1/1 - 0s - 32ms/step - loss: 1849.7920 - val_loss: 1941.0482\n",
            "Epoch 98/100\n",
            "1/1 - 0s - 34ms/step - loss: 1839.2535 - val_loss: 1930.0920\n",
            "Epoch 99/100\n",
            "1/1 - 0s - 32ms/step - loss: 1828.7656 - val_loss: 1919.1886\n",
            "Epoch 100/100\n",
            "1/1 - 0s - 32ms/step - loss: 1818.3278 - val_loss: 1908.3381\n"
          ]
        }
      ],
      "source": [
        "# Underfit Case\n",
        "Lambda = 0\n",
        "lr_rate = 0.005\n",
        "epoch = 100\n",
        "\n",
        "# building a linear stack of layers with the sequential model\n",
        "model = Sequential()\n",
        "model.add(Dense(1, input_shape=(1,), use_bias=True, kernel_regularizer=regularizers.l2(Lambda)))\n",
        "\n",
        "# compiling the sequential model\n",
        "sgd = optimizers.Adam(learning_rate=lr_rate)\n",
        "model.compile(loss='MSE', optimizer=sgd)\n",
        "\n",
        "# training the model and saving metrics in history\n",
        "history = model.fit(X_train, Y_train, epochs=epoch, validation_data=(X_val, Y_val), verbose = 2)"
      ]
    },
    {
      "cell_type": "markdown",
      "metadata": {
        "id": "vxB4GFIArgWk"
      },
      "source": [
        "Let's do the prediction."
      ]
    },
    {
      "cell_type": "code",
      "execution_count": 11,
      "metadata": {
        "id": "BtLWzgmFrgWk"
      },
      "outputs": [
        {
          "name": "stdout",
          "output_type": "stream",
          "text": [
            "\u001b[1m1/1\u001b[0m \u001b[32m━━━━━━━━━━━━━━━━━━━━\u001b[0m\u001b[37m\u001b[0m \u001b[1m0s\u001b[0m 21ms/step\n"
          ]
        }
      ],
      "source": [
        "################### CODE HERE ########################\n",
        "# Implement the prediction step.\n",
        "# Use the predict() function of the model\n",
        "def prediction_step(model, X_test):\n",
        "    Y_pred = model.predict(X_test)\n",
        "    return Y_pred\n",
        "Y_pred = prediction_step(model, X_test)\n",
        "######################################################"
      ]
    },
    {
      "cell_type": "markdown",
      "metadata": {
        "id": "T9I7_BnPrgWl"
      },
      "source": [
        "Plot the result."
      ]
    },
    {
      "cell_type": "code",
      "execution_count": 12,
      "metadata": {
        "id": "nepc64O0rgWl"
      },
      "outputs": [
        {
          "data": {
            "image/png": "[encoded data removed]",
            "text/plain": [
              "<Figure size 640x480 with 1 Axes>"
            ]
          },
          "metadata": {},
          "output_type": "display_data"
        }
      ],
      "source": [
        "plt.plot(X_train,Y_train,'x')   # adatok megjelenítése\n",
        "plt.plot(X_test,Y_pred,'x', color='red')   # adatok megjelenítése\n",
        "plt.title('Training data')\n",
        "plt.xlabel('Change in water level (X)')\n",
        "plt.ylabel('Water floeing out of the dam (Y)')\n",
        "plt.legend(['Training data', 'Prediction (on Test data)'])\n",
        "plt.show()"
      ]
    },
    {
      "cell_type": "markdown",
      "metadata": {
        "id": "rMFCxkVFrgWl"
      },
      "source": [
        "In line with our expectations and our simple model design, we obtained a linear estimate that does not seem to adequately capture our data. Using the built-in metrics, we can examine the running of the cost function on the training and validation data. To do this, we first plot the corresponding metrics."
      ]
    },
    {
      "cell_type": "code",
      "execution_count": 13,
      "metadata": {
        "id": "75Y8OJMXrgWl"
      },
      "outputs": [
        {
          "data": {
            "text/plain": [
              "<matplotlib.legend.Legend at 0x779025336140>"
            ]
          },
          "execution_count": 13,
          "metadata": {},
          "output_type": "execute_result"
        },
        {
          "data": {
            "image/png": "[encoded data removed]",
            "text/plain": [
              "<Figure size 640x480 with 1 Axes>"
            ]
          },
          "metadata": {},
          "output_type": "display_data"
        }
      ],
      "source": [
        "# plotting the metrics\n",
        "fig = plt.figure()\n",
        "plt.plot(history.history['loss'])\n",
        "plt.plot(history.history['val_loss'])\n",
        "plt.title('Loss functions')\n",
        "plt.ylabel('loss')\n",
        "plt.xlabel('epoch')\n",
        "plt.legend(['Training loss', 'Validation loss'])"
      ]
    },
    {
      "cell_type": "markdown",
      "metadata": {
        "id": "11vuPq5XrgWl"
      },
      "source": [
        "In the graph, we can observe that both the cost function of the training data and the cost function of the validation data remain high. Higher than one would expect from a well-functioning predictor.\n",
        "\n",
        "<img src=\"https://github.com/Fortuz/edu_Adaptive/blob/main/practices/assets/Lab08/Pics/L08_HighBias.png?raw=1\" width=\"600\">"
      ]
    },
    {
      "cell_type": "markdown",
      "metadata": {
        "id": "turTeZybrgWl"
      },
      "source": [
        "So let's change our model to get a better result."
      ]
    },
    {
      "cell_type": "markdown",
      "metadata": {
        "id": "tzDLGx5ErgWl"
      },
      "source": [
        "### 4: Poly Feature"
      ]
    },
    {
      "cell_type": "markdown",
      "metadata": {
        "id": "VNOvLvoVrgWl"
      },
      "source": [
        "To get a better result, we need more input parameters. One possible way to generate more parameters is to take the polynomial coefficients of the available parameter and feed them into your neural network as additional parameters.\n",
        "\n",
        "Write a function that takes as input the matrix of actual samples and enriches it with the appropriate columns up to the desired exponent. $x => x, x^2, x^3 ... x^p$"
      ]
    },
    {
      "cell_type": "code",
      "execution_count": 20,
      "metadata": {
        "id": "833PtukergWm"
      },
      "outputs": [],
      "source": [
        "def polyFeatures(X,p=9):\n",
        "    ################### CODE HERE ########################\n",
        "    # Implement the feature extension for the input data\n",
        "    X_poly = np.hstack([X ** i for i in range(1, p + 1)])\n",
        "    ######################################################\n",
        "    return X_poly"
      ]
    },
    {
      "cell_type": "markdown",
      "metadata": {
        "id": "t6YfXyXyrgWm"
      },
      "source": [
        "Do not forget to lower the values, otherwise the high exponent members would distort the learning very much. Write a normalization function that takes a sample matrix as input and returns the means and variances as a vector in addition to the normalized matrix."
      ]
    },
    {
      "cell_type": "code",
      "execution_count": 24,
      "metadata": {
        "id": "KhEbZJaDrgWm"
      },
      "outputs": [],
      "source": [
        "def featureNormalize(X):\n",
        "    ################### CODE HERE ########################\n",
        "    # Normalize the features of the input data.\n",
        "    # Each features has different normalization values.\n",
        "    avg = np.mean(X, axis=0)\n",
        "    std = np.std(X, axis=0, ddof=0)\n",
        "\n",
        "    X_norm = (X - avg) / std\n",
        "\n",
        "    ######################################################\n",
        "    return X_norm,avg,std"
      ]
    },
    {
      "cell_type": "markdown",
      "metadata": {
        "id": "X_xzY-jKrgWo"
      },
      "source": [
        "Perform both the polynomial variable enrichment and the normalization.\n",
        "\n",
        "$\\color{red}{Warning!}$\n",
        "\n",
        "You should be aware of that during training you only want to use information from the training data set. This means that we should also normalise the test and validation data using the mean and standard deviation calculated from the training data. Otherwise, we would leak data back to the algorithm that could distort the learning result. The validation and test datasets thus remain truly independent and the algorithm can only work with the information obtained from the training data."
      ]
    },
    {
      "cell_type": "code",
      "execution_count": 40,
      "metadata": {
        "id": "HeVJmoUyrgWp"
      },
      "outputs": [
        {
          "name": "stdout",
          "output_type": "stream",
          "text": [
            "Expected Normalized Training Example for order=3 (approx.):\n",
            "[-0.362 -0.755  0.182 ]\n",
            "Normalized Training Example 1:\n",
            " [-0.3782437  -0.78866232  0.19032872 -0.7375913   0.32025197 -0.6171516\n",
            "  0.35983501 -0.53109126  0.37553696]\n"
          ]
        }
      ],
      "source": [
        "order=9\n",
        "\n",
        "# Training data\n",
        "X_train_p = polyFeatures(X_train, order)                                # polynomial features\n",
        "X_train_pn, mu, sigma = featureNormalize(X_train_p)                     # feature normalization\n",
        "\n",
        "################### CODE HERE ########################\n",
        "# Perform the feature extension and normalization for the remaining data sets as well\n",
        " \n",
        "# Validation data\n",
        "\n",
        "X_val_p = polyFeatures(X_val, order)\n",
        "X_val_pn = (X_val_p-mu)/sigma\n",
        "\n",
        "# Test data\n",
        "\n",
        "X_test_p = polyFeatures(X_test, order)\n",
        "X_test_pn  = (X_test_p-mu)/sigma\n",
        "\n",
        "######################################################\n",
        "\n",
        "print(\"\"\"Expected Normalized Training Example for order=3 (approx.):\n",
        "[-0.362 -0.755  0.182 ]\"\"\")\n",
        "print('Normalized Training Example 1:\\n',X_train_pn[0,:])"
      ]
    },
    {
      "cell_type": "markdown",
      "metadata": {
        "id": "O_o7Wo_2rgWp"
      },
      "source": [
        "Set the parameters."
      ]
    },
    {
      "cell_type": "code",
      "execution_count": 41,
      "metadata": {
        "id": "xiakbXSlrgWp"
      },
      "outputs": [],
      "source": [
        "# Just Right Case\n",
        "Lambda = 0\n",
        "lr_rate = 0.01\n",
        "epoch = 100\n",
        "optim = optimizers.SGD(learning_rate=lr_rate)"
      ]
    },
    {
      "cell_type": "markdown",
      "metadata": {
        "id": "wCsqxECrrgWp"
      },
      "source": [
        "Since we have increased the number of variables, we need to modify our model. The input layer should fit the size of our increased input matrix, but we still only want one output."
      ]
    },
    {
      "cell_type": "code",
      "execution_count": 42,
      "metadata": {
        "id": "bRHJv5rorgWp"
      },
      "outputs": [
        {
          "name": "stderr",
          "output_type": "stream",
          "text": [
            "/usr/local/lib/python3.10/site-packages/keras/src/layers/core/dense.py:87: UserWarning: Do not pass an `input_shape`/`input_dim` argument to a layer. When using Sequential models, prefer using an `Input(shape)` object as the first layer in the model instead.\n",
            "  super().__init__(activity_regularizer=activity_regularizer, **kwargs)\n"
          ]
        }
      ],
      "source": [
        "# Building a linear stack of layers with the sequential model\n",
        "model2 = Sequential()\n",
        "\n",
        "################### CODE HERE ########################\n",
        "# Build a 2 layer Neural Network matching the input shape of the data and producing 1 output.\n",
        "# Use BIAS and L2 regularization.\n",
        "\n",
        "model2.add(Dense(9, input_shape=(9,), use_bias=True, kernel_regularizer=regularizers.l2(Lambda)))\n",
        "model2.add(Dense(1, input_shape=(9,), use_bias=True, kernel_regularizer=regularizers.l2(Lambda)))\n",
        "\n",
        "######################################################"
      ]
    },
    {
      "cell_type": "markdown",
      "metadata": {
        "id": "JFgo0W2argWp"
      },
      "source": [
        "After the architecture of the model is established, the model is compiled and the cost function and the optimizer are defined. Again, there are several options to choose from, such as SGD or ADAM."
      ]
    },
    {
      "cell_type": "code",
      "execution_count": 43,
      "metadata": {
        "id": "p19lVTRYrgWp"
      },
      "outputs": [
        {
          "name": "stdout",
          "output_type": "stream",
          "text": [
            "Epoch 1/100\n"
          ]
        },
        {
          "name": "stdout",
          "output_type": "stream",
          "text": [
            "1/1 - 1s - 503ms/step - loss: 268.2845 - val_loss: 311.1584\n",
            "Epoch 2/100\n",
            "1/1 - 0s - 34ms/step - loss: 264.9356 - val_loss: 306.7463\n",
            "Epoch 3/100\n",
            "1/1 - 0s - 33ms/step - loss: 261.5661 - val_loss: 302.2404\n",
            "Epoch 4/100\n",
            "1/1 - 0s - 33ms/step - loss: 258.1588 - val_loss: 297.6011\n",
            "Epoch 5/100\n",
            "1/1 - 0s - 33ms/step - loss: 254.6977 - val_loss: 292.7734\n",
            "Epoch 6/100\n",
            "1/1 - 0s - 33ms/step - loss: 251.1706 - val_loss: 287.7098\n",
            "Epoch 7/100\n",
            "1/1 - 0s - 34ms/step - loss: 247.5650 - val_loss: 282.3999\n",
            "Epoch 8/100\n",
            "1/1 - 0s - 34ms/step - loss: 243.8691 - val_loss: 276.8611\n",
            "Epoch 9/100\n",
            "1/1 - 0s - 37ms/step - loss: 240.0751 - val_loss: 271.1161\n",
            "Epoch 10/100\n",
            "1/1 - 0s - 36ms/step - loss: 236.1795 - val_loss: 265.1856\n",
            "Epoch 11/100\n",
            "1/1 - 0s - 33ms/step - loss: 232.1814 - val_loss: 259.0868\n",
            "Epoch 12/100\n",
            "1/1 - 0s - 32ms/step - loss: 228.0819 - val_loss: 252.8353\n",
            "Epoch 13/100\n",
            "1/1 - 0s - 33ms/step - loss: 223.8828 - val_loss: 246.4457\n",
            "Epoch 14/100\n",
            "1/1 - 0s - 33ms/step - loss: 219.5866 - val_loss: 239.9326\n",
            "Epoch 15/100\n",
            "1/1 - 0s - 34ms/step - loss: 215.1964 - val_loss: 233.3107\n",
            "Epoch 16/100\n",
            "1/1 - 0s - 33ms/step - loss: 210.7157 - val_loss: 226.5953\n",
            "Epoch 17/100\n",
            "1/1 - 0s - 34ms/step - loss: 206.1486 - val_loss: 219.8027\n",
            "Epoch 18/100\n",
            "1/1 - 0s - 33ms/step - loss: 201.4996 - val_loss: 212.9494\n",
            "Epoch 19/100\n",
            "1/1 - 0s - 34ms/step - loss: 196.7734 - val_loss: 206.0531\n",
            "Epoch 20/100\n",
            "1/1 - 0s - 34ms/step - loss: 191.9753 - val_loss: 199.1322\n",
            "Epoch 21/100\n",
            "1/1 - 0s - 33ms/step - loss: 187.1110 - val_loss: 192.2056\n",
            "Epoch 22/100\n",
            "1/1 - 0s - 32ms/step - loss: 182.1865 - val_loss: 185.2930\n",
            "Epoch 23/100\n",
            "1/1 - 0s - 33ms/step - loss: 177.2080 - val_loss: 178.4144\n",
            "Epoch 24/100\n",
            "1/1 - 0s - 33ms/step - loss: 172.1823 - val_loss: 171.5904\n",
            "Epoch 25/100\n",
            "1/1 - 0s - 33ms/step - loss: 167.1164 - val_loss: 164.8418\n",
            "Epoch 26/100\n",
            "1/1 - 0s - 33ms/step - loss: 162.0177 - val_loss: 158.1896\n",
            "Epoch 27/100\n",
            "1/1 - 0s - 33ms/step - loss: 156.8940 - val_loss: 151.6550\n",
            "Epoch 28/100\n",
            "1/1 - 0s - 34ms/step - loss: 151.7534 - val_loss: 145.2593\n",
            "Epoch 29/100\n",
            "1/1 - 0s - 33ms/step - loss: 146.6046 - val_loss: 139.0238\n",
            "Epoch 30/100\n",
            "1/1 - 0s - 34ms/step - loss: 141.4568 - val_loss: 132.9701\n",
            "Epoch 31/100\n",
            "1/1 - 0s - 35ms/step - loss: 136.3198 - val_loss: 127.1196\n",
            "Epoch 32/100\n",
            "1/1 - 0s - 35ms/step - loss: 131.2040 - val_loss: 121.4943\n",
            "Epoch 33/100\n",
            "1/1 - 0s - 33ms/step - loss: 126.1207 - val_loss: 116.1161\n",
            "Epoch 34/100\n",
            "1/1 - 0s - 33ms/step - loss: 121.0817 - val_loss: 111.0074\n",
            "Epoch 35/100\n",
            "1/1 - 0s - 34ms/step - loss: 116.0998 - val_loss: 106.1908\n",
            "Epoch 36/100\n",
            "1/1 - 0s - 34ms/step - loss: 111.1884 - val_loss: 101.6889\n",
            "Epoch 37/100\n",
            "1/1 - 0s - 32ms/step - loss: 106.3614 - val_loss: 97.5243\n",
            "Epoch 38/100\n",
            "1/1 - 0s - 33ms/step - loss: 101.6329 - val_loss: 93.7190\n",
            "Epoch 39/100\n",
            "1/1 - 0s - 33ms/step - loss: 97.0175 - val_loss: 90.2940\n",
            "Epoch 40/100\n",
            "1/1 - 0s - 33ms/step - loss: 92.5290 - val_loss: 87.2687\n",
            "Epoch 41/100\n",
            "1/1 - 0s - 32ms/step - loss: 88.1809 - val_loss: 84.6602\n",
            "Epoch 42/100\n",
            "1/1 - 0s - 32ms/step - loss: 83.9855 - val_loss: 82.4825\n",
            "Epoch 43/100\n",
            "1/1 - 0s - 33ms/step - loss: 79.9537 - val_loss: 80.7454\n",
            "Epoch 44/100\n",
            "1/1 - 0s - 32ms/step - loss: 76.0946 - val_loss: 79.4540\n",
            "Epoch 45/100\n",
            "1/1 - 0s - 32ms/step - loss: 72.4152 - val_loss: 78.6078\n",
            "Epoch 46/100\n",
            "1/1 - 0s - 33ms/step - loss: 68.9204 - val_loss: 78.2000\n",
            "Epoch 47/100\n",
            "1/1 - 0s - 32ms/step - loss: 65.6129 - val_loss: 78.2172\n",
            "Epoch 48/100\n",
            "1/1 - 0s - 32ms/step - loss: 62.4935 - val_loss: 78.6390\n",
            "Epoch 49/100\n",
            "1/1 - 0s - 33ms/step - loss: 59.5612 - val_loss: 79.4380\n",
            "Epoch 50/100\n",
            "1/1 - 0s - 33ms/step - loss: 56.8135 - val_loss: 80.5795\n",
            "Epoch 51/100\n",
            "1/1 - 0s - 33ms/step - loss: 54.2467 - val_loss: 82.0221\n",
            "Epoch 52/100\n",
            "1/1 - 0s - 34ms/step - loss: 51.8560 - val_loss: 83.7175\n",
            "Epoch 53/100\n",
            "1/1 - 0s - 35ms/step - loss: 49.6353 - val_loss: 85.6111\n",
            "Epoch 54/100\n",
            "1/1 - 0s - 34ms/step - loss: 47.5772 - val_loss: 87.6425\n",
            "Epoch 55/100\n",
            "1/1 - 0s - 34ms/step - loss: 45.6726 - val_loss: 89.7466\n",
            "Epoch 56/100\n",
            "1/1 - 0s - 33ms/step - loss: 43.9108 - val_loss: 91.8552\n",
            "Epoch 57/100\n",
            "1/1 - 0s - 33ms/step - loss: 42.2792 - val_loss: 93.8995\n",
            "Epoch 58/100\n",
            "1/1 - 0s - 34ms/step - loss: 40.7633 - val_loss: 95.8125\n",
            "Epoch 59/100\n",
            "1/1 - 0s - 33ms/step - loss: 39.3480 - val_loss: 97.5323\n",
            "Epoch 60/100\n",
            "1/1 - 0s - 34ms/step - loss: 38.0176 - val_loss: 99.0052\n",
            "Epoch 61/100\n",
            "1/1 - 0s - 34ms/step - loss: 36.7570 - val_loss: 100.1869\n",
            "Epoch 62/100\n",
            "1/1 - 0s - 34ms/step - loss: 35.5525 - val_loss: 101.0447\n",
            "Epoch 63/100\n",
            "1/1 - 0s - 34ms/step - loss: 34.3921 - val_loss: 101.5573\n",
            "Epoch 64/100\n",
            "1/1 - 0s - 34ms/step - loss: 33.2660 - val_loss: 101.7147\n",
            "Epoch 65/100\n",
            "1/1 - 0s - 33ms/step - loss: 32.1662 - val_loss: 101.5162\n",
            "Epoch 66/100\n",
            "1/1 - 0s - 33ms/step - loss: 31.0866 - val_loss: 100.9697\n",
            "Epoch 67/100\n",
            "1/1 - 0s - 33ms/step - loss: 30.0225 - val_loss: 100.0902\n",
            "Epoch 68/100\n",
            "1/1 - 0s - 35ms/step - loss: 28.9706 - val_loss: 98.8978\n",
            "Epoch 69/100\n",
            "1/1 - 0s - 34ms/step - loss: 27.9287 - val_loss: 97.4169\n",
            "Epoch 70/100\n",
            "1/1 - 0s - 34ms/step - loss: 26.8959 - val_loss: 95.6748\n",
            "Epoch 71/100\n",
            "1/1 - 0s - 34ms/step - loss: 25.8723 - val_loss: 93.7006\n",
            "Epoch 72/100\n",
            "1/1 - 0s - 33ms/step - loss: 24.8591 - val_loss: 91.5244\n",
            "Epoch 73/100\n",
            "1/1 - 0s - 32ms/step - loss: 23.8587 - val_loss: 89.1765\n",
            "Epoch 74/100\n",
            "1/1 - 0s - 33ms/step - loss: 22.8742 - val_loss: 86.6867\n",
            "Epoch 75/100\n",
            "1/1 - 0s - 33ms/step - loss: 21.9090 - val_loss: 84.0837\n",
            "Epoch 76/100\n",
            "1/1 - 0s - 33ms/step - loss: 20.9668 - val_loss: 81.3950\n",
            "Epoch 77/100\n",
            "1/1 - 0s - 32ms/step - loss: 20.0512 - val_loss: 78.6466\n",
            "Epoch 78/100\n",
            "1/1 - 0s - 33ms/step - loss: 19.1650 - val_loss: 75.8632\n",
            "Epoch 79/100\n",
            "1/1 - 0s - 34ms/step - loss: 18.3110 - val_loss: 73.0678\n",
            "Epoch 80/100\n",
            "1/1 - 0s - 34ms/step - loss: 17.4909 - val_loss: 70.2826\n",
            "Epoch 81/100\n",
            "1/1 - 0s - 33ms/step - loss: 16.7064 - val_loss: 67.5281\n",
            "Epoch 82/100\n",
            "1/1 - 0s - 33ms/step - loss: 15.9584 - val_loss: 64.8236\n",
            "Epoch 83/100\n",
            "1/1 - 0s - 33ms/step - loss: 15.2475 - val_loss: 62.1865\n",
            "Epoch 84/100\n",
            "1/1 - 0s - 33ms/step - loss: 14.5742 - val_loss: 59.6325\n",
            "Epoch 85/100\n",
            "1/1 - 0s - 33ms/step - loss: 13.9382 - val_loss: 57.1750\n",
            "Epoch 86/100\n",
            "1/1 - 0s - 33ms/step - loss: 13.3393 - val_loss: 54.8248\n",
            "Epoch 87/100\n",
            "1/1 - 0s - 33ms/step - loss: 12.7765 - val_loss: 52.5903\n",
            "Epoch 88/100\n",
            "1/1 - 0s - 35ms/step - loss: 12.2487 - val_loss: 50.4771\n",
            "Epoch 89/100\n",
            "1/1 - 0s - 33ms/step - loss: 11.7545 - val_loss: 48.4882\n",
            "Epoch 90/100\n",
            "1/1 - 0s - 33ms/step - loss: 11.2922 - val_loss: 46.6246\n",
            "Epoch 91/100\n",
            "1/1 - 0s - 33ms/step - loss: 10.8600 - val_loss: 44.8848\n",
            "Epoch 92/100\n",
            "1/1 - 0s - 33ms/step - loss: 10.4563 - val_loss: 43.2660\n",
            "Epoch 93/100\n",
            "1/1 - 0s - 34ms/step - loss: 10.0795 - val_loss: 41.7636\n",
            "Epoch 94/100\n",
            "1/1 - 0s - 33ms/step - loss: 9.7277 - val_loss: 40.3724\n",
            "Epoch 95/100\n",
            "1/1 - 0s - 33ms/step - loss: 9.3997 - val_loss: 39.0861\n",
            "Epoch 96/100\n",
            "1/1 - 0s - 33ms/step - loss: 9.0938 - val_loss: 37.8985\n",
            "Epoch 97/100\n",
            "1/1 - 0s - 32ms/step - loss: 8.8086 - val_loss: 36.8030\n",
            "Epoch 98/100\n",
            "1/1 - 0s - 32ms/step - loss: 8.5427 - val_loss: 35.7935\n",
            "Epoch 99/100\n",
            "1/1 - 0s - 33ms/step - loss: 8.2949 - val_loss: 34.8640\n",
            "Epoch 100/100\n",
            "1/1 - 0s - 32ms/step - loss: 8.0640 - val_loss: 34.0094\n"
          ]
        }
      ],
      "source": [
        "# Compiling the sequential model\n",
        "# optim = optimizers.SGD(lr=lr_rate)\n",
        "optim = optimizers.Adam(learning_rate=lr_rate)\n",
        "model2.compile(loss='MSE', optimizer=optim)\n",
        "\n",
        "# Training the model and saving metrics in history\n",
        "history2 = model2.fit(X_train_pn, Y_train, epochs=epoch, validation_data=(X_val_pn, Y_val), verbose = 2)"
      ]
    },
    {
      "cell_type": "markdown",
      "metadata": {
        "id": "JS11l7bRrgWp"
      },
      "source": [
        "After training the model, we make this prediction on our test data."
      ]
    },
    {
      "cell_type": "code",
      "execution_count": 44,
      "metadata": {
        "id": "zzP_MQ3qrgWp"
      },
      "outputs": [
        {
          "name": "stdout",
          "output_type": "stream",
          "text": [
            "\u001b[1m1/1\u001b[0m \u001b[32m━━━━━━━━━━━━━━━━━━━━\u001b[0m\u001b[37m\u001b[0m \u001b[1m0s\u001b[0m 27ms/step\n"
          ]
        }
      ],
      "source": [
        "################### CODE HERE ########################\n",
        "# Calculate the predictions using the recently trained model.\n",
        "\n",
        "Y_pred2 = prediction_step(model2, X_test_pn)\n",
        "\n",
        "######################################################"
      ]
    },
    {
      "cell_type": "markdown",
      "metadata": {
        "id": "nagDYS2VrgWq"
      },
      "source": [
        "Let's plot the result of the prediction."
      ]
    },
    {
      "cell_type": "code",
      "execution_count": 45,
      "metadata": {
        "id": "P8u0ZXUtrgWq"
      },
      "outputs": [
        {
          "data": {
            "image/png": "[encoded data removed]",
            "text/plain": [
              "<Figure size 640x480 with 1 Axes>"
            ]
          },
          "metadata": {},
          "output_type": "display_data"
        }
      ],
      "source": [
        "plt.plot(X_test,Y_pred2,'x', color=\"red\")\n",
        "plt.plot(X_test,Y_test,'x', color=\"green\")\n",
        "plt.title('Training data')\n",
        "plt.xlabel('Change in water level (X)')\n",
        "plt.ylabel('Water floeing out of the dam (Y)')\n",
        "plt.legend(['Prediction', 'Test'])\n",
        "plt.show()"
      ]
    },
    {
      "cell_type": "markdown",
      "metadata": {
        "id": "hEQ8bvtargWr"
      },
      "source": [
        "You can see that the extended model gives a much better result, which fits our data much better. The result is also reflected in the metrics."
      ]
    },
    {
      "cell_type": "code",
      "execution_count": 46,
      "metadata": {
        "id": "1VLVwmncrgWr"
      },
      "outputs": [
        {
          "data": {
            "text/plain": [
              "<matplotlib.legend.Legend at 0x7790192d2b90>"
            ]
          },
          "execution_count": 46,
          "metadata": {},
          "output_type": "execute_result"
        },
        {
          "data": {
            "image/png": "[encoded data removed]",
            "text/plain": [
              "<Figure size 640x480 with 1 Axes>"
            ]
          },
          "metadata": {},
          "output_type": "display_data"
        }
      ],
      "source": [
        "# plotting the metrics\n",
        "fig = plt.figure()\n",
        "plt.plot(history2.history['loss'])\n",
        "plt.plot(history2.history['val_loss'])\n",
        "plt.title('Loss functions')\n",
        "plt.ylabel('loss')\n",
        "plt.xlabel('epoch')\n",
        "plt.legend(['Train loss', 'Validation loss'])"
      ]
    },
    {
      "cell_type": "markdown",
      "metadata": {
        "id": "at0rHeKjrgWr"
      },
      "source": [
        "Both the cost function of our training data and the cost function of our validation data were significantly lower than in our first attempt.\n",
        "\n",
        "<img src=\"https://github.com/Fortuz/edu_Adaptive/blob/main/practices/assets/Lab08/Pics/L08_HighBias.png?raw=1\" width=\"600\">"
      ]
    },
    {
      "cell_type": "markdown",
      "metadata": {
        "id": "WLiUiKIPrgWr"
      },
      "source": [
        "You can extend your model further and tune the hyperparameters, but be careful not to fall into the trap of over-learning, as in the model below.\n",
        "\n",
        "In our case, we chose too many input parameters and ran the learning that way."
      ]
    },
    {
      "cell_type": "code",
      "execution_count": 47,
      "metadata": {
        "id": "ZZ3prVHZrgWr"
      },
      "outputs": [],
      "source": [
        "#Overfit\n",
        "Lambda = 0\n",
        "lr_rate = 0.001\n",
        "epoch = 100\n",
        "order=12\n",
        "optim = optimizers.Adam(learning_rate=lr_rate)"
      ]
    },
    {
      "cell_type": "code",
      "execution_count": 48,
      "metadata": {
        "id": "niCuv5gWrgWr"
      },
      "outputs": [],
      "source": [
        "# Train\n",
        "X_train_p = polyFeatures(X_train, order)                                # polynomial features\n",
        "X_train_pn, mu, sigma = featureNormalize(X_train_p)                     # feature normalization\n",
        "\n",
        "# Validation\n",
        "X_val_p = polyFeatures(X_val, order)\n",
        "X_val_pn = (X_val_p-mu)/sigma\n",
        "\n",
        "# Test\n",
        "X_test_p = polyFeatures(X_test, order)\n",
        "X_test_pn = (X_test_p-mu)/sigma"
      ]
    },
    {
      "cell_type": "code",
      "execution_count": 49,
      "metadata": {
        "id": "DTY1y5d9rgWr"
      },
      "outputs": [],
      "source": [
        "# Building a linear stack of layers with the sequential model\n",
        "model3 = Sequential()\n",
        "model3.add(Dense(order, input_shape=(order,), use_bias=True, kernel_regularizer=regularizers.l2(Lambda)))\n",
        "model3.add(Dense(1))"
      ]
    },
    {
      "cell_type": "code",
      "execution_count": 51,
      "metadata": {
        "id": "t-sF6vs_rgWr"
      },
      "outputs": [
        {
          "name": "stdout",
          "output_type": "stream",
          "text": [
            "Epoch 1/100\n"
          ]
        },
        {
          "name": "stdout",
          "output_type": "stream",
          "text": [
            "1/1 - 0s - 206ms/step - loss: 269.2619 - val_loss: 298.9593\n",
            "Epoch 2/100\n",
            "1/1 - 0s - 36ms/step - loss: 263.6689 - val_loss: 292.7217\n",
            "Epoch 3/100\n",
            "1/1 - 0s - 38ms/step - loss: 258.2743 - val_loss: 286.6251\n",
            "Epoch 4/100\n",
            "1/1 - 0s - 38ms/step - loss: 253.0300 - val_loss: 280.6270\n",
            "Epoch 5/100\n",
            "1/1 - 0s - 36ms/step - loss: 247.8979 - val_loss: 274.6935\n",
            "Epoch 6/100\n",
            "1/1 - 0s - 37ms/step - loss: 242.8483 - val_loss: 268.7984\n",
            "Epoch 7/100\n",
            "1/1 - 0s - 36ms/step - loss: 237.8575 - val_loss: 262.9208\n",
            "Epoch 8/100\n",
            "1/1 - 0s - 36ms/step - loss: 232.9065 - val_loss: 257.0446\n",
            "Epoch 9/100\n",
            "1/1 - 0s - 36ms/step - loss: 227.9810 - val_loss: 251.1573\n",
            "Epoch 10/100\n",
            "1/1 - 0s - 38ms/step - loss: 223.0690 - val_loss: 245.2494\n",
            "Epoch 11/100\n",
            "1/1 - 0s - 35ms/step - loss: 218.1617 - val_loss: 239.3138\n",
            "Epoch 12/100\n",
            "1/1 - 0s - 33ms/step - loss: 213.2522 - val_loss: 233.3454\n",
            "Epoch 13/100\n",
            "1/1 - 0s - 34ms/step - loss: 208.3348 - val_loss: 227.3409\n",
            "Epoch 14/100\n",
            "1/1 - 0s - 35ms/step - loss: 203.4056 - val_loss: 221.2979\n",
            "Epoch 15/100\n",
            "1/1 - 0s - 34ms/step - loss: 198.4614 - val_loss: 215.2159\n",
            "Epoch 16/100\n",
            "1/1 - 0s - 34ms/step - loss: 193.5000 - val_loss: 209.0947\n",
            "Epoch 17/100\n",
            "1/1 - 0s - 33ms/step - loss: 188.5196 - val_loss: 202.9358\n",
            "Epoch 18/100\n",
            "1/1 - 0s - 34ms/step - loss: 183.5195 - val_loss: 196.7410\n",
            "Epoch 19/100\n",
            "1/1 - 0s - 33ms/step - loss: 178.4993 - val_loss: 190.5137\n",
            "Epoch 20/100\n",
            "1/1 - 0s - 33ms/step - loss: 173.4591 - val_loss: 184.2578\n",
            "Epoch 21/100\n",
            "1/1 - 0s - 35ms/step - loss: 168.3998 - val_loss: 177.9786\n",
            "Epoch 22/100\n",
            "1/1 - 0s - 34ms/step - loss: 163.3229 - val_loss: 171.6823\n",
            "Epoch 23/100\n",
            "1/1 - 0s - 34ms/step - loss: 158.2304 - val_loss: 165.3765\n",
            "Epoch 24/100\n",
            "1/1 - 0s - 33ms/step - loss: 153.1254 - val_loss: 159.0696\n",
            "Epoch 25/100\n",
            "1/1 - 0s - 33ms/step - loss: 148.0115 - val_loss: 152.7716\n",
            "Epoch 26/100\n",
            "1/1 - 0s - 34ms/step - loss: 142.8934 - val_loss: 146.4936\n",
            "Epoch 27/100\n",
            "1/1 - 0s - 35ms/step - loss: 137.7764 - val_loss: 140.2477\n",
            "Epoch 28/100\n",
            "1/1 - 0s - 34ms/step - loss: 132.6669 - val_loss: 134.0471\n",
            "Epoch 29/100\n",
            "1/1 - 0s - 34ms/step - loss: 127.5721 - val_loss: 127.9060\n",
            "Epoch 30/100\n",
            "1/1 - 0s - 34ms/step - loss: 122.4998 - val_loss: 121.8392\n",
            "Epoch 31/100\n",
            "1/1 - 0s - 34ms/step - loss: 117.4587 - val_loss: 115.8624\n",
            "Epoch 32/100\n",
            "1/1 - 0s - 33ms/step - loss: 112.4582 - val_loss: 109.9913\n",
            "Epoch 33/100\n",
            "1/1 - 0s - 33ms/step - loss: 107.5080 - val_loss: 104.2420\n",
            "Epoch 34/100\n",
            "1/1 - 0s - 34ms/step - loss: 102.6183 - val_loss: 98.6302\n",
            "Epoch 35/100\n",
            "1/1 - 0s - 33ms/step - loss: 97.7995 - val_loss: 93.1715\n",
            "Epoch 36/100\n",
            "1/1 - 0s - 33ms/step - loss: 93.0620 - val_loss: 87.8807\n",
            "Epoch 37/100\n",
            "1/1 - 0s - 33ms/step - loss: 88.4164 - val_loss: 82.7717\n",
            "Epoch 38/100\n",
            "1/1 - 0s - 34ms/step - loss: 83.8726 - val_loss: 77.8574\n",
            "Epoch 39/100\n",
            "1/1 - 0s - 33ms/step - loss: 79.4404 - val_loss: 73.1492\n",
            "Epoch 40/100\n",
            "1/1 - 0s - 32ms/step - loss: 75.1289 - val_loss: 68.6571\n",
            "Epoch 41/100\n",
            "1/1 - 0s - 32ms/step - loss: 70.9467 - val_loss: 64.3895\n",
            "Epoch 42/100\n",
            "1/1 - 0s - 32ms/step - loss: 66.9012 - val_loss: 60.3528\n",
            "Epoch 43/100\n",
            "1/1 - 0s - 35ms/step - loss: 62.9992 - val_loss: 56.5518\n",
            "Epoch 44/100\n",
            "1/1 - 0s - 33ms/step - loss: 59.2465 - val_loss: 52.9892\n",
            "Epoch 45/100\n",
            "1/1 - 0s - 33ms/step - loss: 55.6477 - val_loss: 49.6662\n",
            "Epoch 46/100\n",
            "1/1 - 0s - 32ms/step - loss: 52.2064 - val_loss: 46.5818\n",
            "Epoch 47/100\n",
            "1/1 - 0s - 32ms/step - loss: 48.9250 - val_loss: 43.7334\n",
            "Epoch 48/100\n",
            "1/1 - 0s - 32ms/step - loss: 45.8051 - val_loss: 41.1169\n",
            "Epoch 49/100\n",
            "1/1 - 0s - 32ms/step - loss: 42.8468 - val_loss: 38.7264\n",
            "Epoch 50/100\n",
            "1/1 - 0s - 35ms/step - loss: 40.0496 - val_loss: 36.5550\n",
            "Epoch 51/100\n",
            "1/1 - 0s - 33ms/step - loss: 37.4117 - val_loss: 34.5943\n",
            "Epoch 52/100\n",
            "1/1 - 0s - 33ms/step - loss: 34.9308 - val_loss: 32.8351\n",
            "Epoch 53/100\n",
            "1/1 - 0s - 34ms/step - loss: 32.6034 - val_loss: 31.2672\n",
            "Epoch 54/100\n",
            "1/1 - 0s - 35ms/step - loss: 30.4255 - val_loss: 29.8800\n",
            "Epoch 55/100\n",
            "1/1 - 0s - 37ms/step - loss: 28.3925 - val_loss: 28.6622\n",
            "Epoch 56/100\n",
            "1/1 - 0s - 34ms/step - loss: 26.4992 - val_loss: 27.6022\n",
            "Epoch 57/100\n",
            "1/1 - 0s - 34ms/step - loss: 24.7399 - val_loss: 26.6884\n",
            "Epoch 58/100\n",
            "1/1 - 0s - 33ms/step - loss: 23.1088 - val_loss: 25.9091\n",
            "Epoch 59/100\n",
            "1/1 - 0s - 33ms/step - loss: 21.5997 - val_loss: 25.2529\n",
            "Epoch 60/100\n",
            "1/1 - 0s - 33ms/step - loss: 20.2062 - val_loss: 24.7083\n",
            "Epoch 61/100\n",
            "1/1 - 0s - 33ms/step - loss: 18.9219 - val_loss: 24.2645\n",
            "Epoch 62/100\n",
            "1/1 - 0s - 33ms/step - loss: 17.7403 - val_loss: 23.9110\n",
            "Epoch 63/100\n",
            "1/1 - 0s - 33ms/step - loss: 16.6550 - val_loss: 23.6377\n",
            "Epoch 64/100\n",
            "1/1 - 0s - 36ms/step - loss: 15.6599 - val_loss: 23.4351\n",
            "Epoch 65/100\n",
            "1/1 - 0s - 34ms/step - loss: 14.7486 - val_loss: 23.2945\n",
            "Epoch 66/100\n",
            "1/1 - 0s - 33ms/step - loss: 13.9153 - val_loss: 23.2075\n",
            "Epoch 67/100\n",
            "1/1 - 0s - 33ms/step - loss: 13.1543 - val_loss: 23.1665\n",
            "Epoch 68/100\n",
            "1/1 - 0s - 33ms/step - loss: 12.4600 - val_loss: 23.1644\n",
            "Epoch 69/100\n",
            "1/1 - 0s - 35ms/step - loss: 11.8272 - val_loss: 23.1948\n",
            "Epoch 70/100\n",
            "1/1 - 0s - 34ms/step - loss: 11.2511 - val_loss: 23.2520\n",
            "Epoch 71/100\n",
            "1/1 - 0s - 33ms/step - loss: 10.7269 - val_loss: 23.3307\n",
            "Epoch 72/100\n",
            "1/1 - 0s - 33ms/step - loss: 10.2502 - val_loss: 23.4261\n",
            "Epoch 73/100\n",
            "1/1 - 0s - 33ms/step - loss: 9.8171 - val_loss: 23.5342\n",
            "Epoch 74/100\n",
            "1/1 - 0s - 33ms/step - loss: 9.4236 - val_loss: 23.6513\n",
            "Epoch 75/100\n",
            "1/1 - 0s - 33ms/step - loss: 9.0663 - val_loss: 23.7742\n",
            "Epoch 76/100\n",
            "1/1 - 0s - 33ms/step - loss: 8.7418 - val_loss: 23.9001\n",
            "Epoch 77/100\n",
            "1/1 - 0s - 33ms/step - loss: 8.4472 - val_loss: 24.0266\n",
            "Epoch 78/100\n",
            "1/1 - 0s - 33ms/step - loss: 8.1797 - val_loss: 24.1517\n",
            "Epoch 79/100\n",
            "1/1 - 0s - 33ms/step - loss: 7.9368 - val_loss: 24.2737\n",
            "Epoch 80/100\n",
            "1/1 - 0s - 34ms/step - loss: 7.7161 - val_loss: 24.3912\n",
            "Epoch 81/100\n",
            "1/1 - 0s - 33ms/step - loss: 7.5154 - val_loss: 24.5030\n",
            "Epoch 82/100\n",
            "1/1 - 0s - 33ms/step - loss: 7.3329 - val_loss: 24.6081\n",
            "Epoch 83/100\n",
            "1/1 - 0s - 34ms/step - loss: 7.1669 - val_loss: 24.7060\n",
            "Epoch 84/100\n",
            "1/1 - 0s - 34ms/step - loss: 7.0156 - val_loss: 24.7959\n",
            "Epoch 85/100\n",
            "1/1 - 0s - 33ms/step - loss: 6.8776 - val_loss: 24.8776\n",
            "Epoch 86/100\n",
            "1/1 - 0s - 33ms/step - loss: 6.7517 - val_loss: 24.9508\n",
            "Epoch 87/100\n",
            "1/1 - 0s - 33ms/step - loss: 6.6366 - val_loss: 25.0154\n",
            "Epoch 88/100\n",
            "1/1 - 0s - 33ms/step - loss: 6.5313 - val_loss: 25.0713\n",
            "Epoch 89/100\n",
            "1/1 - 0s - 35ms/step - loss: 6.4347 - val_loss: 25.1185\n",
            "Epoch 90/100\n",
            "1/1 - 0s - 33ms/step - loss: 6.3461 - val_loss: 25.1574\n",
            "Epoch 91/100\n",
            "1/1 - 0s - 33ms/step - loss: 6.2647 - val_loss: 25.1879\n",
            "Epoch 92/100\n",
            "1/1 - 0s - 33ms/step - loss: 6.1896 - val_loss: 25.2103\n",
            "Epoch 93/100\n",
            "1/1 - 0s - 33ms/step - loss: 6.1203 - val_loss: 25.2249\n",
            "Epoch 94/100\n",
            "1/1 - 0s - 34ms/step - loss: 6.0563 - val_loss: 25.2320\n",
            "Epoch 95/100\n",
            "1/1 - 0s - 33ms/step - loss: 5.9970 - val_loss: 25.2319\n",
            "Epoch 96/100\n",
            "1/1 - 0s - 33ms/step - loss: 5.9419 - val_loss: 25.2249\n",
            "Epoch 97/100\n",
            "1/1 - 0s - 33ms/step - loss: 5.8906 - val_loss: 25.2114\n",
            "Epoch 98/100\n",
            "1/1 - 0s - 33ms/step - loss: 5.8428 - val_loss: 25.1917\n",
            "Epoch 99/100\n",
            "1/1 - 0s - 33ms/step - loss: 5.7980 - val_loss: 25.1663\n",
            "Epoch 100/100\n",
            "1/1 - 0s - 33ms/step - loss: 5.7561 - val_loss: 25.1353\n"
          ]
        }
      ],
      "source": [
        "# compiling the sequential model\n",
        "optim = optimizers.SGD(learning_rate=lr_rate)\n",
        "model3.compile(loss='MSE', optimizer=optim)\n",
        "\n",
        "# training the model and saving metrics in history\n",
        "history3 = model3.fit(X_train_pn, Y_train, epochs=epoch, validation_data=(X_val_pn, Y_val), verbose = 2)"
      ]
    },
    {
      "cell_type": "code",
      "execution_count": 52,
      "metadata": {
        "id": "JgkbHv4prgWr"
      },
      "outputs": [
        {
          "name": "stdout",
          "output_type": "stream",
          "text": [
            "\u001b[1m1/1\u001b[0m \u001b[32m━━━━━━━━━━━━━━━━━━━━\u001b[0m\u001b[37m\u001b[0m \u001b[1m0s\u001b[0m 27ms/step\n"
          ]
        }
      ],
      "source": [
        "Y_pred3 = model3.predict(X_test_pn)"
      ]
    },
    {
      "cell_type": "code",
      "execution_count": 53,
      "metadata": {
        "id": "OJdu66PBrgWr"
      },
      "outputs": [
        {
          "data": {
            "image/png": "[encoded data removed]",
            "text/plain": [
              "<Figure size 640x480 with 1 Axes>"
            ]
          },
          "metadata": {},
          "output_type": "display_data"
        }
      ],
      "source": [
        "plt.plot(X_test,Y_pred3,'x', color=\"red\")\n",
        "plt.plot(X_test,Y_test,'x', color=\"green\")\n",
        "plt.title('Training data')\n",
        "plt.xlabel('Change in water level (X)')\n",
        "plt.ylabel('Water floeing out of the dam (Y)')\n",
        "plt.legend(['Prediction', 'Test'])\n",
        "plt.show()"
      ]
    },
    {
      "cell_type": "code",
      "execution_count": 54,
      "metadata": {
        "id": "pLqbBOLwrgWr"
      },
      "outputs": [
        {
          "data": {
            "text/plain": [
              "<matplotlib.legend.Legend at 0x779019047e50>"
            ]
          },
          "execution_count": 54,
          "metadata": {},
          "output_type": "execute_result"
        },
        {
          "data": {
            "image/png": "[encoded data removed]",
            "text/plain": [
              "<Figure size 640x480 with 1 Axes>"
            ]
          },
          "metadata": {},
          "output_type": "display_data"
        }
      ],
      "source": [
        "# plotting the metrics\n",
        "fig = plt.figure()\n",
        "plt.plot(history3.history['loss'])\n",
        "plt.plot(history3.history['val_loss'])\n",
        "plt.title('Loss functions')\n",
        "plt.ylabel('loss')\n",
        "plt.xlabel('epoch')\n",
        "plt.legend(['Train loss', 'Validation loss'])"
      ]
    },
    {
      "cell_type": "markdown",
      "metadata": {
        "id": "oxKR-_d3rgWr"
      },
      "source": [
        "It can be seen that the model learns too much on the training samples and after the 60th epoch the cost function of the training samples continues to decrease, but the result on the validation samples starts to deteriorate. This means that although the cost function of the training samples performs well below an expected level, the cost function of the validation and test samples will be well above the expected result. The \"scissors are open\", there will be a large gap between the two cost functions.\n",
        "\n",
        "<img src=\"https://github.com/Fortuz/edu_Adaptive/blob/main/practices/assets/Lab08/Pics/L08_HighVariance.png?raw=1\" width=\"600\">"
      ]
    },
    {
      "cell_type": "markdown",
      "metadata": {
        "id": "AXtg_LOFrgWr"
      },
      "source": [
        "### 5: Summary and Tips\n",
        "\n",
        "Underfitting (High Bias problem):\n",
        "- Adding more input parameters to the model (either independent or polynomial).\n",
        "- $\\lambda$ parameter reduction, i.e. less penalization.\n",
        "- Increase the epoch number.\n",
        "- Increase $\\alpha$ (learning rate).\n",
        "\n",
        "Overfitting (High Variance problem):\n",
        "- Less input parameter.\n",
        "- Increase the $\\lambda$ parameter, i.e. we penalize more.\n",
        "- More learning samples.\n",
        "- Reducing $\\alpha$ (learning rate)."
      ]
    },
    {
      "cell_type": "markdown",
      "metadata": {
        "id": "zJ4RbjjmrgWs"
      },
      "source": [
        "<div style=\"text-align: right\">This lab exercise uses elements from Andrew Ng's Machine Learning course.</div>"
      ]
    }
  ],
  "metadata": {
    "colab": {
      "provenance": []
    },
    "kernelspec": {
      "display_name": "Python 3",
      "language": "python",
      "name": "python3"
    },
    "language_info": {
      "codemirror_mode": {
        "name": "ipython",
        "version": 3
      },
      "file_extension": ".py",
      "mimetype": "text/x-python",
      "name": "python",
      "nbconvert_exporter": "python",
      "pygments_lexer": "ipython3",
      "version": "3.10.14"
    }
  },
  "nbformat": 4,
  "nbformat_minor": 0
}
