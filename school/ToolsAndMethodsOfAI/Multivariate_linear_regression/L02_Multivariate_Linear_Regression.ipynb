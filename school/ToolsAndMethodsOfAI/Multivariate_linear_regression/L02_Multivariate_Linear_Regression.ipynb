{
  "cells": [
    {
      "cell_type": "markdown",
      "metadata": {
        "id": "e_5umxLBgSPu"
      },
      "source": [
        "<img src=\"https://github.com/Fortuz/edu_Adaptive/blob/main/practices/assets/logo.png?raw=1\" width=\"800\">"
      ]
    },
    {
      "cell_type": "markdown",
      "metadata": {
        "id": "t3IkJX_WgSPu"
      },
      "source": [
        "Made by **Balázs Nagy** and **Márk Domokos**\n",
        "\n",
        "[<img src=\"https://github.com/Fortuz/edu_Adaptive/blob/main/practices/assets/open_button.png?raw=1\">](https://colab.research.google.com/github/Fortuz/edu_Adaptive/blob/main/practices/L02%20-%20Multivariate%20Linear%20Regression_solved.ipynb)\n",
        "\n",
        "# Labor 02: Multivariate linear regression\n",
        "\n",
        "### Property prices:\n",
        "\n",
        "In this exercise, we will extend our univariate linear regression model introduced in lab L01 to the multivariate linear regression case to estimate house prices.\n",
        "\n",
        "Suppose we want to sell a house, but we want to know the real value of the house so that we do not lose money on the sale. One possible way to do this is to collect data and then estimate the real estate market price of the house by building a model based on the data. Our data will be the area of the property ($m^2$) and the number of rooms (units), and the price ($) determined at the time of sale."
      ]
    },
    {
      "cell_type": "markdown",
      "metadata": {
        "id": "FsxvDPFZgSPv"
      },
      "source": [
        "### 1: Import the packages\n",
        "We will need:\n",
        "- NumPy for array management\n",
        "- MatPlotLib pyplot package for visualization\n",
        "- Pandas for data reading"
      ]
    },
    {
      "cell_type": "code",
      "execution_count": 1,
      "metadata": {
        "id": "gGccT046gSPv"
      },
      "outputs": [],
      "source": [
        "import numpy as np\n",
        "import matplotlib.pyplot as plt\n",
        "import pandas as pd"
      ]
    },
    {
      "cell_type": "markdown",
      "metadata": {
        "id": "ZivPGukwgSPw"
      },
      "source": [
        "### 2: Load data"
      ]
    },
    {
      "cell_type": "markdown",
      "metadata": {
        "id": "bsbtCz0NgSPw"
      },
      "source": [
        "The data will be loaded from a publicly available file. An alternative solution would be to upload the data file directly to the google colab file system."
      ]
    },
    {
      "cell_type": "code",
      "execution_count": 2,
      "metadata": {
        "id": "L2MSwa_UgSPw"
      },
      "outputs": [
        {
          "name": "stdout",
          "output_type": "stream",
          "text": [
            "--2024-10-25 08:18:08--  https://github.com/Fortuz/edu_Adaptive/raw/main/practices/assets/Lab02/Lab2data.txt\n",
            "Resolving github.com (github.com)... 140.82.121.3\n",
            "Connecting to github.com (github.com)|140.82.121.3|:443... connected.\n",
            "HTTP request sent, awaiting response... 302 Found\n",
            "Location: https://raw.githubusercontent.com/Fortuz/edu_Adaptive/main/practices/assets/Lab02/Lab2data.txt [following]\n",
            "--2024-10-25 08:18:08--  https://raw.githubusercontent.com/Fortuz/edu_Adaptive/main/practices/assets/Lab02/Lab2data.txt\n",
            "Resolving raw.githubusercontent.com (raw.githubusercontent.com)... 185.199.109.133, 185.199.110.133, 185.199.111.133, ...\n",
            "Connecting to raw.githubusercontent.com (raw.githubusercontent.com)|185.199.109.133|:443... connected.\n",
            "HTTP request sent, awaiting response... 200 OK\n",
            "Length: 657 [text/plain]\n",
            "Saving to: ‘Lab2data.txt.2’\n",
            "\n",
            "Lab2data.txt.2      100%[===================>]     657  --.-KB/s    in 0s      \n",
            "\n",
            "2024-10-25 08:18:08 (12.6 MB/s) - ‘Lab2data.txt.2’ saved [657/657]\n",
            "\n"
          ]
        }
      ],
      "source": [
        "!wget https://github.com/Fortuz/edu_Adaptive/raw/main/practices/assets/Lab02/Lab2data.txt"
      ]
    },
    {
      "cell_type": "markdown",
      "metadata": {
        "id": "Mh5eRYY-gSPw"
      },
      "source": [
        "Load in the data! Use the Pandas package to do this and then convert it into a numpy array. Visualize the data."
      ]
    },
    {
      "cell_type": "code",
      "execution_count": 3,
      "metadata": {
        "id": "vbrbb-WQgSPw"
      },
      "outputs": [
        {
          "name": "stdout",
          "output_type": "stream",
          "text": [
            "X: (47, 2)\n",
            "Y: (47, 1)\n",
            "Number of samples:  47\n",
            "[[2104    3]\n",
            " [1600    3]\n",
            " [2400    3]\n",
            " [1416    2]\n",
            " [3000    4]\n",
            " [1985    4]\n",
            " [1534    3]\n",
            " [1427    3]\n",
            " [1380    3]\n",
            " [1494    3]\n",
            " [1940    4]\n",
            " [2000    3]\n",
            " [1890    3]\n",
            " [4478    5]\n",
            " [1268    3]\n",
            " [2300    4]\n",
            " [1320    2]\n",
            " [1236    3]\n",
            " [2609    4]\n",
            " [3031    4]\n",
            " [1767    3]\n",
            " [1888    2]\n",
            " [1604    3]\n",
            " [1962    4]\n",
            " [3890    3]\n",
            " [1100    3]\n",
            " [1458    3]\n",
            " [2526    3]\n",
            " [2200    3]\n",
            " [2637    3]\n",
            " [1839    2]\n",
            " [1000    1]\n",
            " [2040    4]\n",
            " [3137    3]\n",
            " [1811    4]\n",
            " [1437    3]\n",
            " [1239    3]\n",
            " [2132    4]\n",
            " [4215    4]\n",
            " [2162    4]\n",
            " [1664    2]\n",
            " [2238    3]\n",
            " [2567    4]\n",
            " [1200    3]\n",
            " [ 852    2]\n",
            " [1852    4]\n",
            " [1203    3]]\n"
          ]
        }
      ],
      "source": [
        "data = pd.read_csv('Lab2data.txt',header = None).to_numpy()\n",
        "X = data[:,0:2]                                                # sort X\n",
        "m = X.shape[0]                                                 # number of samples\n",
        "Y = data[:,2].reshape(m,1)                                     # sort Y\n",
        "\n",
        "print('X:',X.shape)                                            # check the shapes\n",
        "print('Y:',Y.shape)\n",
        "print('Number of samples: ',m)\n",
        "print(X)"
      ]
    },
    {
      "cell_type": "markdown",
      "metadata": {
        "id": "Udun3onagSPx"
      },
      "source": [
        "### 3: Normalising values (Feature scaling & Mean normalization)\n",
        "\n",
        "The features of the data points may be in different magnitudes. In our case, it is easy to see that there is at least an order of magnitude difference between the area of the property and the number of rooms. In such cases, it is worth normalising our values so that they fall within the same order of magnitude and all input variables fall within the range of [-1..1] or [0..1] interval. This operation will promote convergence, as there will be no dominant variable present to suppress the effect of other variables. <br>\n",
        "For this we will use the following relationship:\n",
        "\n",
        "$ x = \\frac{x - mean(x)}{std(x)} $\n",
        "\n",
        ", with other words the mean of the samples is subtracted from a given sample (mean normalization) and divided by the standard deviation of the samples (feature scaling).\n",
        "\n",
        "Graphical meaning: around the origin makes it easier to find the line that covers our data according to our hypothesis. It is therefore useful to trasform our data into this region."
      ]
    },
    {
      "cell_type": "markdown",
      "metadata": {
        "id": "73P7E2IjgSPy"
      },
      "source": [
        "<img src=\"https://github.com/Fortuz/edu_Adaptive/blob/main/practices/assets/Lab02/Pics/L02_Scaling.png?raw=1\" width=\"350\">"
      ]
    },
    {
      "cell_type": "markdown",
      "metadata": {
        "id": "CjfIHMhagSPy"
      },
      "source": [
        "Create the normalizing function!"
      ]
    },
    {
      "cell_type": "code",
      "execution_count": 37,
      "metadata": {
        "id": "SVFRxdFkgSPy"
      },
      "outputs": [
        {
          "name": "stdout",
          "output_type": "stream",
          "text": [
            "Normalizing X vector ...\n",
            "Normalization done.\n"
          ]
        }
      ],
      "source": [
        "def featureNormalize(X):\n",
        "################### CODE HERE ########################\n",
        "# Calculate the normalized X vector.\n",
        "# To do so calculate the mean and standard deviation of the input data first.\n",
        "    x_mean = np.mean(X, axis=0)\n",
        "    x_std = np.std(X, axis=0, ddof=1) # ddof 1 - sample std (in case the population is bigger than we have access to), ddof 0 population (access to whole population) \n",
        "    X_norm = (X-x_mean) / x_std\n",
        "\n",
        "    # Ugly, useless, yet I dont like the var names of the original so\n",
        "    sigma = x_std\n",
        "    avg = x_mean\n",
        "######################################################\n",
        "    return X_norm, avg, sigma                            # return the formula based result\n",
        "\n",
        "print('Normalizing X vector ...')\n",
        "X_norm,avg,sigma = featureNormalize(X)                   # normalization\n",
        "X_norm=np.column_stack((np.ones(m),X_norm))              # add bias\n",
        "print('Normalization done.')"
      ]
    },
    {
      "cell_type": "markdown",
      "metadata": {
        "id": "h9IgZC3kgSPy"
      },
      "source": [
        "After normalization, the BIAS is added to the input X matrix."
      ]
    },
    {
      "cell_type": "markdown",
      "metadata": {
        "id": "tc6KNp2egSPy"
      },
      "source": [
        "### 4: Gradient based method\n",
        "Following the example of the previous exercise, we create the gradient method in multivariable form! Our data structure is as follows.\n",
        "\n",
        "<img src=\"https://github.com/Fortuz/edu_Adaptive/blob/main/practices/assets/Lab02/Pics/L02_Matrixok.png?raw=1\" width=\"500\">\n",
        "\n",
        "Here we have more features so the input vector is bigger, but everything will work as previously."
      ]
    },
    {
      "cell_type": "markdown",
      "metadata": {
        "id": "uvrW1CXrgSPz"
      },
      "source": [
        "The hypothesis function for the multivariate case can be written as follows:\n",
        "\n",
        "$ h_{w}(x)=w_0x_0+w_1x_1+w_2x_2+ ... +w_nx_n $ <br>\n",
        "\n",
        "And with matrix operations:"
      ]
    },
    {
      "cell_type": "markdown",
      "metadata": {
        "id": "VRv7sy0qgSPz"
      },
      "source": [
        "<img src=\"https://github.com/Fortuz/edu_Adaptive/blob/main/practices/assets/Lab02/Pics/L02_XW.png?raw=1\" width=\"550\">"
      ]
    },
    {
      "cell_type": "markdown",
      "metadata": {
        "id": "-xN4E33kgSPz"
      },
      "source": [
        "Formula of the cost function: <br>\n",
        "\n",
        "$ C(W)=C(w_0,w_1,...,w_n)=\\frac{1}{2m}\\sum_{i=1}^{m}(h_w(x^i)-y^i)^2 $\n",
        "\n",
        "Tip: When programming, take advantage of vector multiplication.\n",
        "\n",
        "<img src=\"https://github.com/Fortuz/edu_Adaptive/blob/main/practices/assets/Lab02/Pics/L02_Sum.png?raw=1\" width=\"550\">\n",
        "\n",
        "General weight update formula of the gradient method:\n",
        "\n",
        "$ \\color{red}{(j=0...n)}\\hspace{7mm} w_j:=w_j-\\mu\\frac{1}{2m}\\sum_{i=1}^{m}((h_w(x^i)-y^i)\\cdot x_j^i) $\n",
        "\n",
        "$\\color{red}{Pay\\ attention\\ to\\ the\\ simultaneous\\ update!}$\n",
        "\n",
        "Current matrix values are used to calculate the new updated matrix values. If a calculated value stored back in the matrix and this already updated value is used to calculate the next updated value in the same matrix it will result in a faulty calculation."
      ]
    },
    {
      "cell_type": "code",
      "execution_count": 5,
      "metadata": {
        "id": "VLupjNOVgSPz"
      },
      "outputs": [],
      "source": [
        "# Cost function\n",
        "def computeCostMulti(X,Y,W):\n",
        "    C=0   # To make sure there is nothing in this variable\n",
        "\n",
        "    ################### CODE HERE ########################\n",
        "    # Implement the cost function\n",
        "    error = np.sum((np.matmul(X,W) - Y)**2)\n",
        "    C = error / (2*X.shape[0])\n",
        "\n",
        "    #####################################################\n",
        "\n",
        "    return C"
      ]
    },
    {
      "cell_type": "code",
      "execution_count": 6,
      "metadata": {},
      "outputs": [
        {
          "name": "stdout",
          "output_type": "stream",
          "text": [
            "65591548106.45744\n"
          ]
        }
      ],
      "source": [
        "# cost func test\n",
        "W=np.zeros((3,1)) \n",
        "cost = computeCostMulti(X_norm,Y, W)\n",
        "print(cost) # runs, but kinda big loss"
      ]
    },
    {
      "cell_type": "code",
      "execution_count": 38,
      "metadata": {
        "id": "olAqwRUHgSPz"
      },
      "outputs": [],
      "source": [
        "# Gradient descent Method\n",
        "def gradientDescentMulti(X,Y,W,lr,epochs):\n",
        "\n",
        "    ################### CODE HERE ########################\n",
        "    # Implement the Gradient Descent algorithm for multiple variables\n",
        "    C_history = np.zeros((epochs,1))\n",
        "\n",
        "    for epoch in range(epochs):\n",
        "        C_history[epoch] = computeCostMulti(X,Y,W)\n",
        "        error = np.matmul(X,W)-Y\n",
        "        gradient = 1/(2*X.shape[0]) * np.matmul(np.transpose(X), error)\n",
        "\n",
        "        # NOTE - why 2* here? its after the derivation\n",
        "        W = W - lr * gradient\n",
        "\n",
        "    #####################################################\n",
        "\n",
        "    return W, C_history"
      ]
    },
    {
      "cell_type": "markdown",
      "metadata": {
        "id": "kgnWgW9igSPz"
      },
      "source": [
        "Let's try out the Gradient Descent algorithm with multiple variables."
      ]
    },
    {
      "cell_type": "code",
      "execution_count": 39,
      "metadata": {
        "id": "Y8cN4YTHgSPz"
      },
      "outputs": [
        {
          "name": "stdout",
          "output_type": "stream",
          "text": [
            "Running gradient descent ...\n",
            "Weights expected from gradient descent (approx.):\n",
            " [[340372.05039403]\n",
            " [109434.51046856]\n",
            " [ -5454.97874429 ]]\n",
            "\n",
            "Weights computed from gradient descent:\n",
            " [[340372.05039403]\n",
            " [108349.39234721]\n",
            " [ -5480.02640988]]\n",
            "\n",
            " Something not right. Please modify the function!\n"
          ]
        }
      ],
      "source": [
        "print('Running gradient descent ...')\n",
        "lr = 0.015                                                  # learning rate\n",
        "epochs = 1200                                               # number of epochs\n",
        "W=np.zeros((3,1))                                           # initial weights (0;0;0)\n",
        "W,C_history= gradientDescentMulti(X_norm,Y,W,lr,epochs)     # Use the Gradient Descent Method\n",
        "print('''Weights expected from gradient descent (approx.):\n",
        " [[340372.05039403]\n",
        " [109434.51046856]\n",
        " [ -5454.97874429 ]]\n",
        "''')\n",
        "print('Weights computed from gradient descent:\\n', W)\n",
        "\n",
        "if int(W[0,0]) == 340372 and int(W[1,0]) == 109434 and int(W[2,0]) == -5454:\n",
        "    print(\"\\n The gradientDescentMulti() function is good. You can proceed.\")\n",
        "else:\n",
        "    print(\"\\n Something not right. Please modify the function!\")"
      ]
    },
    {
      "cell_type": "markdown",
      "metadata": {
        "id": "ZAUL4NL0gSPz"
      },
      "source": [
        "Check the convergence with the help of a graph."
      ]
    },
    {
      "cell_type": "code",
      "execution_count": 40,
      "metadata": {
        "id": "1bTcYz5dgSP0"
      },
      "outputs": [
        {
          "data": {
            "image/png": "[encoded data removed]",
            "text/plain": [
              "<Figure size 640x480 with 1 Axes>"
            ]
          },
          "metadata": {},
          "output_type": "display_data"
        }
      ],
      "source": [
        "plt.plot(C_history)                                                                 # C_history plot\n",
        "plt.title(\"Gradient descent algorithm's effect through the iterations\",pad= 20)\n",
        "plt.xlabel(\"Iterations\")\n",
        "plt.ylabel(\"Cost function value\")\n",
        "plt.show()"
      ]
    },
    {
      "cell_type": "markdown",
      "metadata": {
        "id": "dZ3SWlN0gSP0"
      },
      "source": [
        "### 5: Prediction\n",
        "Let's estimate the price of a 1650 $m^2$, 3 bedroom property! Watch for the normalization of the data, which is also neccessary here. Use the previously calculated mean and sigma for the normalization."
      ]
    },
    {
      "cell_type": "code",
      "execution_count": 52,
      "metadata": {
        "id": "6xq2-XHqgSP0"
      },
      "outputs": [],
      "source": [
        "def predict(FEET, BED):\n",
        "\n",
        "    ################### CODE HERE ########################\n",
        "    # Predict the prize of a house given by the size (FEET) and number of bedrooms (BED)\n",
        "\n",
        "    # NOTE - feels weird to use global vars and non func vars inhere ngl, bit misleading\n",
        "\n",
        "    #norm\n",
        "    FEET = (FEET-avg[0])/sigma[0]\n",
        "    BED = (BED-avg[1])/sigma[1]\n",
        "\n",
        "    # pred\n",
        "    price = 1 * W[0] + FEET*W[1] + BED*W[2]\n",
        "\n",
        "\n",
        "    #####################################################\n",
        "\n",
        "    return price"
      ]
    },
    {
      "cell_type": "code",
      "execution_count": 53,
      "metadata": {
        "id": "YjTwCeoygSP0"
      },
      "outputs": [
        {
          "name": "stdout",
          "output_type": "stream",
          "text": [
            "Prediction for a 1650 sq-ft / 3 bedroom house:\n",
            "(predicted price should be approx. $293000) 293282.47\n"
          ]
        }
      ],
      "source": [
        "FEET = 1650\n",
        "BED = 3\n",
        "price = predict(FEET, BED)\n",
        "print('''Prediction for a 1650 sq-ft / 3 bedroom house:\n",
        "(predicted price should be approx. $293000) %.2f''' % price[0])"
      ]
    },
    {
      "cell_type": "markdown",
      "metadata": {
        "id": "WTOsSb56gSP0"
      },
      "source": [
        "## In a slightly different way: with high level packages"
      ]
    },
    {
      "cell_type": "code",
      "execution_count": 46,
      "metadata": {
        "id": "cwS5nCaJgSP1"
      },
      "outputs": [
        {
          "name": "stdout",
          "output_type": "stream",
          "text": [
            "Prediction for a 1650 sq-ft / 3 bedroom house:\n",
            " 293081.46\n"
          ]
        }
      ],
      "source": [
        "import pandas as pd\n",
        "from sklearn.linear_model import LinearRegression\n",
        "\n",
        "data = pd.read_csv('Lab2data.txt',header = None)\n",
        "\n",
        "X = data.iloc[:, 0:2].values.reshape(-1,2)                              # arrange X\n",
        "Y = data.iloc[:, 2].values.reshape(-1,1)                                # arrange Y\n",
        "\n",
        "lin_reg = LinearRegression()                                            # creation of a linear regression model class\n",
        "lin_reg.fit(X,Y)                                                        # fit based on X,Y\n",
        "\n",
        "pred = lin_reg.predict([[1650,3]])                                      # prediction for a house with 1650 m^2 and 3 bedrooms\n",
        "print('Prediction for a 1650 sq-ft / 3 bedroom house:\\n %.2f' % pred[0,0])"
      ]
    },
    {
      "cell_type": "markdown",
      "metadata": {
        "id": "iXg7klkQgSP1"
      },
      "source": [
        "<div style=\"text-align: right\">This lab exercise uses elements from Andrew Ng's Machine Learning course.</div>"
      ]
    }
  ],
  "metadata": {
    "colab": {
      "provenance": []
    },
    "kernelspec": {
      "display_name": "Python 3",
      "language": "python",
      "name": "python3"
    },
    "language_info": {
      "codemirror_mode": {
        "name": "ipython",
        "version": 3
      },
      "file_extension": ".py",
      "mimetype": "text/x-python",
      "name": "python",
      "nbconvert_exporter": "python",
      "pygments_lexer": "ipython3",
      "version": "3.8.10"
    }
  },
  "nbformat": 4,
  "nbformat_minor": 0
}
