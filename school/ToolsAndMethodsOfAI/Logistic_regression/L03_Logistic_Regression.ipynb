{
  "cells": [
    {
      "cell_type": "markdown",
      "metadata": {
        "id": "G57rZ1WjUm30"
      },
      "source": [
        "<img src=\"https://github.com/Fortuz/edu_Adaptive/blob/main/practices/assets/logo.png?raw=1\" width=\"800\">"
      ]
    },
    {
      "cell_type": "markdown",
      "metadata": {
        "id": "VubwAmXtUm31"
      },
      "source": [
        "Made by **Balázs Nagy** and **Márk Domokos**\n",
        "\n",
        "[<img src=\"https://github.com/Fortuz/edu_Adaptive/blob/main/practices/assets/open_button.png?raw=1\">](https://colab.research.google.com/github/Fortuz/edu_Adaptive/blob/main/practices/L03%20-%20Logistic%20Regression_solved.ipynb)\n",
        "\n",
        "# Labor 03: Logistic Regression\n",
        "### University admission:\n",
        "\n",
        "In this exercise, we will use logistic regression to predict the admission of a given student to the university.\n",
        "\n",
        "Suppose that we are university administrators and we want to determine the probability of a given applicant to be admitted successfully based on the results of two admission tests. We have at our disposal the results so far, labelled as to whether the student's application was successful or not.\n",
        "\n",
        "We can use this dataset for our logistic regression."
      ]
    },
    {
      "cell_type": "markdown",
      "metadata": {
        "id": "EYO--_sMUm32"
      },
      "source": [
        "### 1: Import the neccessary packages"
      ]
    },
    {
      "cell_type": "code",
      "execution_count": 1,
      "metadata": {
        "id": "t-dO9YauUm33"
      },
      "outputs": [],
      "source": [
        "import numpy as np\n",
        "import matplotlib.pyplot as plt\n",
        "import pandas as pd\n",
        "import math"
      ]
    },
    {
      "cell_type": "markdown",
      "metadata": {
        "id": "0zUy3oO5Um34"
      },
      "source": [
        "### 2: Load the data"
      ]
    },
    {
      "cell_type": "markdown",
      "metadata": {
        "id": "VQw4FGDTUm35"
      },
      "source": [
        "The data will be loaded from a publicly available file. An alternative solution would be to upload the data file directly to the google colab file system."
      ]
    },
    {
      "cell_type": "code",
      "execution_count": 2,
      "metadata": {
        "colab": {
          "base_uri": "https://localhost:8080/"
        },
        "id": "I_XhKkCsUm35",
        "outputId": "652f0e0e-3cf6-45e4-c699-9b38c1598819"
      },
      "outputs": [
        {
          "name": "stdout",
          "output_type": "stream",
          "text": [
            "--2024-11-09 09:46:49--  https://github.com/Fortuz/edu_Adaptive/raw/main/practices/assets/Lab03/Lab3data.txt\n",
            "Resolving github.com (github.com)... 140.82.121.4\n",
            "Connecting to github.com (github.com)|140.82.121.4|:443... connected.\n",
            "HTTP request sent, awaiting response... 302 Found\n",
            "Location: https://raw.githubusercontent.com/Fortuz/edu_Adaptive/main/practices/assets/Lab03/Lab3data.txt [following]\n",
            "--2024-11-09 09:46:50--  https://raw.githubusercontent.com/Fortuz/edu_Adaptive/main/practices/assets/Lab03/Lab3data.txt\n",
            "Resolving raw.githubusercontent.com (raw.githubusercontent.com)... 185.199.109.133, 185.199.110.133, 185.199.111.133, ...\n",
            "Connecting to raw.githubusercontent.com (raw.githubusercontent.com)|185.199.109.133|:443... connected.\n",
            "HTTP request sent, awaiting response... 200 OK\n",
            "Length: 3775 (3.7K) [text/plain]\n",
            "Saving to: ‘Lab3data.txt.1’\n",
            "\n",
            "Lab3data.txt.1      100%[===================>]   3.69K  --.-KB/s    in 0s      \n",
            "\n",
            "2024-11-09 09:46:50 (79.6 MB/s) - ‘Lab3data.txt.1’ saved [3775/3775]\n",
            "\n"
          ]
        }
      ],
      "source": [
        "!wget https://github.com/Fortuz/edu_Adaptive/raw/main/practices/assets/Lab03/Lab3data.txt"
      ]
    },
    {
      "cell_type": "markdown",
      "metadata": {
        "id": "dlCydnCWUm36"
      },
      "source": [
        "Load in the data! Use the Pandas package to do this and then convert it into a numpy array."
      ]
    },
    {
      "cell_type": "code",
      "execution_count": 3,
      "metadata": {
        "colab": {
          "base_uri": "https://localhost:8080/"
        },
        "id": "XIcqei3HUm36",
        "outputId": "9a73054f-4b48-4641-a4a4-d13fae49ca8f"
      },
      "outputs": [
        {
          "name": "stdout",
          "output_type": "stream",
          "text": [
            "X: (100, 2)\n",
            "Y: (100, 1)\n",
            "Number of data points: 100\n",
            "Number of features: 2\n"
          ]
        }
      ],
      "source": [
        "data = pd.read_csv('Lab3data.txt', header = None).to_numpy()\n",
        "X = data[:,0:2]                                                    # arrange X\n",
        "m,n = X.shape                                                      # m - number of data points | n - number of features\n",
        "Y = data[:,2].reshape(m,1)                                         # arrange Y\n",
        "del data                                                           # delete unnecessary data\n",
        "X_original = X\n",
        "\n",
        "print('X:', X.shape)                                               # print some helpful values\n",
        "print('Y:', Y.shape)\n",
        "print('Number of data points:',m)\n",
        "print('Number of features:',n)"
      ]
    },
    {
      "cell_type": "markdown",
      "metadata": {
        "id": "Sx1gaX-NUm36"
      },
      "source": [
        "### 3: Visualize the data"
      ]
    },
    {
      "cell_type": "markdown",
      "metadata": {
        "id": "_b8nxVZ3Um37"
      },
      "source": [
        "Let's vizualise the data set to understand it more."
      ]
    },
    {
      "cell_type": "code",
      "execution_count": null,
      "metadata": {
        "colab": {
          "base_uri": "https://localhost:8080/",
          "height": 472
        },
        "id": "r2OiyEcdUm37",
        "outputId": "00ba8630-9411-4e80-b361-78c19d92969b"
      },
      "outputs": [
        {
          "data": {
            "image/png": "[encoded data removed]",
            "text/plain": [
              "<Figure size 640x480 with 1 Axes>"
            ]
          },
          "metadata": {},
          "output_type": "display_data"
        }
      ],
      "source": [
        "def plotData(X,Y):\n",
        "    pos=[]                                                  # Admited - 1\n",
        "    neg=[]                                                  # Denied - 0\n",
        "\n",
        "    for i in range(0,Y.size):                               # Y is used to check whether the person has been admitted\n",
        "        if Y[i] ==0:                                        # if not then the given elements of X go to neg\n",
        "            neg.append(X[i,:])\n",
        "        elif Y[i] ==1:                                      # if yes then the given elements of X go to pos\n",
        "            pos.append(X[i,:])\n",
        "\n",
        "    neg = np.array(neg)\n",
        "    pos = np.array(pos)\n",
        "\n",
        "    plt.scatter(neg[:,0],neg[:,1],marker='x',c=\"r\", label=\"Not admitted\")\n",
        "    plt.scatter(pos[:,0],pos[:,1],marker='o',c=\"g\", label=\"Admitted\")\n",
        "    plt.title(\"Training data\")\n",
        "    plt.xlabel(\"Exam 1 score\")\n",
        "    plt.ylabel(\"Exam 2 score\")\n",
        "    plt.legend(loc='lower left')\n",
        "    plt.show()\n",
        "\n",
        "    return pos, neg\n",
        "\n",
        "pos,neg=plotData(X,Y)"
      ]
    },
    {
      "cell_type": "markdown",
      "metadata": {
        "id": "ItBx4_uwUm37"
      },
      "source": [
        "You can see that the two categories are quite distinct."
      ]
    },
    {
      "cell_type": "markdown",
      "metadata": {
        "id": "e47PUPRsUm37"
      },
      "source": [
        "### 4: Data preparation\n",
        "\n",
        "To do a Mean normalization and Feature scaling an the Data set is always a good idea. If the features located near the origo and have the same amplitude it can speed up convergence. Also not to forget to add the BIAS.\n",
        "\n",
        "##### Data normalization"
      ]
    },
    {
      "cell_type": "code",
      "execution_count": 5,
      "metadata": {
        "id": "IohVlwYMUm38"
      },
      "outputs": [],
      "source": [
        "def featureNormalization(X):\n",
        "    ################### CODE HERE ########################\n",
        "    # Implement the feature normalization function\n",
        "    # Calculate the mean and standard deviation of the data\n",
        "    # Normalize the X input data with the calculated variable\n",
        "    mean = np.mean(X, axis=0)\n",
        "    std = np.std(X, ddof=1, axis=0)\n",
        "    X_norm = (X-mean)/std\n",
        "    #####################################################\n",
        "    return X_norm,mean,std\n",
        "\n",
        "X,mean,std=featureNormalization(X)"
      ]
    },
    {
      "cell_type": "markdown",
      "metadata": {
        "id": "LZ8ZnyiBUm38"
      },
      "source": [
        "#### Add bias to the X matrix\n",
        "\n",
        "As we have done in the previous steps, we add a column of ones to the X matrix to preserve the axis intercept in our hypothesis (See L01 - L02)."
      ]
    },
    {
      "cell_type": "code",
      "execution_count": 6,
      "metadata": {
        "colab": {
          "base_uri": "https://localhost:8080/"
        },
        "id": "-e8n80vJUm38",
        "outputId": "58099554-cc53-4ee7-df49-d752ae79fd7b"
      },
      "outputs": [
        {
          "name": "stdout",
          "output_type": "stream",
          "text": [
            "(100, 3)\n",
            "[[ 1.         -1.59421626  0.63514139]\n",
            " [ 1.         -1.81710142 -1.20148852]\n",
            " [ 1.         -1.53132516  0.35948329]\n",
            " [ 1.         -0.28068724  1.08092281]\n",
            " [ 1.          0.68806193  0.49090485]\n",
            " [ 1.         -1.05667395 -0.53305397]\n",
            " [ 1.         -0.23319754  1.62997263]\n",
            " [ 1.          0.48208266 -1.05839822]\n",
            " [ 1.          0.53727995  1.14076409]\n",
            " [ 1.          0.96558389 -1.22094762]\n",
            " [ 1.          1.55293123 -1.50659457]\n",
            " [ 1.          0.48151286 -1.91675998]\n",
            " [ 1.          0.85633616  0.5521221 ]\n",
            " [ 1.          0.19119499  1.69493955]\n",
            " [ 1.         -1.34164029  0.528167  ]\n",
            " [ 1.         -0.59991204  1.23691656]\n",
            " [ 1.          0.17606285 -0.72548489]\n",
            " [ 1.          0.11833462 -1.05169521]\n",
            " [ 1.          0.25784655  1.43709044]\n",
            " [ 1.          0.58250489 -1.00340376]\n",
            " [ 1.          0.08879298 -1.25834541]\n",
            " [ 1.          1.23508208 -0.02274321]\n",
            " [ 1.         -0.77650905 -0.93453099]\n",
            " [ 1.         -1.61536921 -1.18456258]\n",
            " [ 1.          0.63108629  0.14800592]\n",
            " [ 1.         -0.17335912  0.20085581]\n",
            " [ 1.          0.74754551 -1.15162347]\n",
            " [ 1.          1.41174843 -1.47563084]\n",
            " [ 1.         -0.19601318 -0.85917648]\n",
            " [ 1.         -1.3803147  -0.06599211]\n",
            " [ 1.         -0.21918676  0.35440812]\n",
            " [ 1.          1.01552162 -0.49346829]\n",
            " [ 1.         -0.69565935 -0.16651835]\n",
            " [ 1.         -0.69887522  0.17278693]\n",
            " [ 1.         -1.30574006  0.26614689]\n",
            " [ 1.         -0.56578491 -0.75382208]\n",
            " [ 1.         -1.63061011  1.75686481]\n",
            " [ 1.         -0.07540695  0.79030479]\n",
            " [ 1.          0.46998018 -1.32642042]\n",
            " [ 1.         -1.61682982  0.48516534]\n",
            " [ 1.          0.93832414 -0.533502  ]\n",
            " [ 1.         -0.7244523  -1.04213173]\n",
            " [ 1.          1.48004752 -0.03514417]\n",
            " [ 1.          0.85950707 -1.37782069]\n",
            " [ 1.         -0.75014675 -1.0977525 ]\n",
            " [ 1.         -0.17584331 -0.7620498 ]\n",
            " [ 1.          0.59351572  0.2279638 ]\n",
            " [ 1.          1.65109252  1.1034851 ]\n",
            " [ 1.         -0.1835322   1.64382407]\n",
            " [ 1.          1.33212069  1.20941489]\n",
            " [ 1.          0.73493579  0.42733757]\n",
            " [ 1.          1.72822843 -0.28106485]\n",
            " [ 1.          1.27979009 -1.2286317 ]\n",
            " [ 1.         -1.59931158 -0.31349748]\n",
            " [ 1.         -0.78926932 -0.88347689]\n",
            " [ 1.         -0.82523453 -0.34510692]\n",
            " [ 1.          1.64461889  0.1420441 ]\n",
            " [ 1.         -1.69938823  1.58084768]\n",
            " [ 1.          0.44219956  0.19386618]\n",
            " [ 1.          0.31617421  0.65822025]\n",
            " [ 1.          0.50114226  1.05140003]\n",
            " [ 1.         -1.56017137 -1.03329432]\n",
            " [ 1.         -0.48259581 -1.45083358]\n",
            " [ 1.         -1.82881309 -0.89486188]\n",
            " [ 1.         -1.0780025   0.01227416]\n",
            " [ 1.          0.0471071  -1.35232166]\n",
            " [ 1.         -1.29440001  1.68506447]\n",
            " [ 1.         -0.85165595 -0.77161673]\n",
            " [ 1.          0.75213962  1.39344374]\n",
            " [ 1.          0.056657   -0.28147582]\n",
            " [ 1.         -1.69190384 -1.23312127]\n",
            " [ 1.         -0.08248203  0.63551783]\n",
            " [ 1.          0.34444155  1.61469866]\n",
            " [ 1.         -0.26653968  0.36985849]\n",
            " [ 1.         -0.34963717  0.51856873]\n",
            " [ 1.          1.75676808  0.33080372]\n",
            " [ 1.         -0.94458809  1.19755296]\n",
            " [ 1.         -0.78044716  0.51595401]\n",
            " [ 1.         -0.26665939 -1.27610534]\n",
            " [ 1.          0.85220465 -1.2647255 ]\n",
            " [ 1.          1.19587607  0.19274781]\n",
            " [ 1.          1.500149   -1.10466184]\n",
            " [ 1.          0.08608101  0.01976857]\n",
            " [ 1.         -0.43198025 -0.36096402]\n",
            " [ 1.          0.75662009  1.33124031]\n",
            " [ 1.          0.14514418  1.04248696]\n",
            " [ 1.         -1.21125246  0.67927328]\n",
            " [ 1.          0.50536107  1.30241745]\n",
            " [ 1.          0.66764323  1.6372913 ]\n",
            " [ 1.         -0.68332399 -0.29341637]\n",
            " [ 1.          1.46210978  0.5885613 ]\n",
            " [ 1.          1.27474528  1.14551161]\n",
            " [ 1.         -0.5222529  -1.64944586]\n",
            " [ 1.          0.4547393   1.00217167]\n",
            " [ 1.          1.24376895 -1.12274434]\n",
            " [ 1.          0.91708731 -0.96012057]\n",
            " [ 1.         -1.20168086  1.12372042]\n",
            " [ 1.          1.73041166  0.13740737]\n",
            " [ 1.         -0.52955796 -0.06942233]\n",
            " [ 1.          0.46929359  1.25426933]]\n"
          ]
        }
      ],
      "source": [
        "def addBIAS(X):\n",
        "    ################### CODE HERE ########################\n",
        "    # Implemet the add BIAS function\n",
        "    # Make sure the dimensions match\n",
        "    X_extended = np.concatenate([np.ones(X.shape[0])[:,np.newaxis], X], axis=1)\n",
        "\n",
        "    #####################################################\n",
        "    return X_extended\n",
        "\n",
        "X = addBIAS(X)\n",
        "print(X.shape)\n",
        "print(X)"
      ]
    },
    {
      "cell_type": "markdown",
      "metadata": {
        "id": "hI8BJI1DUm38"
      },
      "source": [
        "## 5: Model\n",
        "\n",
        "Befor we jump into the solution of the task in hand let's think it throuh what kind of model is needed here and what have we used so far.\n",
        "\n",
        "Since we are facing a classification problem, our linear regression model will not be fully adequate. Let's look at a simple example. We are trying to decide whether a tumour is lethal or not based on tumour size.\n",
        "\n",
        "<img src=\"https://github.com/Fortuz/edu_Adaptive/blob/main/practices/assets/Lab03/Pics/L03_Tumor.png?raw=1\" width=\"400\">\n",
        "\n",
        "If the method introduced so far is applied and fit a line using the following hypothesis.\n",
        "\n",
        "$ h_w(x)=XW $\n",
        "\n",
        "However, our line exceeds the range of [0,1] and is not precise enough. By then defining a limit for our fitted line, let it be 0.5, we can decide what our prediction will be.\n",
        "\n",
        "If $h_w(x)\\geq 0.5$, then \"y=1\", so it is lethal. <br>\n",
        "If $h_w(x)< 0.5$, then \"y=0\", so it is not lethal.  <br>\n",
        "\n",
        "However, our prediction may fall below 0 or above 1, which is unnecessary. It would be better to find a bounded hypothesis function that satisfies the following criterion.\n",
        "\n",
        "$0\\leq h_w(x) \\leq 1$\n",
        "\n",
        "Let us introduce the sigmoid function, which satisfies this criterion of being bounded on [0,1].\n",
        "\n",
        "Sigmoid:\n",
        "\n",
        "$ g(z) = \\frac{1}{1+e^{-z}} $\n",
        "\n",
        "<img src=\"https://github.com/Fortuz/edu_Adaptive/blob/main/practices/assets/Lab03/Pics/L03_Sigmoid.png?raw=1\" width=\"450\">\n",
        "\n",
        "Using the sigmoid function, we effectively assign a probability to each sample of the chance that the tumour size is lethal.\n",
        "\n",
        "$h_w(x)=P(y=1|X, W)$\n",
        "\n",
        "And we can extend our hypothesis as follows: <br>\n",
        "\n",
        "$ h_w(x) = g(XW) $ <br>\n",
        ", where $ g(XW) = \\frac{1}{1+e^{-XW}} $\n",
        "\n",
        "$g(XW)\\geq0.5$ <br>\n",
        "if $WX\\geq0$"
      ]
    },
    {
      "cell_type": "markdown",
      "metadata": {
        "id": "PmQYMVKaUm38"
      },
      "source": [
        "Let's look at two simple examples of classification using a sigmoid function. <br>\n",
        "\n",
        "#### Linear case:\n",
        "\n",
        "$ h_w(x)=g(w_01+w_1x_1+w_2x_2) $\n",
        "\n",
        "$w=[-3\\ 1\\ 1]$\n",
        "\n",
        "Prediction: $y=1$ ha $-3+x_1+x_2\\geq0$\n",
        "\n",
        "$x_1+x_2\\geq3$\n",
        "\n",
        "<img src=\"https://github.com/Fortuz/edu_Adaptive/blob/main/practices/assets/Lab03/Pics/L03_pelda_1.png?raw=1\" width=\"200\">\n",
        "\n",
        "#### Non-linear case:\n",
        "\n",
        "$ h_w(x)=g(w_01+w_1x_1+w_2x_2+w_3x_1^2+w_4x_2^2) $\n",
        "\n",
        "$w=[-1\\ 0\\ 0\\ 1\\ 1]$\n",
        "\n",
        "Prediction: $y=1$ ha $-1+x_1^2+x_2^2\\geq0$\n",
        "\n",
        "$x_1^2+x_2^2\\geq1$\n",
        "\n",
        "<img src=\"https://github.com/Fortuz/edu_Adaptive/blob/main/practices/assets/Lab03/Pics/L03_pelda_2.png?raw=1\" width=\"200\">"
      ]
    },
    {
      "cell_type": "markdown",
      "metadata": {
        "id": "K7R3LNfLUm38"
      },
      "source": [
        "Let's create a sigmoid function then test it for the following values: -6, 0, 6"
      ]
    },
    {
      "cell_type": "code",
      "execution_count": 7,
      "metadata": {
        "colab": {
          "base_uri": "https://localhost:8080/"
        },
        "id": "aYk-rTimUm38",
        "outputId": "d41ab0c0-15e1-4238-afdc-10975ce95117"
      },
      "outputs": [
        {
          "name": "stdout",
          "output_type": "stream",
          "text": [
            "Function return for value -6 : 0.002\n",
            "Function return for value  0 : 0.500\n",
            "Function return for value  6 : 0.998\n",
            "\n",
            " The sigmoid() function is good.\n"
          ]
        }
      ],
      "source": [
        "def sigmoid(z):\n",
        "    ################### CODE HERE ########################\n",
        "    # Implemet the sigmoid function\n",
        "    g = 1 / (1 + np.power(math.e,-z))\n",
        "\n",
        "\n",
        "    #####################################################\n",
        "    return g\n",
        "\n",
        "print('Function return for value -6 : %.3f' % sigmoid(-6))           # test for -6\n",
        "print('Function return for value  0 : %.3f' % sigmoid(0))            # test for 0\n",
        "print('Function return for value  6 : %.3f' % sigmoid(6))            # test for 6\n",
        "\n",
        "if sigmoid(-6) < 0.01 and sigmoid(0) == 0.5 and sigmoid(6) > 0.99:\n",
        "    print(\"\\n The sigmoid() function is good.\")\n",
        "else:\n",
        "    print(\"\\n Something wrong. Correct the sigmoid function!\")"
      ]
    },
    {
      "cell_type": "markdown",
      "metadata": {
        "id": "j2CFswxxUm39"
      },
      "source": [
        "### 6 Cost function\n",
        "Since we have changed our hypothesis function, we need to change the cost function we have been using. To adapt it to the task. The MSE introduced in our previous examples provided a reasonably smooth convergence, with our modified hypothesis it is not the best choice for solving classification problems as it will result in a non-convex function with many local mininmum points. The question is: can we find a cost function that can define a convex cost function in classification problems? On a convex function, our gradient method is much less likely to get stuck at a local minimum point.\n",
        "\n",
        "<img src=\"https://github.com/Fortuz/edu_Adaptive/blob/main/practices/assets/Lab03/Pics/L03_Costfunction.png?raw=1\" width=\"600\">\n",
        "\n",
        "Let:\n",
        "\n",
        "$ C(w) = {-log(h_w(x)),\\   if \\ y=1} $\n",
        "\n",
        "$ C(w) = {-log(1-h_w(x)),\\ if \\ y=0} $\n",
        "\n",
        "<img src=\"https://github.com/Fortuz/edu_Adaptive/blob/main/practices/assets/Lab03/Pics/L03_LogCost.png?raw=1\" width=\"300\">\n",
        "\n",
        "So we use the following relation as the cost function:\n",
        "\n",
        "$ C(w) = \\frac{1}{m} \\sum{-y^i\\cdot\\log(h_w(x^i))-(1-y^i)\\cdot\\log(1-h_w(x^i))} $\n",
        "\n",
        "\n",
        "### 7: Gradient Descent Algorithm\n",
        "Our aim remains to minimise the cost function. Descending the gradient is still a workable way of truncating the weights using the derivative of the cost function.\n",
        "\n",
        "$w_j:=w_j-\\mu\\frac{\\partial}{\\partial w_j}C(w)$\n",
        "\n",
        "The partial derivative of the cost function can be calculated in the usual way:\n",
        "\n",
        "$ \\frac{\\partial}{\\partial w_j}C(w)=\\frac{1}{m}\\sum_{i=1}^{m}(h_w(x^i)-y^i)\\cdot x_j^i $\n",
        "\n",
        "\n",
        "### Define the costFunction\n",
        "\n",
        "Write the definition of costFunction and test it with two values of w."
      ]
    },
    {
      "cell_type": "code",
      "execution_count": 8,
      "metadata": {
        "id": "5RBBQvCXUm39"
      },
      "outputs": [],
      "source": [
        "def costFunction(w,X,Y):\n",
        "    ################### CODE HERE ########################\n",
        "    # Implement the cost function calculation for a logistic regression task\n",
        "    h = sigmoid(np.matmul(X, w))\n",
        "    zero_class_loss = np.matmul(np.transpose(np.log(h)), -Y)\n",
        "    \"\"\"\n",
        "    test_zero_class_loss = np.matmul(np.transpose(-Y), np.log(h))\n",
        "    print(zero_class_loss == test_zero_class_loss)\n",
        "    \"\"\"\n",
        "    one_class_loss = np.matmul(np.transpose(np.log(1-h)), (1-Y))\n",
        "    C = np.sum((zero_class_loss - one_class_loss))/X.shape[0]\n",
        "    grad = np.matmul(np.transpose(h-Y), X) / X.shape[0]\n",
        "    ####################################################\n",
        "    return float(C), np.reshape(grad, (3,1))"
      ]
    },
    {
      "cell_type": "code",
      "execution_count": 9,
      "metadata": {
        "colab": {
          "base_uri": "https://localhost:8080/"
        },
        "id": "ORy2tgWYUm39",
        "outputId": "5370325e-fd22-47ab-c646-3c0da7a0b591"
      },
      "outputs": [
        {
          "name": "stdout",
          "output_type": "stream",
          "text": [
            "Cost and Gradient at initial weights (zeros):\n",
            "Expected cost (approx.): 0.693\n",
            "Computed: 0.6931471805599453\n",
            "Expected gradient(approx.):\n",
            " [[-0.1]\n",
            " [-0.28]\n",
            " [-0.25]]\n",
            "Computed:\n",
            " [[-0.1       ]\n",
            " [-0.27981946]\n",
            " [-0.24972806]]\n",
            "\n",
            "Test weights: [[-24  13  16]]\n",
            "Cost and Gradient  at test weights:\n",
            "Expected cost (approx.): 7.74\n",
            "Computed: 7.747803887700615\n",
            "Expected gradient(approx.):\n",
            " [[-0.44]\n",
            " [-0.14]\n",
            " [-0.06]]\n",
            "Computed:\n",
            " [[-0.44154019]\n",
            " [-0.14340547]\n",
            " [-0.06486541]]\n",
            "\n",
            "\n"
          ]
        }
      ],
      "source": [
        "initial_w = np.zeros(((n+1),1))                                             # initial weights (null vector)\n",
        "C1,grad1 = costFunction(initial_w,X,Y)                                      # test the cost function\n",
        "\n",
        "print('''Cost and Gradient at initial weights (zeros):\n",
        "Expected cost (approx.): 0.693\n",
        "Computed:''',C1)\n",
        "print('''Expected gradient(approx.):\n",
        " [[-0.1]\n",
        " [-0.28]\n",
        " [-0.25]]\n",
        "Computed:\\n''',grad1)\n",
        "\n",
        "test_w = np.array([[-24], [13], [16]])                                    # test weights [-24;0.2;0.2]\n",
        "C2, grad2 = costFunction(test_w,X,Y)                                      # test the cost function\n",
        "print('\\nTest weights:',test_w.transpose())\n",
        "print('''Cost and Gradient  at test weights:\n",
        "Expected cost (approx.): 7.74\n",
        "Computed:''',C2)\n",
        "print('''Expected gradient(approx.):\n",
        " [[-0.44]\n",
        " [-0.14]\n",
        " [-0.06]]\n",
        "Computed:\\n''',grad2)\n",
        "print('\\n')"
      ]
    },
    {
      "cell_type": "markdown",
      "metadata": {
        "id": "YSQbk20dUm39"
      },
      "source": [
        "### 8: Definition of the Gradient Descent Method\n",
        "\n",
        "We run the algorithm up to a certain number of iterations in the following test for better visualization."
      ]
    },
    {
      "cell_type": "code",
      "execution_count": 10,
      "metadata": {
        "id": "2I3IdxAgUm3-"
      },
      "outputs": [],
      "source": [
        "def gradientDescent(X,Y,w,learning_rate,num_iters):\n",
        "    C_history = []\n",
        "    ################### CODE HERE ########################\n",
        "    # Implement the Gradient Descent algorithm\n",
        "    for epoch in range(num_iters):\n",
        "      C, grad = costFunction(w, X, Y)\n",
        "      C_history.append(C)\n",
        "      w = w - (learning_rate*grad)\n",
        "    ####################################################\n",
        "    return w, np.array(C_history)"
      ]
    },
    {
      "cell_type": "markdown",
      "metadata": {
        "id": "gW8vg4fBUm3-"
      },
      "source": [
        "### 9: Trying out the gradient descent method for multiple learning rates"
      ]
    },
    {
      "cell_type": "code",
      "execution_count": 11,
      "metadata": {
        "colab": {
          "base_uri": "https://localhost:8080/",
          "height": 472
        },
        "id": "jZuGMXq6Um3-",
        "outputId": "517c189e-19b7-445e-f2fc-8176ea294dc1"
      },
      "outputs": [
        {
          "data": {
            "image/png": "[encoded data removed]",
            "text/plain": [
              "<Figure size 640x480 with 1 Axes>"
            ]
          },
          "metadata": {},
          "output_type": "display_data"
        }
      ],
      "source": [
        "w = np.array([[0],[0],[0]])     # initial weights\n",
        "epoch = 400\n",
        "\n",
        "w_a, C_history_a = gradientDescent(X,Y,w,0.01,epoch)\n",
        "plt.plot(range(C_history_a.size), C_history_a, label= \"learning r.:0.01\")\n",
        "\n",
        "w_b, C_history_b = gradientDescent(X,Y,w,0.1, epoch)\n",
        "plt.plot(range(C_history_b.size), C_history_b, label= \"learning r.:0.1\")\n",
        "\n",
        "w, C_history = gradientDescent(X,Y,w,1,epoch)\n",
        "plt.plot(range(C_history.size), C_history, label= \"learning r.:1\")\n",
        "\n",
        "plt.title(\"Effect of the different constants on the cost function\")\n",
        "plt.xlabel(\"Iteration\")\n",
        "plt.ylabel(\"Cost function value\")\n",
        "plt.legend()\n",
        "plt.show()"
      ]
    },
    {
      "cell_type": "markdown",
      "metadata": {
        "id": "zfkx8dQVUm3-"
      },
      "source": [
        "The graph above shows how the learning rate affected our results:<br>\n",
        "When the learning rate $(\\mu)$ is chosen to be small, convergence is slow. <br>\n",
        "As the learning rate $(\\mu)$ increases, convergence accelerates.<br>"
      ]
    },
    {
      "cell_type": "code",
      "execution_count": 12,
      "metadata": {
        "colab": {
          "base_uri": "https://localhost:8080/"
        },
        "id": "69MCf94jUm3-",
        "outputId": "673a60e1-348f-48a4-e9b8-7e0968e8de3b"
      },
      "outputs": [
        {
          "name": "stdout",
          "output_type": "stream",
          "text": [
            "The cost function at found weights by the gradient descent alg.:\n",
            "Expected (approx): 0.203\n",
            "Computed: 0.2036\n",
            "Weights expected (approx.):\n",
            "[1.658 3.883 3.619]\n",
            "Weights computed: \n",
            " [[1.6582185  3.88371249 3.61890756]]\n"
          ]
        }
      ],
      "source": [
        "print('''The cost function at found weights by the gradient descent alg.:\n",
        "Expected (approx): 0.203\n",
        "Computed: %.04f''' % C_history[-1])\n",
        "print('''Weights expected (approx.):\n",
        "[1.658 3.883 3.619]\n",
        "Weights computed: \\n''', w.transpose())"
      ]
    },
    {
      "cell_type": "markdown",
      "metadata": {
        "id": "7BqOQgdmUm3-"
      },
      "source": [
        "### 9: Visualization of the decision limit"
      ]
    },
    {
      "cell_type": "code",
      "execution_count": 13,
      "metadata": {
        "colab": {
          "base_uri": "https://localhost:8080/",
          "height": 472
        },
        "id": "UTfp352jUm3_",
        "outputId": "a1668a82-a617-4072-eced-def2091eb848"
      },
      "outputs": [
        {
          "data": {
            "image/png": "[encoded data removed]",
            "text/plain": [
              "<Figure size 640x480 with 1 Axes>"
            ]
          },
          "metadata": {},
          "output_type": "display_data"
        }
      ],
      "source": [
        "plt.scatter(pos[:,0],pos[:,1],c=\"g\", marker=\"o\",label=\"Admitted\")\n",
        "plt.scatter(neg[:,0],neg[:,1],c=\"r\",marker=\"x\",label=\"Not admitted\")\n",
        "\n",
        "Exam1_val     = np.array([min(X_original[:, 0])-2, max(X_original[:, 0]+2)])  # add two x values to the decision limit\n",
        "Exam1_norm = (Exam1_val - mean[0]) / std[0]\n",
        "Exam2_norm = (-w[0]-w[1]*Exam1_norm)/w[2]                                     # calculate the corresponding y\n",
        "Exam2_val     = (Exam2_norm * std[1]) + mean[1]\n",
        "\n",
        "plt.plot(Exam1_val,Exam2_val,\"k\")                                             # draw the decision boundary in black\n",
        "plt.title(\"Decision boundary and the training data\")\n",
        "plt.xlabel(\"Exam 1 score\")\n",
        "plt.ylabel(\"Exam 2 score\")\n",
        "plt.legend(loc=0)\n",
        "plt.show()"
      ]
    },
    {
      "cell_type": "markdown",
      "metadata": {
        "id": "OCyJh7cMUm3_"
      },
      "source": [
        "### 10: Prediction\n",
        "When calculating the prediction, we have to make sure that we perform the same operations on the sample as we did in the data preparation phase before the training. So if we have normalised our data, we must also normalise the new data and add the BIAS. Then we can use our saved weight vector to calculate our prediction."
      ]
    },
    {
      "cell_type": "code",
      "execution_count": 14,
      "metadata": {
        "colab": {
          "base_uri": "https://localhost:8080/",
          "height": 211
        },
        "id": "-uErcZFWUm3_",
        "outputId": "d1a933a9-8a0d-4da3-f49a-6d76d22a6d50"
      },
      "outputs": [
        {
          "name": "stdout",
          "output_type": "stream",
          "text": [
            "Expected result of the prediction with [45 , 85] (approx.):\n",
            "Accepted (1) with 0.767 possibility\n",
            "Predicted: 1 with 0.7676 possibility\n"
          ]
        },
        {
          "name": "stderr",
          "output_type": "stream",
          "text": [
            "/tmp/ipykernel_40942/1214902153.py:23: DeprecationWarning: Conversion of an array with ndim > 0 to a scalar is deprecated, and will error in future. Ensure you extract a single element from your array before performing this operation. (Deprecated NumPy 1.25.)\n",
            "  print('''Expected result of the prediction with [45 , 85] (approx.):\n"
          ]
        }
      ],
      "source": [
        "def predict(X):\n",
        "    ################### CODE HERE ########################\n",
        "    # Implement the prediction function.\n",
        "    # First normalize the data with the previously calculated mean and std\n",
        "    # Do not forget to add the BIAS\n",
        "    # Using a sigmoid function you can calculate the classification for each X\n",
        "    x_0 =  (X[..., 0]-mean[0])/std[0]\n",
        "    x_1 =  (X[..., 1]-mean[1])/std[1]\n",
        "    bias = np.ones(X.shape[0])\n",
        "    x_normed = np.stack((bias, x_0, x_1), axis=1)[..., np.newaxis]\n",
        "\n",
        "    h = sigmoid(np.matmul(np.transpose(w), x_normed))\n",
        "    p =  np.where(h < 0.5, 0, 1)\n",
        "\n",
        "\n",
        "\n",
        "    ######################################################\n",
        "    return p, h\n",
        "\n",
        "NewScore = np.array([[45,85]])\n",
        "pred, h =predict(NewScore)\n",
        "\n",
        "print('''Expected result of the prediction with [45 , 85] (approx.):\n",
        "Accepted (1) with 0.767 possibility\n",
        "Predicted: %.0f with %.4f possibility''' % (pred, h[0]))"
      ]
    },
    {
      "cell_type": "markdown",
      "metadata": {
        "id": "HkqZ4MvdUm3_"
      },
      "source": [
        "### 11: Accuracy\n",
        "Let's examine how our linear model performs when evaluating the original data. Calculate the accuracy of the algorithm. To do this, we can use the predict() function written earlier or we can evaluate all the samples in a batch."
      ]
    },
    {
      "cell_type": "code",
      "execution_count": 27,
      "metadata": {
        "id": "XOt1XvYrUm3_"
      },
      "outputs": [
        {
          "name": "stdout",
          "output_type": "stream",
          "text": [
            "89.0 % accuracy (approx. 89.0 % expected)\n"
          ]
        }
      ],
      "source": [
        "def calculateAccuracy():\n",
        "    ################### CODE HERE ########################\n",
        "    # Implement the accuracy calculation function.\n",
        "    # Calculate the prediction for each original X.\n",
        "    # If it is greater than 0.5 then positive otherwise negative.\n",
        "    # Compare the result with the elements of Y.\n",
        "    # And finally calculate a percentage to reflect the accuracy.\n",
        "    pred, _ = predict(X_original) # why global\n",
        "    accuracy = np.sum(pred.reshape(100, 1) == Y).flatten() / X_original.shape[0] * 100\n",
        "\n",
        "\n",
        "    ######################################################\n",
        "\n",
        "    return accuracy[0]\n",
        "\n",
        "\n",
        "print(float(calculateAccuracy()), '% accuracy (approx. 89.0 % expected)')"
      ]
    },
    {
      "cell_type": "markdown",
      "metadata": {
        "id": "1xqquD_-Um3_"
      },
      "source": [
        "## Implementation with high level packages"
      ]
    },
    {
      "cell_type": "code",
      "execution_count": 28,
      "metadata": {
        "id": "q7Ds_WylUm3_"
      },
      "outputs": [
        {
          "name": "stdout",
          "output_type": "stream",
          "text": [
            "Prediction for the approval: 1 \n",
            "The value of the probability: 0.7752856046030867\n",
            "Accuracy on the training data: 0.89\n"
          ]
        }
      ],
      "source": [
        "import pandas as pd\n",
        "import numpy as np\n",
        "from sklearn.linear_model import LogisticRegression\n",
        "\n",
        "data = pd.read_csv('Lab3data.txt', header = None)\n",
        "\n",
        "XX = data.iloc[:, 0:2].values.reshape(-1, 2)            # Separation of data\n",
        "YY = data.iloc[:, 2].values.reshape(-1,)                # LogReg fits to a 1d array\n",
        "\n",
        "logReg = LogisticRegression().fit(XX,YY)\n",
        "test = np.array([[45, 85]])\n",
        "pred = logReg.predict(test)                             # prediction\n",
        "pred_p = logReg.predict_proba(test)                     # probability of the prediction\n",
        "\n",
        "print(\"\"\"Prediction for the approval:\"\"\",int(pred[0]),\"\"\"\n",
        "The value of the probability:\"\"\",pred_p[0,1])\n",
        "\n",
        "acc = logReg.score(XX,YY)                               # calculate accuracy\n",
        "print('Accuracy on the training data:',acc)"
      ]
    },
    {
      "cell_type": "markdown",
      "metadata": {
        "id": "EckIzEmPUm4A"
      },
      "source": [
        "<div style=\"text-align: right\">This lab exercise uses elements from Andrew Ng's Machine Learning course.</div>"
      ]
    }
  ],
  "metadata": {
    "colab": {
      "provenance": []
    },
    "kernelspec": {
      "display_name": "Python 3",
      "language": "python",
      "name": "python3"
    },
    "language_info": {
      "codemirror_mode": {
        "name": "ipython",
        "version": 3
      },
      "file_extension": ".py",
      "mimetype": "text/x-python",
      "name": "python",
      "nbconvert_exporter": "python",
      "pygments_lexer": "ipython3",
      "version": "3.10.14"
    }
  },
  "nbformat": 4,
  "nbformat_minor": 0
}
