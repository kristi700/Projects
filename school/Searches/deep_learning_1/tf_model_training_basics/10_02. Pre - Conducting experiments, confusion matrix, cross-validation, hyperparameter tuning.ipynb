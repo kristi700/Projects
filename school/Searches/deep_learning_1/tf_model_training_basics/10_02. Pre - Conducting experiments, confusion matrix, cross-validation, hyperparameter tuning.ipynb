{
 "cells": [
  {
   "cell_type": "code",
   "execution_count": 1,
   "metadata": {
    "id": "7Kb8wTDwvLSH"
   },
   "outputs": [],
   "source": [
    "#@title MIT License\n",
    "#\n",
    "# Copyright (c) 2020 Balázs Pintér\n",
    "#\n",
    "# Permission is hereby granted, free of charge, to any person obtaining a\n",
    "# copy of this software and associated documentation files (the \"Software\"),\n",
    "# to deal in the Software without restriction, including without limitation\n",
    "# the rights to use, copy, modify, merge, publish, distribute, sublicense,\n",
    "# and/or sell copies of the Software, and to permit persons to whom the\n",
    "# Software is furnished to do so, subject to the following conditions:\n",
    "#\n",
    "# The above copyright notice and this permission notice shall be included in\n",
    "# all copies or substantial portions of the Software.\n",
    "#\n",
    "# THE SOFTWARE IS PROVIDED \"AS IS\", WITHOUT WARRANTY OF ANY KIND, EXPRESS OR\n",
    "# IMPLIED, INCLUDING BUT NOT LIMITED TO THE WARRANTIES OF MERCHANTABILITY,\n",
    "# FITNESS FOR A PARTICULAR PURPOSE AND NONINFRINGEMENT. IN NO EVENT SHALL\n",
    "# THE AUTHORS OR COPYRIGHT HOLDERS BE LIABLE FOR ANY CLAIM, DAMAGES OR OTHER\n",
    "# LIABILITY, WHETHER IN AN ACTION OF CONTRACT, TORT OR OTHERWISE, ARISING\n",
    "# FROM, OUT OF OR IN CONNECTION WITH THE SOFTWARE OR THE USE OR OTHER\n",
    "# DEALINGS IN THE SOFTWARE."
   ]
  },
  {
   "cell_type": "code",
   "execution_count": 2,
   "metadata": {
    "id": "NrajxLhmvLSN"
   },
   "outputs": [],
   "source": [
    "import numpy as np\n",
    "import matplotlib.pyplot as plt\n",
    "import sklearn\n",
    "from sklearn.datasets import fetch_20newsgroups\n",
    "from sklearn.feature_extraction.text import CountVectorizer, TfidfVectorizer\n",
    "from sklearn import svm\n",
    "from sklearn.model_selection import train_test_split, cross_val_score, KFold, ShuffleSplit, GridSearchCV, RandomizedSearchCV\n",
    "import nltk\n",
    "from nltk import word_tokenize\n",
    "import pandas as pd"
   ]
  },
  {
   "cell_type": "markdown",
   "metadata": {
    "id": "-QKuk227vLSO"
   },
   "source": [
    "# Getting a corpus"
   ]
  },
  {
   "cell_type": "code",
   "execution_count": 3,
   "metadata": {
    "id": "x42VB2yhvLSQ"
   },
   "outputs": [],
   "source": [
    "dataset = fetch_20newsgroups(shuffle=True, random_state=1,\n",
    "                             remove=('headers', 'footers', 'quotes'))"
   ]
  },
  {
   "cell_type": "markdown",
   "metadata": {
    "id": "urnTsfYYvLSS"
   },
   "source": [
    "## Obtain labeled examples"
   ]
  },
  {
   "cell_type": "code",
   "execution_count": 4,
   "metadata": {
    "id": "E8sd6WlyvLSS"
   },
   "outputs": [],
   "source": [
    "num_of_features = 5000\n",
    "num_of_examples = 10000"
   ]
  },
  {
   "cell_type": "code",
   "execution_count": 5,
   "metadata": {
    "id": "UxEIUxaIvLST"
   },
   "outputs": [],
   "source": [
    "count_vectorizer = CountVectorizer(stop_words='english', max_df=0.95, min_df=2, max_features=num_of_features)"
   ]
  },
  {
   "cell_type": "code",
   "execution_count": 6,
   "metadata": {
    "id": "481ZXivTvLSU"
   },
   "outputs": [],
   "source": [
    "corpus = dataset.data[:num_of_examples]"
   ]
  },
  {
   "cell_type": "code",
   "execution_count": 7,
   "metadata": {
    "id": "KYkpdd65vLSV"
   },
   "outputs": [
    {
     "name": "stdout",
     "output_type": "stream",
     "text": [
      "\n",
      "I've been a very intent NREN spectator of the NREN for years.  As a \n",
      "commercial IP software vendor, it really is my professional opinion that the \n",
      "NREN, at this point, is irrelevant to private sector networking.  If it had \n",
      "been deployed five years ago, it would have been a major development.  Now,\n",
      "however, it's just an upgrade to the NSFnet, and an attempt to revive the \n",
      "lagging use of the national supercomputer centers.  You could cut out the \n",
      "NSFnet completely, and the Internet would continue chugging along without a \n",
      "hiccup (aside from a few universities).\n",
      "\n",
      "Long-haul networking and Internet connectivity have long since ceased to be \n",
      "under federal sponsorship or regulation, at least in the USA.  The success of \n",
      "the CIX (Commercial Internet Exchange) is a prime example of this.  While our \n",
      "dear VP has been promoting his \"data superhighway,\" the private sector has \n",
      "been building it, without the NSFnet's restrictions.\n",
      "\n",
      "To illustrate, a connection from the machine on my desk to the machine your \n",
      "article was posted from (pizzabox.demon.co.uk) involves *only* commercial IP \n",
      "providers until it hits Amsterdam.  No NSFnet.  No NREN.  No \"appropriate \n",
      "use\" restrictions.  It's even 1.544mbps (T1) until it hits the EUnet \n",
      "gateway...\n",
      "\n",
      "QED.\n",
      "\n"
     ]
    }
   ],
   "source": [
    "print(corpus[100])"
   ]
  },
  {
   "cell_type": "code",
   "execution_count": 8,
   "metadata": {
    "id": "up1ejgsRvLSW"
   },
   "outputs": [
    {
     "data": {
      "text/plain": [
       "<Compressed Sparse Row sparse matrix of dtype 'int64'\n",
       "\twith 442850 stored elements and shape (10000, 5000)>"
      ]
     },
     "execution_count": 8,
     "metadata": {},
     "output_type": "execute_result"
    }
   ],
   "source": [
    "bows = count_vectorizer.fit_transform(corpus)\n",
    "bows"
   ]
  },
  {
   "cell_type": "code",
   "execution_count": 9,
   "metadata": {
    "id": "4cvLvpTOvLSX"
   },
   "outputs": [
    {
     "name": "stdout",
     "output_type": "stream",
     "text": [
      "1eq\n"
     ]
    }
   ],
   "source": [
    "vocabulary = count_vectorizer.get_feature_names_out()\n",
    "print(vocabulary[100])"
   ]
  },
  {
   "cell_type": "code",
   "execution_count": 10,
   "metadata": {
    "id": "OOlZ-5zpvLSd"
   },
   "outputs": [
    {
     "name": "stdout",
     "output_type": "stream",
     "text": [
      "<Compressed Sparse Row sparse matrix of dtype 'int64'\n",
      "\twith 51 stored elements and shape (1, 5000)>\n",
      "  Coords\tValues\n",
      "  (0, 2502)\t1\n",
      "  (0, 1195)\t1\n",
      "  (0, 560)\t1\n",
      "  (0, 4700)\t2\n",
      "  (0, 4983)\t2\n",
      "  (0, 555)\t1\n",
      "  (0, 2746)\t2\n",
      "  (0, 4179)\t1\n",
      "  (0, 1096)\t3\n",
      "  (0, 1338)\t1\n",
      "  (0, 3425)\t1\n",
      "  (0, 2400)\t3\n",
      "  (0, 4661)\t1\n",
      "  (0, 4698)\t1\n",
      "  (0, 2765)\t1\n",
      "  (0, 402)\t1\n",
      "  (0, 1720)\t1\n",
      "  (0, 3395)\t1\n",
      "  (0, 2700)\t2\n",
      "  (0, 1164)\t1\n",
      "  (0, 3514)\t1\n",
      "  (0, 837)\t1\n",
      "  (0, 4750)\t1\n",
      "  (0, 1725)\t1\n",
      "  (0, 3686)\t1\n",
      "  :\t:\n",
      "  (0, 3490)\t2\n",
      "  (0, 3028)\t1\n",
      "  (0, 2425)\t1\n",
      "  (0, 4746)\t1\n",
      "  (0, 1314)\t1\n",
      "  (0, 1451)\t1\n",
      "  (0, 1124)\t1\n",
      "  (0, 605)\t1\n",
      "  (0, 2198)\t2\n",
      "  (0, 2387)\t1\n",
      "  (0, 2419)\t2\n",
      "  (0, 3176)\t1\n",
      "  (0, 4009)\t2\n",
      "  (0, 3058)\t2\n",
      "  (0, 4692)\t1\n",
      "  (0, 945)\t1\n",
      "  (0, 1833)\t1\n",
      "  (0, 3739)\t1\n",
      "  (0, 4353)\t1\n",
      "  (0, 3476)\t1\n",
      "  (0, 1360)\t1\n",
      "  (0, 3822)\t2\n",
      "  (0, 1431)\t1\n",
      "  (0, 2416)\t1\n",
      "  (0, 1992)\t1\n"
     ]
    }
   ],
   "source": [
    "print(bows[100])"
   ]
  },
  {
   "cell_type": "code",
   "execution_count": 11,
   "metadata": {
    "id": "z09R9n0dzKW1"
   },
   "outputs": [
    {
     "data": {
      "text/plain": [
       "'\\nI\\'ve been a very intent NREN spectator of the NREN for years.  As a \\ncommercial IP software vendor, it really is my professional opinion that the \\nNREN, at this point, is irrelevant to private sector networking.  If it had \\nbeen deployed five years ago, it would have been a major development.  Now,\\nhowever, it\\'s just an upgrade to the NSFnet, and an attempt to revive the \\nlagging use of the national supercomputer centers.  You could cut out the \\nNSFnet completely, and the Internet would continue chugging along without a \\nhiccup (aside from a few universities).\\n\\nLong-haul networking and Internet connectivity have long since ceased to be \\nunder federal sponsorship or regulation, at least in the USA.  The success of \\nthe CIX (Commercial Internet Exchange) is a prime example of this.  While our \\ndear VP has been promoting his \"data superhighway,\" the private sector has \\nbeen building it, without the NSFnet\\'s restrictions.\\n\\nTo illustrate, a connection from the machine on my desk to the machine your \\narticle was posted from (pizzabox.demon.co.uk) involves *only* commercial IP \\nproviders until it hits Amsterdam.  No NSFnet.  No NREN.  No \"appropriate \\nuse\" restrictions.  It\\'s even 1.544mbps (T1) until it hits the EUnet \\ngateway...\\n\\nQED.\\n'"
      ]
     },
     "execution_count": 11,
     "metadata": {},
     "output_type": "execute_result"
    }
   ],
   "source": [
    "corpus[100]"
   ]
  },
  {
   "cell_type": "code",
   "execution_count": 12,
   "metadata": {
    "id": "J1McxcAtvLSd"
   },
   "outputs": [
    {
     "data": {
      "text/plain": [
       "matrix([[1, 1, 1, 2, 2, 1, 2, 1, 3, 1, 1, 3, 1, 1, 1, 1, 1, 1, 2, 1, 1,\n",
       "         1, 1, 1, 1, 1, 2, 1, 1, 1, 1, 1, 1, 1, 2, 1, 2, 1, 2, 2, 1, 1,\n",
       "         1, 1, 1, 1, 1, 2, 1, 1, 1]])"
      ]
     },
     "execution_count": 12,
     "metadata": {},
     "output_type": "execute_result"
    }
   ],
   "source": [
    "bows[100][bows[100].nonzero()]"
   ]
  },
  {
   "cell_type": "code",
   "execution_count": 13,
   "metadata": {
    "id": "Zejz-JHxvLSe"
   },
   "outputs": [
    {
     "name": "stdout",
     "output_type": "stream",
     "text": [
      "['just', 'continue', 'aside', 'use', 'years', 'article', 'machine', 'software', 'commercial', 'data', 'posted', 'internet', 'uk', 'usa', 'major', 'ago', 'example', 'point', 'long', 'connection', 'professional', 'building', 'vendor', 'exchange', 'really', 'appropriate', 'private', 'national', 'irrelevant', 've', 'cut', 'development', 'completely', 'attempt', 'hits', 'intent', 'ip', 'opinion', 'sector', 'networking', 'upgrade', 'centers', 'federal', 'regulation', 'success', 'prime', 'dear', 'restrictions', 'desk', 'involves', 'gateway']\n"
     ]
    }
   ],
   "source": [
    "print([vocabulary[ind] for ind in bows[100].nonzero()[1]])"
   ]
  },
  {
   "cell_type": "code",
   "execution_count": 14,
   "metadata": {
    "id": "zcDLctFcvLSe"
   },
   "outputs": [
    {
     "data": {
      "text/plain": [
       "['alt.atheism',\n",
       " 'comp.graphics',\n",
       " 'comp.os.ms-windows.misc',\n",
       " 'comp.sys.ibm.pc.hardware',\n",
       " 'comp.sys.mac.hardware',\n",
       " 'comp.windows.x',\n",
       " 'misc.forsale',\n",
       " 'rec.autos',\n",
       " 'rec.motorcycles',\n",
       " 'rec.sport.baseball',\n",
       " 'rec.sport.hockey',\n",
       " 'sci.crypt',\n",
       " 'sci.electronics',\n",
       " 'sci.med',\n",
       " 'sci.space',\n",
       " 'soc.religion.christian',\n",
       " 'talk.politics.guns',\n",
       " 'talk.politics.mideast',\n",
       " 'talk.politics.misc',\n",
       " 'talk.religion.misc']"
      ]
     },
     "execution_count": 14,
     "metadata": {},
     "output_type": "execute_result"
    }
   ],
   "source": [
    "dataset.target_names"
   ]
  },
  {
   "cell_type": "code",
   "execution_count": 15,
   "metadata": {
    "id": "iSCBJ7pZvLSf"
   },
   "outputs": [],
   "source": [
    "targets = dataset.target[:num_of_examples]"
   ]
  },
  {
   "cell_type": "code",
   "execution_count": 16,
   "metadata": {
    "id": "b1-tGPI9vLSf"
   },
   "outputs": [
    {
     "data": {
      "text/plain": [
       "array([17,  0, 17, 11, 10, 15,  4, 17, 13, 12])"
      ]
     },
     "execution_count": 16,
     "metadata": {},
     "output_type": "execute_result"
    }
   ],
   "source": [
    "targets[:10]"
   ]
  },
  {
   "cell_type": "code",
   "execution_count": 17,
   "metadata": {
    "id": "-Lc2nuhmvLSg"
   },
   "outputs": [
    {
     "data": {
      "text/plain": [
       "{np.int64(0),\n",
       " np.int64(1),\n",
       " np.int64(2),\n",
       " np.int64(3),\n",
       " np.int64(4),\n",
       " np.int64(5),\n",
       " np.int64(6),\n",
       " np.int64(7),\n",
       " np.int64(8),\n",
       " np.int64(9),\n",
       " np.int64(10),\n",
       " np.int64(11),\n",
       " np.int64(12),\n",
       " np.int64(13),\n",
       " np.int64(14),\n",
       " np.int64(15),\n",
       " np.int64(16),\n",
       " np.int64(17),\n",
       " np.int64(18),\n",
       " np.int64(19)}"
      ]
     },
     "execution_count": 17,
     "metadata": {},
     "output_type": "execute_result"
    }
   ],
   "source": [
    "set(targets)"
   ]
  },
  {
   "cell_type": "markdown",
   "metadata": {
    "id": "fx6ot1KkvLSg"
   },
   "source": [
    "## Produce training and test data"
   ]
  },
  {
   "cell_type": "markdown",
   "metadata": {
    "id": "V5fU4GXtty5X"
   },
   "source": [
    "TODO: Create and use a OneHotEncoder or the to_categorical function"
   ]
  },
  {
   "cell_type": "markdown",
   "metadata": {
    "id": "wytdm-YtuCeW"
   },
   "source": [
    "TODO: Split the test set using train_test_split"
   ]
  },
  {
   "cell_type": "markdown",
   "metadata": {
    "id": "cvhS0dfkuLBm"
   },
   "source": [
    "Tip: You need to convert sparse matrixes to np arrays to use them as input to the network (.to_array())"
   ]
  },
  {
   "cell_type": "code",
   "execution_count": 18,
   "metadata": {},
   "outputs": [
    {
     "name": "stderr",
     "output_type": "stream",
     "text": [
      "2024-11-19 14:16:10.874277: I tensorflow/core/util/port.cc:153] oneDNN custom operations are on. You may see slightly different numerical results due to floating-point round-off errors from different computation orders. To turn them off, set the environment variable `TF_ENABLE_ONEDNN_OPTS=0`.\n",
      "2024-11-19 14:16:10.874955: I external/local_xla/xla/tsl/cuda/cudart_stub.cc:32] Could not find cuda drivers on your machine, GPU will not be used.\n",
      "2024-11-19 14:16:10.877212: I external/local_xla/xla/tsl/cuda/cudart_stub.cc:32] Could not find cuda drivers on your machine, GPU will not be used.\n",
      "2024-11-19 14:16:10.882960: E external/local_xla/xla/stream_executor/cuda/cuda_fft.cc:477] Unable to register cuFFT factory: Attempting to register factory for plugin cuFFT when one has already been registered\n",
      "WARNING: All log messages before absl::InitializeLog() is called are written to STDERR\n",
      "E0000 00:00:1732025770.891723   32158 cuda_dnn.cc:8310] Unable to register cuDNN factory: Attempting to register factory for plugin cuDNN when one has already been registered\n",
      "E0000 00:00:1732025770.893970   32158 cuda_blas.cc:1418] Unable to register cuBLAS factory: Attempting to register factory for plugin cuBLAS when one has already been registered\n",
      "2024-11-19 14:16:10.903932: I tensorflow/core/platform/cpu_feature_guard.cc:210] This TensorFlow binary is optimized to use available CPU instructions in performance-critical operations.\n",
      "To enable the following instructions: AVX2 AVX_VNNI FMA, in other operations, rebuild TensorFlow with the appropriate compiler flags.\n"
     ]
    }
   ],
   "source": [
    "import tensorflow as tf\n",
    "from sklearn.model_selection import train_test_split"
   ]
  },
  {
   "cell_type": "code",
   "execution_count": 19,
   "metadata": {},
   "outputs": [
    {
     "name": "stderr",
     "output_type": "stream",
     "text": [
      "2024-11-19 14:16:11.952508: E external/local_xla/xla/stream_executor/cuda/cuda_driver.cc:152] failed call to cuInit: INTERNAL: CUDA error: Failed call to cuInit: UNKNOWN ERROR (303)\n"
     ]
    }
   ],
   "source": [
    "# onehotencoder\n",
    "depth = max(targets)\n",
    "one_hot = tf.one_hot(targets, depth).numpy()"
   ]
  },
  {
   "cell_type": "code",
   "execution_count": 20,
   "metadata": {},
   "outputs": [
    {
     "data": {
      "text/plain": [
       "(10000, 19)"
      ]
     },
     "execution_count": 20,
     "metadata": {},
     "output_type": "execute_result"
    }
   ],
   "source": [
    "one_hot.shape"
   ]
  },
  {
   "cell_type": "code",
   "execution_count": 21,
   "metadata": {},
   "outputs": [
    {
     "data": {
      "text/plain": [
       "scipy.sparse._csr.csr_matrix"
      ]
     },
     "execution_count": 21,
     "metadata": {},
     "output_type": "execute_result"
    }
   ],
   "source": [
    "type(bows)"
   ]
  },
  {
   "cell_type": "code",
   "execution_count": 34,
   "metadata": {},
   "outputs": [],
   "source": [
    "#traintestsplit\n",
    "X_train, X_test, y_train, y_test = train_test_split(\n",
    "  bows.todense() , one_hot , random_state=104,test_size=0.25, shuffle=True)"
   ]
  },
  {
   "cell_type": "markdown",
   "metadata": {
    "id": "wd--6FXFvLSj"
   },
   "source": [
    "## Classify and look at results"
   ]
  },
  {
   "cell_type": "markdown",
   "metadata": {
    "id": "9fT0Nf_duT0l"
   },
   "source": [
    "TODO: Create, compile, fit the model"
   ]
  },
  {
   "cell_type": "markdown",
   "metadata": {
    "id": "lsH2DGYoua4m"
   },
   "source": [
    "TODO: Evaluate the model on the test set"
   ]
  },
  {
   "cell_type": "code",
   "execution_count": 35,
   "metadata": {},
   "outputs": [],
   "source": [
    "model = tf.keras.models.Sequential([\n",
    "    tf.keras.layers.Input(shape=(5000,)), \n",
    "    tf.keras.layers.Dense(256, activation=tf.keras.activations.relu),\n",
    "    tf.keras.layers.Dense(128, activation=tf.keras.activations.relu),\n",
    "    tf.keras.layers.Dense(19, activation='softmax')\n",
    "])"
   ]
  },
  {
   "cell_type": "code",
   "execution_count": 36,
   "metadata": {},
   "outputs": [
    {
     "name": "stdout",
     "output_type": "stream",
     "text": [
      "(7500, 19)\n",
      "(7500, 5000)\n"
     ]
    }
   ],
   "source": [
    "y_train = np.array(y_train)\n",
    "X_train = np.array(X_train)\n",
    "\n",
    "\n",
    "assert X_train.size > 0, \"X_train is empty!\"\n",
    "assert y_train.size > 0, \"y_train is empty!\"\n",
    "\n",
    "print(y_train.shape)\n",
    "print(X_train.shape)"
   ]
  },
  {
   "cell_type": "code",
   "execution_count": 40,
   "metadata": {},
   "outputs": [
    {
     "name": "stdout",
     "output_type": "stream",
     "text": [
      "Epoch 1/10\n",
      "\u001b[1m211/211\u001b[0m \u001b[32m━━━━━━━━━━━━━━━━━━━━\u001b[0m\u001b[37m\u001b[0m \u001b[1m4s\u001b[0m 16ms/step - accuracy: 0.3742 - loss: 702.7924 - val_accuracy: 0.4360 - val_loss: 379.2150\n",
      "Epoch 2/10\n",
      "\u001b[1m211/211\u001b[0m \u001b[32m━━━━━━━━━━━━━━━━━━━━\u001b[0m\u001b[37m\u001b[0m \u001b[1m4s\u001b[0m 17ms/step - accuracy: 0.5328 - loss: 253.4762 - val_accuracy: 0.5547 - val_loss: 113.0280\n",
      "Epoch 3/10\n",
      "\u001b[1m211/211\u001b[0m \u001b[32m━━━━━━━━━━━━━━━━━━━━\u001b[0m\u001b[37m\u001b[0m \u001b[1m3s\u001b[0m 15ms/step - accuracy: 0.6779 - loss: 71.8092 - val_accuracy: 0.6200 - val_loss: 48.5627\n",
      "Epoch 4/10\n",
      "\u001b[1m211/211\u001b[0m \u001b[32m━━━━━━━━━━━━━━━━━━━━\u001b[0m\u001b[37m\u001b[0m \u001b[1m4s\u001b[0m 16ms/step - accuracy: 0.7690 - loss: 21.0207 - val_accuracy: 0.6640 - val_loss: 22.6173\n",
      "Epoch 5/10\n",
      "\u001b[1m211/211\u001b[0m \u001b[32m━━━━━━━━━━━━━━━━━━━━\u001b[0m\u001b[37m\u001b[0m \u001b[1m4s\u001b[0m 17ms/step - accuracy: 0.8173 - loss: 6.1022 - val_accuracy: 0.6960 - val_loss: 16.1676\n",
      "Epoch 6/10\n",
      "\u001b[1m211/211\u001b[0m \u001b[32m━━━━━━━━━━━━━━━━━━━━\u001b[0m\u001b[37m\u001b[0m \u001b[1m3s\u001b[0m 16ms/step - accuracy: 0.8387 - loss: 3.4693 - val_accuracy: 0.6853 - val_loss: 17.5953\n",
      "Epoch 7/10\n",
      "\u001b[1m211/211\u001b[0m \u001b[32m━━━━━━━━━━━━━━━━━━━━\u001b[0m\u001b[37m\u001b[0m \u001b[1m3s\u001b[0m 16ms/step - accuracy: 0.8364 - loss: 3.9770 - val_accuracy: 0.6867 - val_loss: 17.3463\n",
      "Epoch 8/10\n",
      "\u001b[1m211/211\u001b[0m \u001b[32m━━━━━━━━━━━━━━━━━━━━\u001b[0m\u001b[37m\u001b[0m \u001b[1m3s\u001b[0m 16ms/step - accuracy: 0.8297 - loss: 3.8278 - val_accuracy: 0.6800 - val_loss: 17.7758\n",
      "Epoch 9/10\n",
      "\u001b[1m211/211\u001b[0m \u001b[32m━━━━━━━━━━━━━━━━━━━━\u001b[0m\u001b[37m\u001b[0m \u001b[1m3s\u001b[0m 15ms/step - accuracy: 0.8368 - loss: 3.8895 - val_accuracy: 0.6747 - val_loss: 17.7215\n",
      "Epoch 10/10\n",
      "\u001b[1m211/211\u001b[0m \u001b[32m━━━━━━━━━━━━━━━━━━━━\u001b[0m\u001b[37m\u001b[0m \u001b[1m3s\u001b[0m 13ms/step - accuracy: 0.8351 - loss: 4.0207 - val_accuracy: 0.6933 - val_loss: 16.6838\n"
     ]
    },
    {
     "data": {
      "text/plain": [
       "<keras.src.callbacks.history.History at 0x745579ea9310>"
      ]
     },
     "execution_count": 40,
     "metadata": {},
     "output_type": "execute_result"
    }
   ],
   "source": [
    "model.compile(optimizer=tf.keras.optimizers.Adam(learning_rate=1e-5), loss='categorical_crossentropy', metrics=['accuracy'])\n",
    "model.fit(X_train, y_train, epochs=10, batch_size=32, validation_split=0.1)\n"
   ]
  },
  {
   "cell_type": "code",
   "execution_count": null,
   "metadata": {},
   "outputs": [],
   "source": []
  }
 ],
 "metadata": {
  "colab": {
   "provenance": []
  },
  "kernelspec": {
   "display_name": "Python 3",
   "language": "python",
   "name": "python3"
  },
  "language_info": {
   "codemirror_mode": {
    "name": "ipython",
    "version": 3
   },
   "file_extension": ".py",
   "mimetype": "text/x-python",
   "name": "python",
   "nbconvert_exporter": "python",
   "pygments_lexer": "ipython3",
   "version": "3.12.7"
  }
 },
 "nbformat": 4,
 "nbformat_minor": 0
}
