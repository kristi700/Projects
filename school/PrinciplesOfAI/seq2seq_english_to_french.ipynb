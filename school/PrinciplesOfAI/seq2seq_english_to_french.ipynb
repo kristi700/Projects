{
 "cells": [
  {
   "cell_type": "markdown",
   "metadata": {},
   "source": [
    "# DOWNLOADING DATA"
   ]
  },
  {
   "cell_type": "code",
   "execution_count": 1,
   "metadata": {},
   "outputs": [
    {
     "name": "stdout",
     "output_type": "stream",
     "text": [
      "Dataset URL: https://www.kaggle.com/datasets/devicharith/language-translation-englishfrench\n",
      "License(s): CC0-1.0\n",
      "Downloading language-translation-englishfrench.zip to /Projects/Projects/school/PrinciplesOfAI\n",
      " 57%|█████████████████████▋                | 2.00M/3.51M [00:00<00:00, 2.93MB/s]\n",
      "100%|██████████████████████████████████████| 3.51M/3.51M [00:00<00:00, 4.04MB/s]\n"
     ]
    }
   ],
   "source": [
    "!kaggle datasets download -d devicharith/language-translation-englishfrench"
   ]
  },
  {
   "cell_type": "code",
   "execution_count": 2,
   "metadata": {},
   "outputs": [
    {
     "name": "stdout",
     "output_type": "stream",
     "text": [
      "Archive:  language-translation-englishfrench.zip\n",
      "  inflating: language-translation-englishfrench/eng_-french.csv  \n"
     ]
    }
   ],
   "source": [
    "!unzip language-translation-englishfrench.zip -d language-translation-englishfrench"
   ]
  },
  {
   "cell_type": "markdown",
   "metadata": {},
   "source": [
    "# IMPORTS"
   ]
  },
  {
   "cell_type": "code",
   "execution_count": 3,
   "metadata": {},
   "outputs": [],
   "source": [
    "import pandas as pd"
   ]
  },
  {
   "cell_type": "markdown",
   "metadata": {},
   "source": [
    "# DATA EXPROLATION"
   ]
  },
  {
   "cell_type": "code",
   "execution_count": 25,
   "metadata": {},
   "outputs": [
    {
     "name": "stdout",
     "output_type": "stream",
     "text": [
      "Number of sentences: 175621\n",
      "Min words in english sentences: 1\n",
      "Min words in french sentences: 1\n",
      "Max words in english sentences: 44\n",
      "Max words in french sentences: 55\n",
      "Average words in english sentences: 6.161552433934438\n",
      "Average words in french sentences: 6.706669475746067\n"
     ]
    },
    {
     "data": {
      "text/html": [
       "<div>\n",
       "<style scoped>\n",
       "    .dataframe tbody tr th:only-of-type {\n",
       "        vertical-align: middle;\n",
       "    }\n",
       "\n",
       "    .dataframe tbody tr th {\n",
       "        vertical-align: top;\n",
       "    }\n",
       "\n",
       "    .dataframe thead th {\n",
       "        text-align: right;\n",
       "    }\n",
       "</style>\n",
       "<table border=\"1\" class=\"dataframe\">\n",
       "  <thead>\n",
       "    <tr style=\"text-align: right;\">\n",
       "      <th></th>\n",
       "      <th>English words/sentences</th>\n",
       "      <th>French words/sentences</th>\n",
       "    </tr>\n",
       "  </thead>\n",
       "  <tbody>\n",
       "    <tr>\n",
       "      <th>0</th>\n",
       "      <td>Hi.</td>\n",
       "      <td>Salut!</td>\n",
       "    </tr>\n",
       "    <tr>\n",
       "      <th>1</th>\n",
       "      <td>Run!</td>\n",
       "      <td>Cours !</td>\n",
       "    </tr>\n",
       "    <tr>\n",
       "      <th>2</th>\n",
       "      <td>Run!</td>\n",
       "      <td>Courez !</td>\n",
       "    </tr>\n",
       "    <tr>\n",
       "      <th>3</th>\n",
       "      <td>Who?</td>\n",
       "      <td>Qui ?</td>\n",
       "    </tr>\n",
       "    <tr>\n",
       "      <th>4</th>\n",
       "      <td>Wow!</td>\n",
       "      <td>Ça alors !</td>\n",
       "    </tr>\n",
       "  </tbody>\n",
       "</table>\n",
       "</div>"
      ],
      "text/plain": [
       "  English words/sentences French words/sentences\n",
       "0                     Hi.                 Salut!\n",
       "1                    Run!                Cours !\n",
       "2                    Run!               Courez !\n",
       "3                    Who?                  Qui ?\n",
       "4                    Wow!             Ça alors !"
      ]
     },
     "execution_count": 25,
     "metadata": {},
     "output_type": "execute_result"
    }
   ],
   "source": [
    "english_french_data = pd.read_csv('language-translation-englishfrench/eng_-french.csv', encoding='utf-8')\n",
    "print(f'Number of sentences: {len(english_french_data)}')\n",
    "english_sentence_words = english_french_data['English words/sentences'].apply(lambda x: len(str(x).split()))\n",
    "french_avg_sentence_words = english_french_data['French words/sentences'].apply(lambda x: len(str(x).split()))\n",
    "print(f'Min words in english sentences: {english_sentence_words.min()}')\n",
    "print(f'Min words in french sentences: {french_avg_sentence_words.min()}')\n",
    "print(f'Max words in english sentences: {english_sentence_words.max()}')\n",
    "print(f'Max words in french sentences: {french_avg_sentence_words.max()}')\n",
    "print(f'Average words in english sentences: {english_sentence_words.mean()}')\n",
    "print(f'Average words in french sentences: {french_avg_sentence_words.mean()}')\n",
    "english_french_data.head()"
   ]
  },
  {
   "cell_type": "code",
   "execution_count": 19,
   "metadata": {},
   "outputs": [
    {
     "name": "stdout",
     "output_type": "stream",
     "text": [
      "<class 'pandas.core.frame.DataFrame'>\n",
      "RangeIndex: 175621 entries, 0 to 175620\n",
      "Data columns (total 2 columns):\n",
      " #   Column                   Non-Null Count   Dtype \n",
      "---  ------                   --------------   ----- \n",
      " 0   English words/sentences  175621 non-null  object\n",
      " 1   French words/sentences   175621 non-null  object\n",
      "dtypes: object(2)\n",
      "memory usage: 2.7+ MB\n"
     ]
    }
   ],
   "source": [
    "english_french_data.info()"
   ]
  },
  {
   "cell_type": "code",
   "execution_count": null,
   "metadata": {},
   "outputs": [],
   "source": []
  }
 ],
 "metadata": {
  "kernelspec": {
   "display_name": "Python 3",
   "language": "python",
   "name": "python3"
  },
  "language_info": {
   "codemirror_mode": {
    "name": "ipython",
    "version": 3
   },
   "file_extension": ".py",
   "mimetype": "text/x-python",
   "name": "python",
   "nbconvert_exporter": "python",
   "pygments_lexer": "ipython3",
   "version": "3.10.14"
  }
 },
 "nbformat": 4,
 "nbformat_minor": 2
}
