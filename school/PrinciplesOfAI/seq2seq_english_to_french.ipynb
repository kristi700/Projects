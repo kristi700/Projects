{
 "cells": [
  {
   "cell_type": "markdown",
   "metadata": {},
   "source": [
    "# DOWNLOADING DATA"
   ]
  },
  {
   "cell_type": "code",
   "execution_count": 1,
   "metadata": {},
   "outputs": [],
   "source": [
    "# !kaggle datasets download -d devicharith/language-translation-englishfrench"
   ]
  },
  {
   "cell_type": "code",
   "execution_count": 2,
   "metadata": {},
   "outputs": [],
   "source": [
    "# !unzip language-translation-englishfrench.zip -d language-translation-englishfrench"
   ]
  },
  {
   "cell_type": "markdown",
   "metadata": {},
   "source": [
    "# IMPORTS"
   ]
  },
  {
   "cell_type": "code",
   "execution_count": 19,
   "metadata": {},
   "outputs": [],
   "source": [
    "import keras\n",
    "import numpy as np\n",
    "import pandas as pd\n",
    "import tensorflow as tf\n",
    "import matplotlib.pyplot as plt\n",
    "from tensorflow.keras import layers\n",
    "\n",
    "import os\n",
    "os.environ[\"CUDA_VISIBLE_DEVICES\"] = \"0\""
   ]
  },
  {
   "cell_type": "code",
   "execution_count": 4,
   "metadata": {},
   "outputs": [
    {
     "name": "stdout",
     "output_type": "stream",
     "text": [
      "Available GPUs: [PhysicalDevice(name='/physical_device:GPU:0', device_type='GPU')]\n"
     ]
    },
    {
     "name": "stderr",
     "output_type": "stream",
     "text": [
      "WARNING: All log messages before absl::InitializeLog() is called are written to STDERR\n",
      "I0000 00:00:1733052101.890325     801 cuda_executor.cc:1015] successful NUMA node read from SysFS had negative value (-1), but there must be at least one NUMA node, so returning NUMA node zero. See more at https://github.com/torvalds/linux/blob/v6.0/Documentation/ABI/testing/sysfs-bus-pci#L344-L355\n",
      "I0000 00:00:1733052101.915012     801 cuda_executor.cc:1015] successful NUMA node read from SysFS had negative value (-1), but there must be at least one NUMA node, so returning NUMA node zero. See more at https://github.com/torvalds/linux/blob/v6.0/Documentation/ABI/testing/sysfs-bus-pci#L344-L355\n",
      "I0000 00:00:1733052101.915137     801 cuda_executor.cc:1015] successful NUMA node read from SysFS had negative value (-1), but there must be at least one NUMA node, so returning NUMA node zero. See more at https://github.com/torvalds/linux/blob/v6.0/Documentation/ABI/testing/sysfs-bus-pci#L344-L355\n"
     ]
    }
   ],
   "source": [
    "print(\"Available GPUs:\", tf.config.list_physical_devices('GPU'))"
   ]
  },
  {
   "cell_type": "markdown",
   "metadata": {},
   "source": [
    "# DATA EXPROLATION"
   ]
  },
  {
   "cell_type": "code",
   "execution_count": 5,
   "metadata": {},
   "outputs": [
    {
     "name": "stdout",
     "output_type": "stream",
     "text": [
      "Number of sentences: 175621\n",
      "Min words in english sentences: 1\n",
      "Min words in french sentences: 1\n",
      "Max words in english sentences: 44\n",
      "Max words in french sentences: 55\n",
      "Average words in english sentences: 6.161552433934438\n",
      "Average words in french sentences: 6.706669475746067\n"
     ]
    },
    {
     "data": {
      "text/html": [
       "<div>\n",
       "<style scoped>\n",
       "    .dataframe tbody tr th:only-of-type {\n",
       "        vertical-align: middle;\n",
       "    }\n",
       "\n",
       "    .dataframe tbody tr th {\n",
       "        vertical-align: top;\n",
       "    }\n",
       "\n",
       "    .dataframe thead th {\n",
       "        text-align: right;\n",
       "    }\n",
       "</style>\n",
       "<table border=\"1\" class=\"dataframe\">\n",
       "  <thead>\n",
       "    <tr style=\"text-align: right;\">\n",
       "      <th></th>\n",
       "      <th>English words/sentences</th>\n",
       "      <th>French words/sentences</th>\n",
       "    </tr>\n",
       "  </thead>\n",
       "  <tbody>\n",
       "    <tr>\n",
       "      <th>0</th>\n",
       "      <td>Hi.</td>\n",
       "      <td>Salut!</td>\n",
       "    </tr>\n",
       "    <tr>\n",
       "      <th>1</th>\n",
       "      <td>Run!</td>\n",
       "      <td>Cours !</td>\n",
       "    </tr>\n",
       "    <tr>\n",
       "      <th>2</th>\n",
       "      <td>Run!</td>\n",
       "      <td>Courez !</td>\n",
       "    </tr>\n",
       "    <tr>\n",
       "      <th>3</th>\n",
       "      <td>Who?</td>\n",
       "      <td>Qui ?</td>\n",
       "    </tr>\n",
       "    <tr>\n",
       "      <th>4</th>\n",
       "      <td>Wow!</td>\n",
       "      <td>Ça alors !</td>\n",
       "    </tr>\n",
       "  </tbody>\n",
       "</table>\n",
       "</div>"
      ],
      "text/plain": [
       "  English words/sentences French words/sentences\n",
       "0                     Hi.                 Salut!\n",
       "1                    Run!                Cours !\n",
       "2                    Run!               Courez !\n",
       "3                    Who?                  Qui ?\n",
       "4                    Wow!             Ça alors !"
      ]
     },
     "execution_count": 5,
     "metadata": {},
     "output_type": "execute_result"
    }
   ],
   "source": [
    "english_french_data = pd.read_csv(\n",
    "    \"language-translation-englishfrench/eng_-french.csv\", encoding=\"utf-8\"\n",
    ")\n",
    "print(f\"Number of sentences: {len(english_french_data)}\")\n",
    "english_sentence_words = english_french_data[\"English words/sentences\"].apply(\n",
    "    lambda x: len(str(x).split())\n",
    ")\n",
    "french_avg_sentence_words = english_french_data[\"French words/sentences\"].apply(\n",
    "    lambda x: len(str(x).split())\n",
    ")\n",
    "print(f\"Min words in english sentences: {english_sentence_words.min()}\")\n",
    "print(f\"Min words in french sentences: {french_avg_sentence_words.min()}\")\n",
    "print(f\"Max words in english sentences: {english_sentence_words.max()}\")\n",
    "print(f\"Max words in french sentences: {french_avg_sentence_words.max()}\")\n",
    "print(f\"Average words in english sentences: {english_sentence_words.mean()}\")\n",
    "print(f\"Average words in french sentences: {french_avg_sentence_words.mean()}\")\n",
    "english_french_data.head()"
   ]
  },
  {
   "cell_type": "code",
   "execution_count": 6,
   "metadata": {},
   "outputs": [
    {
     "name": "stdout",
     "output_type": "stream",
     "text": [
      "<class 'pandas.core.frame.DataFrame'>\n",
      "RangeIndex: 175621 entries, 0 to 175620\n",
      "Data columns (total 2 columns):\n",
      " #   Column                   Non-Null Count   Dtype \n",
      "---  ------                   --------------   ----- \n",
      " 0   English words/sentences  175621 non-null  object\n",
      " 1   French words/sentences   175621 non-null  object\n",
      "dtypes: object(2)\n",
      "memory usage: 2.7+ MB\n"
     ]
    }
   ],
   "source": [
    "english_french_data.info()"
   ]
  },
  {
   "cell_type": "code",
   "execution_count": 7,
   "metadata": {},
   "outputs": [],
   "source": [
    "# shuffle the dataset as it was grouped from shortest to longest\n",
    "english_french_data = english_french_data.sample(frac=1).reset_index(drop=True)"
   ]
  },
  {
   "cell_type": "markdown",
   "metadata": {},
   "source": [
    "# Data pipeline"
   ]
  },
  {
   "cell_type": "code",
   "execution_count": 8,
   "metadata": {},
   "outputs": [],
   "source": [
    "sentences_en = english_french_data[\"English words/sentences\"].to_numpy()\n",
    "sentences_fr = english_french_data[\"French words/sentences\"].to_numpy()\n",
    "val_len = int(0.1 * len(english_french_data))\n",
    "\n",
    "sentences_en_train = sentences_en[:-val_len]\n",
    "sentences_fr_train = sentences_fr[:-val_len]\n",
    "\n",
    "sentences_en_val = sentences_en[-val_len:]\n",
    "sentences_fr_val = sentences_fr[-val_len:]"
   ]
  },
  {
   "cell_type": "code",
   "execution_count": 9,
   "metadata": {},
   "outputs": [],
   "source": [
    "def prepare_input_and_target(sentences_en, sentences_fr):\n",
    "    return (sentences_en, b\"<SOS> \" + sentences_fr), sentences_fr + b\" <EOS>\"\n",
    "\n",
    "\n",
    "def from_sentences_dataset(\n",
    "    sentences_en,\n",
    "    sentences_fr,\n",
    "    batch_size,\n",
    "):\n",
    "    dataset = tf.data.Dataset.from_tensor_slices((sentences_en, sentences_fr))\n",
    "    dataset = dataset.map(prepare_input_and_target, num_parallel_calls=tf.data.AUTOTUNE)\n",
    "    return dataset.batch(batch_size)"
   ]
  },
  {
   "cell_type": "code",
   "execution_count": 10,
   "metadata": {},
   "outputs": [
    {
     "name": "stderr",
     "output_type": "stream",
     "text": [
      "I0000 00:00:1733052102.153758     801 cuda_executor.cc:1015] successful NUMA node read from SysFS had negative value (-1), but there must be at least one NUMA node, so returning NUMA node zero. See more at https://github.com/torvalds/linux/blob/v6.0/Documentation/ABI/testing/sysfs-bus-pci#L344-L355\n",
      "I0000 00:00:1733052102.153918     801 cuda_executor.cc:1015] successful NUMA node read from SysFS had negative value (-1), but there must be at least one NUMA node, so returning NUMA node zero. See more at https://github.com/torvalds/linux/blob/v6.0/Documentation/ABI/testing/sysfs-bus-pci#L344-L355\n",
      "I0000 00:00:1733052102.154040     801 cuda_executor.cc:1015] successful NUMA node read from SysFS had negative value (-1), but there must be at least one NUMA node, so returning NUMA node zero. See more at https://github.com/torvalds/linux/blob/v6.0/Documentation/ABI/testing/sysfs-bus-pci#L344-L355\n",
      "I0000 00:00:1733052102.205094     801 cuda_executor.cc:1015] successful NUMA node read from SysFS had negative value (-1), but there must be at least one NUMA node, so returning NUMA node zero. See more at https://github.com/torvalds/linux/blob/v6.0/Documentation/ABI/testing/sysfs-bus-pci#L344-L355\n",
      "I0000 00:00:1733052102.205220     801 cuda_executor.cc:1015] successful NUMA node read from SysFS had negative value (-1), but there must be at least one NUMA node, so returning NUMA node zero. See more at https://github.com/torvalds/linux/blob/v6.0/Documentation/ABI/testing/sysfs-bus-pci#L344-L355\n",
      "I0000 00:00:1733052102.205311     801 cuda_executor.cc:1015] successful NUMA node read from SysFS had negative value (-1), but there must be at least one NUMA node, so returning NUMA node zero. See more at https://github.com/torvalds/linux/blob/v6.0/Documentation/ABI/testing/sysfs-bus-pci#L344-L355\n",
      "2024-12-01 11:21:42.205558: I tensorflow/core/common_runtime/gpu/gpu_device.cc:2021] Created device /job:localhost/replica:0/task:0/device:GPU:0 with 21958 MB memory:  -> device: 0, name: NVIDIA GeForce RTX 3090, pci bus id: 0000:01:00.0, compute capability: 8.6\n"
     ]
    }
   ],
   "source": [
    "train_dataset = from_sentences_dataset(sentences_en_train, sentences_fr_train, batch_size=128)\n",
    "val_dataset = from_sentences_dataset(sentences_en_val, sentences_fr_val,  batch_size=128)"
   ]
  },
  {
   "cell_type": "code",
   "execution_count": 11,
   "metadata": {},
   "outputs": [],
   "source": [
    "def prepare_dataset(\n",
    "    model,\n",
    "    train_dataset,\n",
    "    valid_dataset,\n",
    "):\n",
    "    model.vectorization_en.adapt(\n",
    "        train_dataset.map(\n",
    "            lambda sentences, target: sentences[0]\n",
    "        )\n",
    "    )\n",
    "    model.vectorization_fr.adapt(\n",
    "        train_dataset.map(\n",
    "            lambda sentences, target: sentences[1] + b\" <EOS>\"\n",
    "        )\n",
    "    )\n",
    "\n",
    "    train_dataset= train_dataset.map(\n",
    "        lambda sentences, target: (sentences, model.vectorization_fr(target))\n",
    "    ).prefetch(tf.data.AUTOTUNE)\n",
    "\n",
    "    valid_dataset= valid_dataset.map(\n",
    "        lambda sentences, target: (sentences, model.vectorization_fr(target))\n",
    "    ).prefetch(tf.data.AUTOTUNE)\n",
    "\n",
    "    return train_dataset, valid_dataset"
   ]
  },
  {
   "cell_type": "markdown",
   "metadata": {},
   "source": [
    "gpu doesnt work for tf in this docker, if training is rlly slow, look into it"
   ]
  },
  {
   "cell_type": "markdown",
   "metadata": {},
   "source": [
    "# Model"
   ]
  },
  {
   "cell_type": "code",
   "execution_count": 12,
   "metadata": {},
   "outputs": [],
   "source": [
    "class PositionalEncoding(layers.Layer):\n",
    "    def __init__(self, max_length, embedding_dim):\n",
    "        super().__init__()\n",
    "        if embedding_dim % 2 != 0:\n",
    "            raise ValueError(\"Embedding dimension must be an even number\")\n",
    "\n",
    "        positions = np.arange(max_length)\n",
    "        dimensions = np.arange(embedding_dim // 2)\n",
    "        angles = positions[:, np.newaxis] / (10000 ** (2 * dimensions / embedding_dim))\n",
    "        pos_encoding = np.zeros((max_length, embedding_dim))\n",
    "        pos_encoding[:, 0::2] = np.sin(angles)\n",
    "        pos_encoding[:, 1::2] = np.cos(angles)\n",
    "        self.positional_encoding = tf.constant(pos_encoding[np.newaxis, :, :], dtype=tf.float32)\n",
    "    \n",
    "    def call(self, inputs):\n",
    "        sequence_length = tf.shape(inputs)[1]\n",
    "        return inputs + self.positional_encoding[:, :sequence_length, :]"
   ]
  },
  {
   "cell_type": "code",
   "execution_count": 13,
   "metadata": {},
   "outputs": [],
   "source": [
    "class Encoder(layers.Layer):\n",
    "    def __init__(\n",
    "        self,\n",
    "        embed_size,\n",
    "        attention_heads,\n",
    "        dense_dim,\n",
    "        dropout_rate,\n",
    "        **kwargs\n",
    "    ):\n",
    "        super().__init__(**kwargs)\n",
    "        self.multi_head_attention = layers.MultiHeadAttention(\n",
    "            attention_heads, embed_size, dropout=dropout_rate\n",
    "        )\n",
    "        self.feed_forward = keras.Sequential(\n",
    "            [\n",
    "                layers.Dense(dense_dim, activation=\"relu\"),\n",
    "                layers.Dense(embed_size),\n",
    "                layers.Dropout(dropout_rate),\n",
    "            ]\n",
    "        )\n",
    "        self.add = layers.Add()\n",
    "        self.normalization = layers.LayerNormalization()\n",
    "\n",
    "    def call(self, x, mask=None):\n",
    "        skip_x= x\n",
    "        x = self.multi_head_attention(x, value=x, attention_mask=mask)\n",
    "        x = self.normalization(self.add([x, skip_x]))\n",
    "        skip_x = x\n",
    "        x = self.feed_forward(x)\n",
    "        return self.normalization(self.add([x, skip_x]))\n",
    "\n",
    "\n",
    "class Decoder(layers.Layer):\n",
    "    def __init__(\n",
    "        self,\n",
    "        embed_size,\n",
    "        attention_heads,\n",
    "        dense_dim,\n",
    "        dropout_rate,\n",
    "        **kwargs\n",
    "    ):\n",
    "        super().__init__(**kwargs)\n",
    "        self.masked_multi_head_attention = layers.MultiHeadAttention(\n",
    "            attention_heads, embed_size, dropout=dropout_rate\n",
    "        )\n",
    "        self.cross_attention = layers.MultiHeadAttention(\n",
    "            attention_heads, embed_size, dropout=dropout_rate\n",
    "        )\n",
    "        self.feed_forward = keras.Sequential(\n",
    "            [\n",
    "                layers.Dense(\n",
    "                    dense_dim, activation=\"relu\"),\n",
    "                layers.Dense(embed_size),\n",
    "                layers.Dropout(dropout_rate),\n",
    "            ]\n",
    "        )\n",
    "        self.add = layers.Add()\n",
    "        self.normalization = layers.LayerNormalization()\n",
    "\n",
    "    def call(self, inputs, mask=None):\n",
    "        decoder_mask, encoder_mask = mask\n",
    "        x, encoder_output = inputs\n",
    "        x_skip = x\n",
    "        x = self.masked_multi_head_attention(x, value=x, attention_mask=decoder_mask)\n",
    "        x = self.normalization(self.add([x, x_skip]))\n",
    "        x_skip = x\n",
    "        x = self.cross_attention(\n",
    "            x, value=encoder_output, attention_mask=encoder_mask\n",
    "        )\n",
    "        x = self.normalization(self.add([x, x_skip]))\n",
    "        x_skip = x\n",
    "        x = self.feed_forward(x)\n",
    "        return self.normalization(self.add([x, x_skip]))"
   ]
  },
  {
   "cell_type": "code",
   "execution_count": 14,
   "metadata": {},
   "outputs": [],
   "source": [
    "class Transformer(keras.Model):\n",
    "    def __init__(\n",
    "        self,\n",
    "        vocab_size=5000,\n",
    "        max_seq_len=50,\n",
    "        embed_size=256,\n",
    "        encoder_decoder=1,\n",
    "        attention_heads=8,\n",
    "        dense_dim=256,\n",
    "        dropout_rate=0.2,\n",
    "        **kwargs,\n",
    "    ):\n",
    "        super().__init__(**kwargs)\n",
    "        self.max_seq_len = max_seq_len\n",
    "\n",
    "        self.vectorization_en = layers.TextVectorization(\n",
    "            vocab_size, output_sequence_length=max_seq_len\n",
    "        )\n",
    "        self.vectorization_fr = layers.TextVectorization(\n",
    "            vocab_size, output_sequence_length=max_seq_len\n",
    "        )\n",
    "        self.encoder_embedding = layers.Embedding(\n",
    "            vocab_size, embed_size, mask_zero=True\n",
    "        )\n",
    "        self.decoder_embedding = layers.Embedding(\n",
    "            vocab_size, embed_size, mask_zero=True\n",
    "        )\n",
    "        self.positional_encoding = PositionalEncoding(max_seq_len, embed_size)\n",
    "        self.encoder_blocks = [\n",
    "            Encoder(embed_size, attention_heads, dense_dim, dropout_rate)\n",
    "            for _ in range(encoder_decoder)\n",
    "        ]\n",
    "        self.decoder_blocks = [\n",
    "            Decoder(embed_size, attention_heads, dense_dim, dropout_rate)\n",
    "            for _ in range(encoder_decoder)\n",
    "        ]\n",
    "        self.output_layer = layers.Dense(vocab_size, activation=\"softmax\")\n",
    "\n",
    "    def call(self, inputs):\n",
    "        encoder_inputs, decoder_inputs = inputs\n",
    "\n",
    "        encoder_input_ids = self.vectorization_en(encoder_inputs)\n",
    "        decoder_input_ids = self.vectorization_fr(decoder_inputs)\n",
    "        encoder_embeddings = self.encoder_embedding(encoder_input_ids)\n",
    "        decoder_embeddings = self.decoder_embedding(decoder_input_ids)\n",
    "        encoder_pos_embeddings = self.positional_encoding(encoder_embeddings)\n",
    "        decoder_pos_embeddings = self.positional_encoding(decoder_embeddings)\n",
    "\n",
    "        encoder_pad_mask = tf.math.not_equal(encoder_input_ids, 0)[:, tf.newaxis]\n",
    "        decoder_pad_mask = tf.math.not_equal(decoder_input_ids, 0)[:, tf.newaxis]\n",
    "        batch_max_len_decoder = tf.shape(decoder_embeddings)[1]\n",
    "        decoder_causal_mask = tf.linalg.band_part(\n",
    "            tf.ones((batch_max_len_decoder, batch_max_len_decoder), tf.bool), -1, 0\n",
    "        )\n",
    "        decoder_mask = decoder_causal_mask & decoder_pad_mask\n",
    "\n",
    "        x = encoder_pos_embeddings\n",
    "        for encoder_block in self.encoder_blocks:\n",
    "            x = encoder_block(x, mask=encoder_pad_mask)\n",
    "\n",
    "        encoder_output = x\n",
    "        x = decoder_pos_embeddings\n",
    "        for decoder_block in self.decoder_blocks:\n",
    "            x = decoder_block(\n",
    "                [x, encoder_output], mask=[decoder_mask, encoder_pad_mask]\n",
    "            )\n",
    "\n",
    "        return self.output_layer(x)"
   ]
  },
  {
   "cell_type": "code",
   "execution_count": 15,
   "metadata": {},
   "outputs": [
    {
     "name": "stderr",
     "output_type": "stream",
     "text": [
      "2024-12-01 11:21:44.712507: I tensorflow/core/framework/local_rendezvous.cc:404] Local rendezvous is aborting with status: OUT_OF_RANGE: End of sequence\n",
      "2024-12-01 11:21:46.983465: I tensorflow/core/framework/local_rendezvous.cc:404] Local rendezvous is aborting with status: OUT_OF_RANGE: End of sequence\n"
     ]
    }
   ],
   "source": [
    "model = Transformer()\n",
    "train_dataset, val_dataset = prepare_dataset(model, train_dataset, val_dataset)"
   ]
  },
  {
   "cell_type": "code",
   "execution_count": 16,
   "metadata": {},
   "outputs": [
    {
     "name": "stdout",
     "output_type": "stream",
     "text": [
      "Epoch 1/10\n"
     ]
    },
    {
     "name": "stderr",
     "output_type": "stream",
     "text": [
      "/usr/local/lib/python3.11/dist-packages/keras/src/layers/layer.py:932: UserWarning: Layer 'positional_encoding' (of type PositionalEncoding) was passed an input with a mask attached to it. However, this layer does not support masking and will therefore destroy the mask information. Downstream layers will not see the mask.\n",
      "  warnings.warn(\n"
     ]
    },
    {
     "name": "stdout",
     "output_type": "stream",
     "text": [
      "\u001b[1m1235/1235\u001b[0m \u001b[32m━━━━━━━━━━━━━━━━━━━━\u001b[0m\u001b[37m\u001b[0m \u001b[1m54s\u001b[0m 40ms/step - accuracy: 0.8598 - loss: 1.1049 - val_accuracy: 0.9005 - val_loss: 0.5630\n",
      "Epoch 2/10\n",
      "\u001b[1m1235/1235\u001b[0m \u001b[32m━━━━━━━━━━━━━━━━━━━━\u001b[0m\u001b[37m\u001b[0m \u001b[1m50s\u001b[0m 41ms/step - accuracy: 0.9016 - loss: 0.5456 - val_accuracy: 0.9065 - val_loss: 0.5002\n",
      "Epoch 3/10\n",
      "\u001b[1m1235/1235\u001b[0m \u001b[32m━━━━━━━━━━━━━━━━━━━━\u001b[0m\u001b[37m\u001b[0m \u001b[1m51s\u001b[0m 41ms/step - accuracy: 0.9067 - loss: 0.4953 - val_accuracy: 0.9081 - val_loss: 0.4857\n",
      "Epoch 4/10\n",
      "\u001b[1m1235/1235\u001b[0m \u001b[32m━━━━━━━━━━━━━━━━━━━━\u001b[0m\u001b[37m\u001b[0m \u001b[1m51s\u001b[0m 41ms/step - accuracy: 0.9084 - loss: 0.4818 - val_accuracy: 0.9088 - val_loss: 0.4813\n",
      "Epoch 5/10\n",
      "\u001b[1m1235/1235\u001b[0m \u001b[32m━━━━━━━━━━━━━━━━━━━━\u001b[0m\u001b[37m\u001b[0m \u001b[1m51s\u001b[0m 41ms/step - accuracy: 0.9089 - loss: 0.4777 - val_accuracy: 0.9089 - val_loss: 0.4801\n",
      "Epoch 6/10\n",
      "\u001b[1m1235/1235\u001b[0m \u001b[32m━━━━━━━━━━━━━━━━━━━━\u001b[0m\u001b[37m\u001b[0m \u001b[1m51s\u001b[0m 41ms/step - accuracy: 0.9090 - loss: 0.4766 - val_accuracy: 0.9090 - val_loss: 0.4797\n",
      "Epoch 7/10\n",
      "\u001b[1m1235/1235\u001b[0m \u001b[32m━━━━━━━━━━━━━━━━━━━━\u001b[0m\u001b[37m\u001b[0m \u001b[1m51s\u001b[0m 41ms/step - accuracy: 0.9090 - loss: 0.4762 - val_accuracy: 0.9090 - val_loss: 0.4796\n",
      "Epoch 8/10\n",
      "\u001b[1m1235/1235\u001b[0m \u001b[32m━━━━━━━━━━━━━━━━━━━━\u001b[0m\u001b[37m\u001b[0m \u001b[1m51s\u001b[0m 41ms/step - accuracy: 0.9090 - loss: 0.4761 - val_accuracy: 0.9090 - val_loss: 0.4796\n",
      "Epoch 9/10\n",
      "\u001b[1m1235/1235\u001b[0m \u001b[32m━━━━━━━━━━━━━━━━━━━━\u001b[0m\u001b[37m\u001b[0m \u001b[1m51s\u001b[0m 41ms/step - accuracy: 0.9090 - loss: 0.4761 - val_accuracy: 0.9090 - val_loss: 0.4796\n",
      "Epoch 10/10\n",
      "\u001b[1m1235/1235\u001b[0m \u001b[32m━━━━━━━━━━━━━━━━━━━━\u001b[0m\u001b[37m\u001b[0m \u001b[1m51s\u001b[0m 41ms/step - accuracy: 0.9090 - loss: 0.4761 - val_accuracy: 0.9090 - val_loss: 0.4796\n"
     ]
    }
   ],
   "source": [
    "scheduled_lr = keras.optimizers.schedules.ExponentialDecay(initial_learning_rate=1e-3, decay_steps=100, decay_rate=0.9)\n",
    "\n",
    "model.compile(\n",
    "    loss=\"sparse_categorical_crossentropy\",\n",
    "    optimizer = tf.keras.optimizers.Adam(learning_rate=scheduled_lr),\n",
    "    metrics=[\"accuracy\"],\n",
    ")\n",
    "\n",
    "history = model.fit(train_dataset, epochs=10, validation_data=val_dataset)"
   ]
  },
  {
   "cell_type": "code",
   "execution_count": 24,
   "metadata": {},
   "outputs": [
    {
     "data": {
      "image/png": "[encoded data removed]",
      "text/plain": [
       "<Figure size 640x480 with 1 Axes>"
      ]
     },
     "metadata": {},
     "output_type": "display_data"
    },
    {
     "data": {
      "image/png": "[encoded data removed]",
      "text/plain": [
       "<Figure size 640x480 with 1 Axes>"
      ]
     },
     "metadata": {},
     "output_type": "display_data"
    }
   ],
   "source": [
    "history_dict = history.history\n",
    "\n",
    "plt.figure()\n",
    "plt.plot(history_dict['loss'], label='Training loss')\n",
    "plt.plot(history_dict['val_loss'], label='Validation loss')\n",
    "plt.title('Training and validation loss')\n",
    "plt.xlabel('epochs')\n",
    "plt.ylabel('loss')\n",
    "plt.legend()\n",
    "plt.figure()\n",
    "plt.plot(history_dict['accuracy'], label='Training accuracy')\n",
    "plt.plot(history_dict['val_accuracy'], label='Validation accuracy')\n",
    "plt.title('Training and validation accuracy')\n",
    "plt.xlabel('epochs')\n",
    "plt.ylabel('accuracy')\n",
    "plt.legend()\n",
    "\n",
    "plt.show()"
   ]
  }
 ],
 "metadata": {
  "kernelspec": {
   "display_name": "Python 3",
   "language": "python",
   "name": "python3"
  },
  "language_info": {
   "codemirror_mode": {
    "name": "ipython",
    "version": 3
   },
   "file_extension": ".py",
   "mimetype": "text/x-python",
   "name": "python",
   "nbconvert_exporter": "python",
   "pygments_lexer": "ipython3",
   "version": "3.11.0rc1"
  }
 },
 "nbformat": 4,
 "nbformat_minor": 2
}
